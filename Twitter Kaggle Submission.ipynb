{
  "cells": [
    {
      "cell_type": "markdown",
      "metadata": {
        "id": "KkwCKaY4S1rd"
      },
      "source": [
        "# Overview"
      ]
    },
    {
      "cell_type": "markdown",
      "metadata": {
        "id": "TvP4rDZ_S6Ol"
      },
      "source": [
        "## Description\n",
        "Here we will train a Neural Network Model to predict if tweets are about real disasters or not."
      ]
    },
    {
      "cell_type": "markdown",
      "metadata": {
        "id": "5milhMuZSrvB"
      },
      "source": [
        "# Necessary Imports"
      ]
    },
    {
      "cell_type": "code",
      "execution_count": null,
      "metadata": {
        "id": "rE7VLXAuSix0"
      },
      "outputs": [],
      "source": [
        "# Import the libraries we'll use below.\n",
        "from sklearn.model_selection import train_test_split # splits test/train data\n",
        "from matplotlib import pyplot as plt\n",
        "import numpy as np\n",
        "import pandas as pd\n",
        "import seaborn as sns  # for nicer plots\n",
        "import plotly.graph_objs as plotly  # for interactive plots\n",
        "import tensorflow as tf\n",
        "import re\n",
        "import html\n",
        "import string\n",
        "import copy\n",
        "from collections import defaultdict\n",
        "sns.set(style=\"darkgrid\")  # default style"
      ]
    },
    {
      "cell_type": "markdown",
      "metadata": {
        "id": "Nqpv8PFvTZGK"
      },
      "source": [
        "# Setup & Baseline\n"
      ]
    },
    {
      "cell_type": "markdown",
      "metadata": {
        "id": "sf3mSO8wXdom"
      },
      "source": [
        "## Installing Kaggle\n",
        "\n",
        "\n",
        "\n"
      ]
    },
    {
      "cell_type": "markdown",
      "metadata": {
        "id": "qF81ddh4cctP"
      },
      "source": [
        "Use *pip* to install Kaggle into the notebook."
      ]
    },
    {
      "cell_type": "code",
      "execution_count": null,
      "metadata": {
        "colab": {
          "base_uri": "https://localhost:8080/"
        },
        "id": "CASgKf25TdOc",
        "outputId": "cbb29bd9-83c6-463b-b917-9f08ff737d1a"
      },
      "outputs": [
        {
          "name": "stdout",
          "output_type": "stream",
          "text": [
            "Looking in indexes: https://pypi.org/simple, https://us-python.pkg.dev/colab-wheels/public/simple/\n",
            "Requirement already satisfied: kaggle in /usr/local/lib/python3.9/dist-packages (1.5.13)\n",
            "Requirement already satisfied: requests in /usr/local/lib/python3.9/dist-packages (from kaggle) (2.27.1)\n",
            "Requirement already satisfied: six>=1.10 in /usr/local/lib/python3.9/dist-packages (from kaggle) (1.16.0)\n",
            "Requirement already satisfied: certifi in /usr/local/lib/python3.9/dist-packages (from kaggle) (2022.12.7)\n",
            "Requirement already satisfied: urllib3 in /usr/local/lib/python3.9/dist-packages (from kaggle) (1.26.15)\n",
            "Requirement already satisfied: python-dateutil in /usr/local/lib/python3.9/dist-packages (from kaggle) (2.8.2)\n",
            "Requirement already satisfied: python-slugify in /usr/local/lib/python3.9/dist-packages (from kaggle) (8.0.1)\n",
            "Requirement already satisfied: tqdm in /usr/local/lib/python3.9/dist-packages (from kaggle) (4.65.0)\n",
            "Requirement already satisfied: text-unidecode>=1.3 in /usr/local/lib/python3.9/dist-packages (from python-slugify->kaggle) (1.3)\n",
            "Requirement already satisfied: charset-normalizer~=2.0.0 in /usr/local/lib/python3.9/dist-packages (from requests->kaggle) (2.0.12)\n",
            "Requirement already satisfied: idna<4,>=2.5 in /usr/local/lib/python3.9/dist-packages (from requests->kaggle) (3.4)\n"
          ]
        }
      ],
      "source": [
        "! pip install kaggle"
      ]
    },
    {
      "cell_type": "markdown",
      "metadata": {
        "id": "XSGB8FKiYEwA"
      },
      "source": [
        "### Setup Kaggle API"
      ]
    },
    {
      "cell_type": "markdown",
      "metadata": {
        "id": "QYTlx77ydb0U"
      },
      "source": [
        "Upload your unique, Kaggle API Key. This can be retrieved by going into your Kaggle account settings."
      ]
    },
    {
      "cell_type": "code",
      "execution_count": null,
      "metadata": {
        "colab": {
          "base_uri": "https://localhost:8080/",
          "height": 92
        },
        "id": "hLHMmhPWdgEn",
        "outputId": "1836c84a-0c45-4925-b6ab-bd6e624263a7"
      },
      "outputs": [],
      "source": [
        "from google.colab import files\n",
        "files.upload()"
      ]
    },
    {
      "cell_type": "markdown",
      "metadata": {
        "id": "0A1sp-rOfiGc"
      },
      "source": [
        "Make a directory to store our kaggle files."
      ]
    },
    {
      "cell_type": "code",
      "execution_count": null,
      "metadata": {
        "id": "DoiFTvm2frcn"
      },
      "outputs": [],
      "source": [
        "! mkdir ~/.kaggle"
      ]
    },
    {
      "cell_type": "markdown",
      "metadata": {
        "id": "JSjsrSABhHHt"
      },
      "source": [
        "Copy the Kaggle API key into the directory made to store kaggle files."
      ]
    },
    {
      "cell_type": "code",
      "execution_count": null,
      "metadata": {
        "id": "HtDPT_gGhIbA"
      },
      "outputs": [],
      "source": [
        "! cp kaggle.json ~/.kaggle/"
      ]
    },
    {
      "cell_type": "markdown",
      "metadata": {
        "id": "WNqXzjz_V5bP"
      },
      "source": [
        "Grant the necessary read/write permissons."
      ]
    },
    {
      "cell_type": "code",
      "execution_count": null,
      "metadata": {
        "id": "brjoESqPV7xr"
      },
      "outputs": [],
      "source": [
        "! chmod 600 ~/.kaggle/kaggle.json"
      ]
    },
    {
      "cell_type": "markdown",
      "metadata": {
        "id": "uq43fH62X08z"
      },
      "source": [
        "## Download the Datasets"
      ]
    },
    {
      "cell_type": "markdown",
      "metadata": {
        "id": "Gi6BpXStWG6S"
      },
      "source": [
        "Download the Twitter catastrophe datasets."
      ]
    },
    {
      "cell_type": "code",
      "execution_count": null,
      "metadata": {
        "colab": {
          "base_uri": "https://localhost:8080/"
        },
        "id": "j8Pe5hhNWKDl",
        "outputId": "19a3e80e-508b-4c20-a8a8-4f1eb0a8e271"
      },
      "outputs": [
        {
          "name": "stdout",
          "output_type": "stream",
          "text": [
            "Downloading techexchange-2023-ml-project.zip to /content\n",
            "\r  0% 0.00/593k [00:00<?, ?B/s]\n",
            "\r100% 593k/593k [00:00<00:00, 55.4MB/s]\n"
          ]
        }
      ],
      "source": [
        "! kaggle competitions download -c techexchange-2023-ml-project"
      ]
    },
    {
      "cell_type": "markdown",
      "metadata": {
        "id": "Flc-QQ0ZW1xz"
      },
      "source": [
        "Unzip the dowloaded files."
      ]
    },
    {
      "cell_type": "code",
      "execution_count": null,
      "metadata": {
        "colab": {
          "base_uri": "https://localhost:8080/"
        },
        "id": "ryn-RGX9W4Wn",
        "outputId": "29026d9a-e926-406a-bc3d-ab5487b45d92"
      },
      "outputs": [
        {
          "name": "stdout",
          "output_type": "stream",
          "text": [
            "Archive:  techexchange-2023-ml-project.zip\n",
            "  inflating: sample_submission.csv   \n",
            "  inflating: test.csv                \n",
            "  inflating: train.csv               \n"
          ]
        }
      ],
      "source": [
        "! unzip techexchange-2023-ml-project.zip"
      ]
    },
    {
      "cell_type": "markdown",
      "metadata": {
        "id": "ZHn5toyMX-3s"
      },
      "source": [
        "## Brief Data Analysis"
      ]
    },
    {
      "cell_type": "code",
      "execution_count": null,
      "metadata": {
        "id": "GG0SuWOLYZVD"
      },
      "outputs": [],
      "source": [
        "train_data = pd.read_csv(\"train.csv\")\n",
        "test_data = pd.read_csv(\"test.csv\")"
      ]
    },
    {
      "cell_type": "code",
      "execution_count": null,
      "metadata": {
        "colab": {
          "base_uri": "https://localhost:8080/",
          "height": 635
        },
        "id": "l0xKnyFiaKST",
        "outputId": "67678e59-ace5-4f41-dfc8-ba3ff8d174a3"
      },
      "outputs": [
        {
          "data": {
            "text/html": [
              "\n",
              "  <div id=\"df-727e031b-ecc0-472a-8f61-54d514f472a9\">\n",
              "    <div class=\"colab-df-container\">\n",
              "      <div>\n",
              "<style scoped>\n",
              "    .dataframe tbody tr th:only-of-type {\n",
              "        vertical-align: middle;\n",
              "    }\n",
              "\n",
              "    .dataframe tbody tr th {\n",
              "        vertical-align: top;\n",
              "    }\n",
              "\n",
              "    .dataframe thead th {\n",
              "        text-align: right;\n",
              "    }\n",
              "</style>\n",
              "<table border=\"1\" class=\"dataframe\">\n",
              "  <thead>\n",
              "    <tr style=\"text-align: right;\">\n",
              "      <th></th>\n",
              "      <th>id</th>\n",
              "      <th>keyword</th>\n",
              "      <th>location</th>\n",
              "      <th>text</th>\n",
              "      <th>target</th>\n",
              "    </tr>\n",
              "  </thead>\n",
              "  <tbody>\n",
              "    <tr>\n",
              "      <th>0</th>\n",
              "      <td>1</td>\n",
              "      <td>NaN</td>\n",
              "      <td>NaN</td>\n",
              "      <td>Our Deeds are the Reason of this #earthquake M...</td>\n",
              "      <td>1</td>\n",
              "    </tr>\n",
              "    <tr>\n",
              "      <th>1</th>\n",
              "      <td>4</td>\n",
              "      <td>NaN</td>\n",
              "      <td>NaN</td>\n",
              "      <td>Forest fire near La Ronge Sask. Canada</td>\n",
              "      <td>1</td>\n",
              "    </tr>\n",
              "    <tr>\n",
              "      <th>2</th>\n",
              "      <td>5</td>\n",
              "      <td>NaN</td>\n",
              "      <td>NaN</td>\n",
              "      <td>All residents asked to 'shelter in place' are ...</td>\n",
              "      <td>1</td>\n",
              "    </tr>\n",
              "    <tr>\n",
              "      <th>3</th>\n",
              "      <td>6</td>\n",
              "      <td>NaN</td>\n",
              "      <td>NaN</td>\n",
              "      <td>13,000 people receive #wildfires evacuation or...</td>\n",
              "      <td>1</td>\n",
              "    </tr>\n",
              "    <tr>\n",
              "      <th>4</th>\n",
              "      <td>7</td>\n",
              "      <td>NaN</td>\n",
              "      <td>NaN</td>\n",
              "      <td>Just got sent this photo from Ruby #Alaska as ...</td>\n",
              "      <td>1</td>\n",
              "    </tr>\n",
              "  </tbody>\n",
              "</table>\n",
              "</div>\n",
              "      <button class=\"colab-df-convert\" onclick=\"convertToInteractive('df-727e031b-ecc0-472a-8f61-54d514f472a9')\"\n",
              "              title=\"Convert this dataframe to an interactive table.\"\n",
              "              style=\"display:none;\">\n",
              "        \n",
              "  <svg xmlns=\"http://www.w3.org/2000/svg\" height=\"24px\"viewBox=\"0 0 24 24\"\n",
              "       width=\"24px\">\n",
              "    <path d=\"M0 0h24v24H0V0z\" fill=\"none\"/>\n",
              "    <path d=\"M18.56 5.44l.94 2.06.94-2.06 2.06-.94-2.06-.94-.94-2.06-.94 2.06-2.06.94zm-11 1L8.5 8.5l.94-2.06 2.06-.94-2.06-.94L8.5 2.5l-.94 2.06-2.06.94zm10 10l.94 2.06.94-2.06 2.06-.94-2.06-.94-.94-2.06-.94 2.06-2.06.94z\"/><path d=\"M17.41 7.96l-1.37-1.37c-.4-.4-.92-.59-1.43-.59-.52 0-1.04.2-1.43.59L10.3 9.45l-7.72 7.72c-.78.78-.78 2.05 0 2.83L4 21.41c.39.39.9.59 1.41.59.51 0 1.02-.2 1.41-.59l7.78-7.78 2.81-2.81c.8-.78.8-2.07 0-2.86zM5.41 20L4 18.59l7.72-7.72 1.47 1.35L5.41 20z\"/>\n",
              "  </svg>\n",
              "      </button>\n",
              "      \n",
              "  <style>\n",
              "    .colab-df-container {\n",
              "      display:flex;\n",
              "      flex-wrap:wrap;\n",
              "      gap: 12px;\n",
              "    }\n",
              "\n",
              "    .colab-df-convert {\n",
              "      background-color: #E8F0FE;\n",
              "      border: none;\n",
              "      border-radius: 50%;\n",
              "      cursor: pointer;\n",
              "      display: none;\n",
              "      fill: #1967D2;\n",
              "      height: 32px;\n",
              "      padding: 0 0 0 0;\n",
              "      width: 32px;\n",
              "    }\n",
              "\n",
              "    .colab-df-convert:hover {\n",
              "      background-color: #E2EBFA;\n",
              "      box-shadow: 0px 1px 2px rgba(60, 64, 67, 0.3), 0px 1px 3px 1px rgba(60, 64, 67, 0.15);\n",
              "      fill: #174EA6;\n",
              "    }\n",
              "\n",
              "    [theme=dark] .colab-df-convert {\n",
              "      background-color: #3B4455;\n",
              "      fill: #D2E3FC;\n",
              "    }\n",
              "\n",
              "    [theme=dark] .colab-df-convert:hover {\n",
              "      background-color: #434B5C;\n",
              "      box-shadow: 0px 1px 3px 1px rgba(0, 0, 0, 0.15);\n",
              "      filter: drop-shadow(0px 1px 2px rgba(0, 0, 0, 0.3));\n",
              "      fill: #FFFFFF;\n",
              "    }\n",
              "  </style>\n",
              "\n",
              "      <script>\n",
              "        const buttonEl =\n",
              "          document.querySelector('#df-727e031b-ecc0-472a-8f61-54d514f472a9 button.colab-df-convert');\n",
              "        buttonEl.style.display =\n",
              "          google.colab.kernel.accessAllowed ? 'block' : 'none';\n",
              "\n",
              "        async function convertToInteractive(key) {\n",
              "          const element = document.querySelector('#df-727e031b-ecc0-472a-8f61-54d514f472a9');\n",
              "          const dataTable =\n",
              "            await google.colab.kernel.invokeFunction('convertToInteractive',\n",
              "                                                     [key], {});\n",
              "          if (!dataTable) return;\n",
              "\n",
              "          const docLinkHtml = 'Like what you see? Visit the ' +\n",
              "            '<a target=\"_blank\" href=https://colab.research.google.com/notebooks/data_table.ipynb>data table notebook</a>'\n",
              "            + ' to learn more about interactive tables.';\n",
              "          element.innerHTML = '';\n",
              "          dataTable['output_type'] = 'display_data';\n",
              "          await google.colab.output.renderOutput(dataTable, element);\n",
              "          const docLink = document.createElement('div');\n",
              "          docLink.innerHTML = docLinkHtml;\n",
              "          element.appendChild(docLink);\n",
              "        }\n",
              "      </script>\n",
              "    </div>\n",
              "  </div>\n",
              "  "
            ],
            "text/plain": [
              "   id keyword location                                               text  \\\n",
              "0   1     NaN      NaN  Our Deeds are the Reason of this #earthquake M...   \n",
              "1   4     NaN      NaN             Forest fire near La Ronge Sask. Canada   \n",
              "2   5     NaN      NaN  All residents asked to 'shelter in place' are ...   \n",
              "3   6     NaN      NaN  13,000 people receive #wildfires evacuation or...   \n",
              "4   7     NaN      NaN  Just got sent this photo from Ruby #Alaska as ...   \n",
              "\n",
              "   target  \n",
              "0       1  \n",
              "1       1  \n",
              "2       1  \n",
              "3       1  \n",
              "4       1  "
            ]
          },
          "execution_count": 10,
          "metadata": {},
          "output_type": "execute_result"
        }
      ],
      "source": [
        "''' \n",
        "Taking a look at the first five values of the training data to get a sense of\n",
        "what is inside the data set and get familiar with the formatting.\n",
        "'''\n",
        "train_data.head()"
      ]
    },
    {
      "cell_type": "code",
      "execution_count": null,
      "metadata": {
        "colab": {
          "base_uri": "https://localhost:8080/",
          "height": 548
        },
        "id": "-mXIpTS4fMrI",
        "outputId": "16b0e4e0-d40a-4fc6-a9e0-9c1b77e97b24"
      },
      "outputs": [
        {
          "data": {
            "text/html": [
              "\n",
              "  <div id=\"df-ace27a81-c617-4a72-824b-818af4f755d5\">\n",
              "    <div class=\"colab-df-container\">\n",
              "      <div>\n",
              "<style scoped>\n",
              "    .dataframe tbody tr th:only-of-type {\n",
              "        vertical-align: middle;\n",
              "    }\n",
              "\n",
              "    .dataframe tbody tr th {\n",
              "        vertical-align: top;\n",
              "    }\n",
              "\n",
              "    .dataframe thead th {\n",
              "        text-align: right;\n",
              "    }\n",
              "</style>\n",
              "<table border=\"1\" class=\"dataframe\">\n",
              "  <thead>\n",
              "    <tr style=\"text-align: right;\">\n",
              "      <th></th>\n",
              "      <th>id</th>\n",
              "      <th>keyword</th>\n",
              "      <th>location</th>\n",
              "      <th>text</th>\n",
              "    </tr>\n",
              "  </thead>\n",
              "  <tbody>\n",
              "    <tr>\n",
              "      <th>0</th>\n",
              "      <td>0</td>\n",
              "      <td>NaN</td>\n",
              "      <td>NaN</td>\n",
              "      <td>Just happened a terrible car crash</td>\n",
              "    </tr>\n",
              "    <tr>\n",
              "      <th>1</th>\n",
              "      <td>2</td>\n",
              "      <td>NaN</td>\n",
              "      <td>NaN</td>\n",
              "      <td>Heard about #earthquake is different cities, s...</td>\n",
              "    </tr>\n",
              "    <tr>\n",
              "      <th>2</th>\n",
              "      <td>3</td>\n",
              "      <td>NaN</td>\n",
              "      <td>NaN</td>\n",
              "      <td>there is a forest fire at spot pond, geese are...</td>\n",
              "    </tr>\n",
              "    <tr>\n",
              "      <th>3</th>\n",
              "      <td>9</td>\n",
              "      <td>NaN</td>\n",
              "      <td>NaN</td>\n",
              "      <td>Apocalypse lighting. #Spokane #wildfires</td>\n",
              "    </tr>\n",
              "    <tr>\n",
              "      <th>4</th>\n",
              "      <td>11</td>\n",
              "      <td>NaN</td>\n",
              "      <td>NaN</td>\n",
              "      <td>Typhoon Soudelor kills 28 in China and Taiwan</td>\n",
              "    </tr>\n",
              "  </tbody>\n",
              "</table>\n",
              "</div>\n",
              "      <button class=\"colab-df-convert\" onclick=\"convertToInteractive('df-ace27a81-c617-4a72-824b-818af4f755d5')\"\n",
              "              title=\"Convert this dataframe to an interactive table.\"\n",
              "              style=\"display:none;\">\n",
              "        \n",
              "  <svg xmlns=\"http://www.w3.org/2000/svg\" height=\"24px\"viewBox=\"0 0 24 24\"\n",
              "       width=\"24px\">\n",
              "    <path d=\"M0 0h24v24H0V0z\" fill=\"none\"/>\n",
              "    <path d=\"M18.56 5.44l.94 2.06.94-2.06 2.06-.94-2.06-.94-.94-2.06-.94 2.06-2.06.94zm-11 1L8.5 8.5l.94-2.06 2.06-.94-2.06-.94L8.5 2.5l-.94 2.06-2.06.94zm10 10l.94 2.06.94-2.06 2.06-.94-2.06-.94-.94-2.06-.94 2.06-2.06.94z\"/><path d=\"M17.41 7.96l-1.37-1.37c-.4-.4-.92-.59-1.43-.59-.52 0-1.04.2-1.43.59L10.3 9.45l-7.72 7.72c-.78.78-.78 2.05 0 2.83L4 21.41c.39.39.9.59 1.41.59.51 0 1.02-.2 1.41-.59l7.78-7.78 2.81-2.81c.8-.78.8-2.07 0-2.86zM5.41 20L4 18.59l7.72-7.72 1.47 1.35L5.41 20z\"/>\n",
              "  </svg>\n",
              "      </button>\n",
              "      \n",
              "  <style>\n",
              "    .colab-df-container {\n",
              "      display:flex;\n",
              "      flex-wrap:wrap;\n",
              "      gap: 12px;\n",
              "    }\n",
              "\n",
              "    .colab-df-convert {\n",
              "      background-color: #E8F0FE;\n",
              "      border: none;\n",
              "      border-radius: 50%;\n",
              "      cursor: pointer;\n",
              "      display: none;\n",
              "      fill: #1967D2;\n",
              "      height: 32px;\n",
              "      padding: 0 0 0 0;\n",
              "      width: 32px;\n",
              "    }\n",
              "\n",
              "    .colab-df-convert:hover {\n",
              "      background-color: #E2EBFA;\n",
              "      box-shadow: 0px 1px 2px rgba(60, 64, 67, 0.3), 0px 1px 3px 1px rgba(60, 64, 67, 0.15);\n",
              "      fill: #174EA6;\n",
              "    }\n",
              "\n",
              "    [theme=dark] .colab-df-convert {\n",
              "      background-color: #3B4455;\n",
              "      fill: #D2E3FC;\n",
              "    }\n",
              "\n",
              "    [theme=dark] .colab-df-convert:hover {\n",
              "      background-color: #434B5C;\n",
              "      box-shadow: 0px 1px 3px 1px rgba(0, 0, 0, 0.15);\n",
              "      filter: drop-shadow(0px 1px 2px rgba(0, 0, 0, 0.3));\n",
              "      fill: #FFFFFF;\n",
              "    }\n",
              "  </style>\n",
              "\n",
              "      <script>\n",
              "        const buttonEl =\n",
              "          document.querySelector('#df-ace27a81-c617-4a72-824b-818af4f755d5 button.colab-df-convert');\n",
              "        buttonEl.style.display =\n",
              "          google.colab.kernel.accessAllowed ? 'block' : 'none';\n",
              "\n",
              "        async function convertToInteractive(key) {\n",
              "          const element = document.querySelector('#df-ace27a81-c617-4a72-824b-818af4f755d5');\n",
              "          const dataTable =\n",
              "            await google.colab.kernel.invokeFunction('convertToInteractive',\n",
              "                                                     [key], {});\n",
              "          if (!dataTable) return;\n",
              "\n",
              "          const docLinkHtml = 'Like what you see? Visit the ' +\n",
              "            '<a target=\"_blank\" href=https://colab.research.google.com/notebooks/data_table.ipynb>data table notebook</a>'\n",
              "            + ' to learn more about interactive tables.';\n",
              "          element.innerHTML = '';\n",
              "          dataTable['output_type'] = 'display_data';\n",
              "          await google.colab.output.renderOutput(dataTable, element);\n",
              "          const docLink = document.createElement('div');\n",
              "          docLink.innerHTML = docLinkHtml;\n",
              "          element.appendChild(docLink);\n",
              "        }\n",
              "      </script>\n",
              "    </div>\n",
              "  </div>\n",
              "  "
            ],
            "text/plain": [
              "   id keyword location                                               text\n",
              "0   0     NaN      NaN                 Just happened a terrible car crash\n",
              "1   2     NaN      NaN  Heard about #earthquake is different cities, s...\n",
              "2   3     NaN      NaN  there is a forest fire at spot pond, geese are...\n",
              "3   9     NaN      NaN           Apocalypse lighting. #Spokane #wildfires\n",
              "4  11     NaN      NaN      Typhoon Soudelor kills 28 in China and Taiwan"
            ]
          },
          "execution_count": 11,
          "metadata": {},
          "output_type": "execute_result"
        }
      ],
      "source": [
        "''' \n",
        "Taking a look at the first five values of the test data to get a sense of\n",
        "what is inside the data set and get familiar with the formatting.\n",
        "'''\n",
        "test_data.head()"
      ]
    },
    {
      "cell_type": "markdown",
      "metadata": {
        "id": "z20kikuEcbLi"
      },
      "source": [
        "### Checking Shapes of Train & Test Data"
      ]
    },
    {
      "cell_type": "code",
      "execution_count": null,
      "metadata": {
        "colab": {
          "base_uri": "https://localhost:8080/"
        },
        "id": "Zofdb_2AchFb",
        "outputId": "a0defffc-fef1-4598-a377-4abb2bc5b3f5"
      },
      "outputs": [
        {
          "name": "stdout",
          "output_type": "stream",
          "text": [
            "The shape of the train data is: (7613, 5)\n"
          ]
        }
      ],
      "source": [
        "# Shape of the training Data \n",
        "print(f'The shape of the train data is: {train_data.shape}')"
      ]
    },
    {
      "cell_type": "code",
      "execution_count": null,
      "metadata": {
        "colab": {
          "base_uri": "https://localhost:8080/"
        },
        "id": "gT97Wj5Vda5x",
        "outputId": "96ee86ad-dc01-40ea-c31b-902af11fc99f"
      },
      "outputs": [
        {
          "name": "stdout",
          "output_type": "stream",
          "text": [
            "The shape of the test data is: (3263, 4)\n"
          ]
        }
      ],
      "source": [
        "# Shape of the test Data \n",
        "print(f'The shape of the test data is: {test_data.shape}')"
      ]
    },
    {
      "cell_type": "markdown",
      "metadata": {
        "id": "RuEFiuZKgmxF"
      },
      "source": [
        "### Statistical Summary of the Datasets"
      ]
    },
    {
      "cell_type": "code",
      "execution_count": null,
      "metadata": {
        "colab": {
          "base_uri": "https://localhost:8080/",
          "height": 364
        },
        "id": "qajEE2YogtFQ",
        "outputId": "0f3c374e-992c-42a3-cb0e-7d9ca617e7d5"
      },
      "outputs": [
        {
          "data": {
            "text/html": [
              "\n",
              "  <div id=\"df-ef9b88d3-302b-47ae-9285-312925c43e29\">\n",
              "    <div class=\"colab-df-container\">\n",
              "      <div>\n",
              "<style scoped>\n",
              "    .dataframe tbody tr th:only-of-type {\n",
              "        vertical-align: middle;\n",
              "    }\n",
              "\n",
              "    .dataframe tbody tr th {\n",
              "        vertical-align: top;\n",
              "    }\n",
              "\n",
              "    .dataframe thead th {\n",
              "        text-align: right;\n",
              "    }\n",
              "</style>\n",
              "<table border=\"1\" class=\"dataframe\">\n",
              "  <thead>\n",
              "    <tr style=\"text-align: right;\">\n",
              "      <th></th>\n",
              "      <th>id</th>\n",
              "      <th>target</th>\n",
              "    </tr>\n",
              "  </thead>\n",
              "  <tbody>\n",
              "    <tr>\n",
              "      <th>count</th>\n",
              "      <td>7613.000000</td>\n",
              "      <td>7613.00000</td>\n",
              "    </tr>\n",
              "    <tr>\n",
              "      <th>mean</th>\n",
              "      <td>5441.934848</td>\n",
              "      <td>0.42966</td>\n",
              "    </tr>\n",
              "    <tr>\n",
              "      <th>std</th>\n",
              "      <td>3137.116090</td>\n",
              "      <td>0.49506</td>\n",
              "    </tr>\n",
              "    <tr>\n",
              "      <th>min</th>\n",
              "      <td>1.000000</td>\n",
              "      <td>0.00000</td>\n",
              "    </tr>\n",
              "    <tr>\n",
              "      <th>25%</th>\n",
              "      <td>2734.000000</td>\n",
              "      <td>0.00000</td>\n",
              "    </tr>\n",
              "    <tr>\n",
              "      <th>50%</th>\n",
              "      <td>5408.000000</td>\n",
              "      <td>0.00000</td>\n",
              "    </tr>\n",
              "    <tr>\n",
              "      <th>75%</th>\n",
              "      <td>8146.000000</td>\n",
              "      <td>1.00000</td>\n",
              "    </tr>\n",
              "    <tr>\n",
              "      <th>max</th>\n",
              "      <td>10873.000000</td>\n",
              "      <td>1.00000</td>\n",
              "    </tr>\n",
              "  </tbody>\n",
              "</table>\n",
              "</div>\n",
              "      <button class=\"colab-df-convert\" onclick=\"convertToInteractive('df-ef9b88d3-302b-47ae-9285-312925c43e29')\"\n",
              "              title=\"Convert this dataframe to an interactive table.\"\n",
              "              style=\"display:none;\">\n",
              "        \n",
              "  <svg xmlns=\"http://www.w3.org/2000/svg\" height=\"24px\"viewBox=\"0 0 24 24\"\n",
              "       width=\"24px\">\n",
              "    <path d=\"M0 0h24v24H0V0z\" fill=\"none\"/>\n",
              "    <path d=\"M18.56 5.44l.94 2.06.94-2.06 2.06-.94-2.06-.94-.94-2.06-.94 2.06-2.06.94zm-11 1L8.5 8.5l.94-2.06 2.06-.94-2.06-.94L8.5 2.5l-.94 2.06-2.06.94zm10 10l.94 2.06.94-2.06 2.06-.94-2.06-.94-.94-2.06-.94 2.06-2.06.94z\"/><path d=\"M17.41 7.96l-1.37-1.37c-.4-.4-.92-.59-1.43-.59-.52 0-1.04.2-1.43.59L10.3 9.45l-7.72 7.72c-.78.78-.78 2.05 0 2.83L4 21.41c.39.39.9.59 1.41.59.51 0 1.02-.2 1.41-.59l7.78-7.78 2.81-2.81c.8-.78.8-2.07 0-2.86zM5.41 20L4 18.59l7.72-7.72 1.47 1.35L5.41 20z\"/>\n",
              "  </svg>\n",
              "      </button>\n",
              "      \n",
              "  <style>\n",
              "    .colab-df-container {\n",
              "      display:flex;\n",
              "      flex-wrap:wrap;\n",
              "      gap: 12px;\n",
              "    }\n",
              "\n",
              "    .colab-df-convert {\n",
              "      background-color: #E8F0FE;\n",
              "      border: none;\n",
              "      border-radius: 50%;\n",
              "      cursor: pointer;\n",
              "      display: none;\n",
              "      fill: #1967D2;\n",
              "      height: 32px;\n",
              "      padding: 0 0 0 0;\n",
              "      width: 32px;\n",
              "    }\n",
              "\n",
              "    .colab-df-convert:hover {\n",
              "      background-color: #E2EBFA;\n",
              "      box-shadow: 0px 1px 2px rgba(60, 64, 67, 0.3), 0px 1px 3px 1px rgba(60, 64, 67, 0.15);\n",
              "      fill: #174EA6;\n",
              "    }\n",
              "\n",
              "    [theme=dark] .colab-df-convert {\n",
              "      background-color: #3B4455;\n",
              "      fill: #D2E3FC;\n",
              "    }\n",
              "\n",
              "    [theme=dark] .colab-df-convert:hover {\n",
              "      background-color: #434B5C;\n",
              "      box-shadow: 0px 1px 3px 1px rgba(0, 0, 0, 0.15);\n",
              "      filter: drop-shadow(0px 1px 2px rgba(0, 0, 0, 0.3));\n",
              "      fill: #FFFFFF;\n",
              "    }\n",
              "  </style>\n",
              "\n",
              "      <script>\n",
              "        const buttonEl =\n",
              "          document.querySelector('#df-ef9b88d3-302b-47ae-9285-312925c43e29 button.colab-df-convert');\n",
              "        buttonEl.style.display =\n",
              "          google.colab.kernel.accessAllowed ? 'block' : 'none';\n",
              "\n",
              "        async function convertToInteractive(key) {\n",
              "          const element = document.querySelector('#df-ef9b88d3-302b-47ae-9285-312925c43e29');\n",
              "          const dataTable =\n",
              "            await google.colab.kernel.invokeFunction('convertToInteractive',\n",
              "                                                     [key], {});\n",
              "          if (!dataTable) return;\n",
              "\n",
              "          const docLinkHtml = 'Like what you see? Visit the ' +\n",
              "            '<a target=\"_blank\" href=https://colab.research.google.com/notebooks/data_table.ipynb>data table notebook</a>'\n",
              "            + ' to learn more about interactive tables.';\n",
              "          element.innerHTML = '';\n",
              "          dataTable['output_type'] = 'display_data';\n",
              "          await google.colab.output.renderOutput(dataTable, element);\n",
              "          const docLink = document.createElement('div');\n",
              "          docLink.innerHTML = docLinkHtml;\n",
              "          element.appendChild(docLink);\n",
              "        }\n",
              "      </script>\n",
              "    </div>\n",
              "  </div>\n",
              "  "
            ],
            "text/plain": [
              "                 id      target\n",
              "count   7613.000000  7613.00000\n",
              "mean    5441.934848     0.42966\n",
              "std     3137.116090     0.49506\n",
              "min        1.000000     0.00000\n",
              "25%     2734.000000     0.00000\n",
              "50%     5408.000000     0.00000\n",
              "75%     8146.000000     1.00000\n",
              "max    10873.000000     1.00000"
            ]
          },
          "execution_count": 14,
          "metadata": {},
          "output_type": "execute_result"
        }
      ],
      "source": [
        "# Summary of the training data\n",
        "train_data.describe()"
      ]
    },
    {
      "cell_type": "code",
      "execution_count": null,
      "metadata": {
        "colab": {
          "base_uri": "https://localhost:8080/",
          "height": 364
        },
        "id": "-2edPqPWgwAP",
        "outputId": "e26bc87a-6d60-4d48-ae41-83586f936e93"
      },
      "outputs": [
        {
          "data": {
            "text/html": [
              "\n",
              "  <div id=\"df-c657e871-c46c-45d3-bf50-12510f83e720\">\n",
              "    <div class=\"colab-df-container\">\n",
              "      <div>\n",
              "<style scoped>\n",
              "    .dataframe tbody tr th:only-of-type {\n",
              "        vertical-align: middle;\n",
              "    }\n",
              "\n",
              "    .dataframe tbody tr th {\n",
              "        vertical-align: top;\n",
              "    }\n",
              "\n",
              "    .dataframe thead th {\n",
              "        text-align: right;\n",
              "    }\n",
              "</style>\n",
              "<table border=\"1\" class=\"dataframe\">\n",
              "  <thead>\n",
              "    <tr style=\"text-align: right;\">\n",
              "      <th></th>\n",
              "      <th>id</th>\n",
              "    </tr>\n",
              "  </thead>\n",
              "  <tbody>\n",
              "    <tr>\n",
              "      <th>count</th>\n",
              "      <td>3263.000000</td>\n",
              "    </tr>\n",
              "    <tr>\n",
              "      <th>mean</th>\n",
              "      <td>5427.152927</td>\n",
              "    </tr>\n",
              "    <tr>\n",
              "      <th>std</th>\n",
              "      <td>3146.427221</td>\n",
              "    </tr>\n",
              "    <tr>\n",
              "      <th>min</th>\n",
              "      <td>0.000000</td>\n",
              "    </tr>\n",
              "    <tr>\n",
              "      <th>25%</th>\n",
              "      <td>2683.000000</td>\n",
              "    </tr>\n",
              "    <tr>\n",
              "      <th>50%</th>\n",
              "      <td>5500.000000</td>\n",
              "    </tr>\n",
              "    <tr>\n",
              "      <th>75%</th>\n",
              "      <td>8176.000000</td>\n",
              "    </tr>\n",
              "    <tr>\n",
              "      <th>max</th>\n",
              "      <td>10875.000000</td>\n",
              "    </tr>\n",
              "  </tbody>\n",
              "</table>\n",
              "</div>\n",
              "      <button class=\"colab-df-convert\" onclick=\"convertToInteractive('df-c657e871-c46c-45d3-bf50-12510f83e720')\"\n",
              "              title=\"Convert this dataframe to an interactive table.\"\n",
              "              style=\"display:none;\">\n",
              "        \n",
              "  <svg xmlns=\"http://www.w3.org/2000/svg\" height=\"24px\"viewBox=\"0 0 24 24\"\n",
              "       width=\"24px\">\n",
              "    <path d=\"M0 0h24v24H0V0z\" fill=\"none\"/>\n",
              "    <path d=\"M18.56 5.44l.94 2.06.94-2.06 2.06-.94-2.06-.94-.94-2.06-.94 2.06-2.06.94zm-11 1L8.5 8.5l.94-2.06 2.06-.94-2.06-.94L8.5 2.5l-.94 2.06-2.06.94zm10 10l.94 2.06.94-2.06 2.06-.94-2.06-.94-.94-2.06-.94 2.06-2.06.94z\"/><path d=\"M17.41 7.96l-1.37-1.37c-.4-.4-.92-.59-1.43-.59-.52 0-1.04.2-1.43.59L10.3 9.45l-7.72 7.72c-.78.78-.78 2.05 0 2.83L4 21.41c.39.39.9.59 1.41.59.51 0 1.02-.2 1.41-.59l7.78-7.78 2.81-2.81c.8-.78.8-2.07 0-2.86zM5.41 20L4 18.59l7.72-7.72 1.47 1.35L5.41 20z\"/>\n",
              "  </svg>\n",
              "      </button>\n",
              "      \n",
              "  <style>\n",
              "    .colab-df-container {\n",
              "      display:flex;\n",
              "      flex-wrap:wrap;\n",
              "      gap: 12px;\n",
              "    }\n",
              "\n",
              "    .colab-df-convert {\n",
              "      background-color: #E8F0FE;\n",
              "      border: none;\n",
              "      border-radius: 50%;\n",
              "      cursor: pointer;\n",
              "      display: none;\n",
              "      fill: #1967D2;\n",
              "      height: 32px;\n",
              "      padding: 0 0 0 0;\n",
              "      width: 32px;\n",
              "    }\n",
              "\n",
              "    .colab-df-convert:hover {\n",
              "      background-color: #E2EBFA;\n",
              "      box-shadow: 0px 1px 2px rgba(60, 64, 67, 0.3), 0px 1px 3px 1px rgba(60, 64, 67, 0.15);\n",
              "      fill: #174EA6;\n",
              "    }\n",
              "\n",
              "    [theme=dark] .colab-df-convert {\n",
              "      background-color: #3B4455;\n",
              "      fill: #D2E3FC;\n",
              "    }\n",
              "\n",
              "    [theme=dark] .colab-df-convert:hover {\n",
              "      background-color: #434B5C;\n",
              "      box-shadow: 0px 1px 3px 1px rgba(0, 0, 0, 0.15);\n",
              "      filter: drop-shadow(0px 1px 2px rgba(0, 0, 0, 0.3));\n",
              "      fill: #FFFFFF;\n",
              "    }\n",
              "  </style>\n",
              "\n",
              "      <script>\n",
              "        const buttonEl =\n",
              "          document.querySelector('#df-c657e871-c46c-45d3-bf50-12510f83e720 button.colab-df-convert');\n",
              "        buttonEl.style.display =\n",
              "          google.colab.kernel.accessAllowed ? 'block' : 'none';\n",
              "\n",
              "        async function convertToInteractive(key) {\n",
              "          const element = document.querySelector('#df-c657e871-c46c-45d3-bf50-12510f83e720');\n",
              "          const dataTable =\n",
              "            await google.colab.kernel.invokeFunction('convertToInteractive',\n",
              "                                                     [key], {});\n",
              "          if (!dataTable) return;\n",
              "\n",
              "          const docLinkHtml = 'Like what you see? Visit the ' +\n",
              "            '<a target=\"_blank\" href=https://colab.research.google.com/notebooks/data_table.ipynb>data table notebook</a>'\n",
              "            + ' to learn more about interactive tables.';\n",
              "          element.innerHTML = '';\n",
              "          dataTable['output_type'] = 'display_data';\n",
              "          await google.colab.output.renderOutput(dataTable, element);\n",
              "          const docLink = document.createElement('div');\n",
              "          docLink.innerHTML = docLinkHtml;\n",
              "          element.appendChild(docLink);\n",
              "        }\n",
              "      </script>\n",
              "    </div>\n",
              "  </div>\n",
              "  "
            ],
            "text/plain": [
              "                 id\n",
              "count   3263.000000\n",
              "mean    5427.152927\n",
              "std     3146.427221\n",
              "min        0.000000\n",
              "25%     2683.000000\n",
              "50%     5500.000000\n",
              "75%     8176.000000\n",
              "max    10875.000000"
            ]
          },
          "execution_count": 15,
          "metadata": {},
          "output_type": "execute_result"
        }
      ],
      "source": [
        "# Sumary of the test data\n",
        "test_data.describe()"
      ]
    },
    {
      "cell_type": "markdown",
      "metadata": {
        "id": "L72L9DGpcQQ2"
      },
      "source": [
        "## Checking for NaN Values "
      ]
    },
    {
      "cell_type": "markdown",
      "metadata": {
        "id": "vTPlOKdfZlaY"
      },
      "source": [
        "Let's check how many entries are missing, that is, the number of *NaN* values per column."
      ]
    },
    {
      "cell_type": "code",
      "execution_count": null,
      "metadata": {
        "id": "6QazbjOmbCX7"
      },
      "outputs": [],
      "source": [
        "def print_nan_vals(df):\n",
        "  for col in df:\n",
        "    print(f'{col} contains {df[col].isna().sum()} missing values.')"
      ]
    },
    {
      "cell_type": "markdown",
      "metadata": {
        "id": "kQJhhco9b7tO"
      },
      "source": [
        "Checking for missing values on the training data."
      ]
    },
    {
      "cell_type": "code",
      "execution_count": null,
      "metadata": {
        "colab": {
          "base_uri": "https://localhost:8080/"
        },
        "id": "kUnA6iAMZs4g",
        "outputId": "c44c793d-1266-41e0-a1ef-fd97b3d83d7d"
      },
      "outputs": [
        {
          "name": "stdout",
          "output_type": "stream",
          "text": [
            "id contains 0 missing values.\n",
            "keyword contains 61 missing values.\n",
            "location contains 2533 missing values.\n",
            "text contains 0 missing values.\n",
            "target contains 0 missing values.\n"
          ]
        }
      ],
      "source": [
        "print_nan_vals(train_data)"
      ]
    },
    {
      "cell_type": "markdown",
      "metadata": {
        "id": "oZasXDuEcE_f"
      },
      "source": [
        "Checking for missing values on the test data. "
      ]
    },
    {
      "cell_type": "code",
      "execution_count": null,
      "metadata": {
        "colab": {
          "base_uri": "https://localhost:8080/"
        },
        "id": "o5l-mr3FcJKo",
        "outputId": "db444f6a-f562-4d2c-baa9-090566b8921f"
      },
      "outputs": [
        {
          "name": "stdout",
          "output_type": "stream",
          "text": [
            "id contains 0 missing values.\n",
            "keyword contains 26 missing values.\n",
            "location contains 1105 missing values.\n",
            "text contains 0 missing values.\n"
          ]
        }
      ],
      "source": [
        "print_nan_vals(test_data)"
      ]
    },
    {
      "cell_type": "markdown",
      "metadata": {
        "id": "ceYt5aP9YfBh"
      },
      "source": [
        "## Cleaning our Data"
      ]
    },
    {
      "cell_type": "markdown",
      "metadata": {
        "id": "bKMykFJihZ-x"
      },
      "source": [
        "Out of the given features, ID, keyword, location, and text, we only care about analyzing the text present within a tweet. The remaining features are very sparsely correlated, in other words, they don't have much bearing on the final classification of a tweet. \n",
        "\n",
        "From these features, only *keyword* and *location* have missing values. We can simply replace the missing values in the columns with hardcoded values, instead of erroneously assigning keywords or locations to certain tweets.\n",
        "\n",
        "In the end, these are ways of filling in missing data entries without reducing the number of tweets we can work with. Since these features don't correlate well with the others, it shouldn't affect the accuracy of our model."
      ]
    },
    {
      "cell_type": "code",
      "execution_count": null,
      "metadata": {
        "id": "TkDOX5pjQzsD"
      },
      "outputs": [],
      "source": [
        "def impute_tweets(df):\n",
        "  to_fill = {'keyword': 'N/A', 'location': 'N/A'}\n",
        "  df.fillna(value=to_fill, inplace=True)"
      ]
    },
    {
      "cell_type": "markdown",
      "metadata": {
        "id": "bst7c53wSV9J"
      },
      "source": [
        "Now, we can verify whether the missing values in these columns have been replaced or not. First, we impute the training data columns."
      ]
    },
    {
      "cell_type": "code",
      "execution_count": null,
      "metadata": {
        "colab": {
          "base_uri": "https://localhost:8080/"
        },
        "id": "-QgrlKwfTH2V",
        "outputId": "d480e724-8a7d-4391-f02c-4b7687e8b7ff"
      },
      "outputs": [
        {
          "name": "stdout",
          "output_type": "stream",
          "text": [
            "id contains 0 missing values.\n",
            "keyword contains 0 missing values.\n",
            "location contains 0 missing values.\n",
            "text contains 0 missing values.\n",
            "target contains 0 missing values.\n"
          ]
        }
      ],
      "source": [
        "# Verify whether the training tweets were correctly imputed\n",
        "impute_tweets(train_data)\n",
        "print_nan_vals(train_data)"
      ]
    },
    {
      "cell_type": "markdown",
      "metadata": {
        "id": "WvUIc3VPTIiE"
      },
      "source": [
        "And then, we verify the test data columns."
      ]
    },
    {
      "cell_type": "code",
      "execution_count": null,
      "metadata": {
        "colab": {
          "base_uri": "https://localhost:8080/"
        },
        "id": "heZAn3t8SceV",
        "outputId": "c7d9305d-0c40-409b-9973-b745ac7ec06b"
      },
      "outputs": [
        {
          "name": "stdout",
          "output_type": "stream",
          "text": [
            "id contains 0 missing values.\n",
            "keyword contains 0 missing values.\n",
            "location contains 0 missing values.\n",
            "text contains 0 missing values.\n"
          ]
        }
      ],
      "source": [
        "# Verify whether the test tweets were correctly imputed\n",
        "impute_tweets(test_data)\n",
        "print_nan_vals(test_data)"
      ]
    },
    {
      "cell_type": "markdown",
      "metadata": {
        "id": "1WA6Rd8nckTJ"
      },
      "source": [
        "## Splitting our Data"
      ]
    },
    {
      "cell_type": "markdown",
      "metadata": {
        "id": "j1F5huwCcnKh"
      },
      "source": [
        "In order to maintain the blindfulness of our testing data, we need to split our training data into training and validation data. A 90% of our data will become the training data for our model, and the remaining 10% will be used as validation data for our experiments.\n",
        "\n",
        "It's worth noting that, in order to produce the same results each time, we need to pass a constant value to the parameter *random_state*. This is because scikit will randomly shuffle our dataframes each time we run our code. In including this parameter, we ensure consistently reproducible examples, in other words, the dataframes will always be shuffled in the same way."
      ]
    },
    {
      "cell_type": "code",
      "execution_count": null,
      "metadata": {
        "id": "THkdLBtecm4n"
      },
      "outputs": [],
      "source": [
        "def split_train_data(df, train_size=0.9):\n",
        "  train, test = train_test_split(df, \n",
        "                                 train_size=train_size, \n",
        "                                 random_state=1) # consistent results\n",
        "  return train, test"
      ]
    },
    {
      "cell_type": "markdown",
      "metadata": {
        "id": "gTkqtFRBezcU"
      },
      "source": [
        "Before splitting our data, it is worth noting that we need a set of features and a target to compare our results to. Our *X* values will become these set of features while our *Y* values will become the labels."
      ]
    },
    {
      "cell_type": "code",
      "execution_count": null,
      "metadata": {
        "id": "cJNa6c3mgD0G"
      },
      "outputs": [],
      "source": [
        "# Split the training data set into X and Y values\n",
        "X = train_data.loc[:, train_data.columns != 'target']\n",
        "Y = train_data.loc[:, ['target']]"
      ]
    },
    {
      "cell_type": "code",
      "execution_count": null,
      "metadata": {
        "id": "b8rrybAkeQcv"
      },
      "outputs": [],
      "source": [
        "# Split our X and Y values into training and validation data\n",
        "X_train, X_test = split_train_data(X)\n",
        "Y_train, Y_test = split_train_data(Y)"
      ]
    },
    {
      "cell_type": "markdown",
      "metadata": {
        "id": "b2U6Csoajz_l"
      },
      "source": [
        "Let's now briefly check the shapes of our new data sets in order to confirm whether our data was correctly split or not."
      ]
    },
    {
      "cell_type": "code",
      "execution_count": null,
      "metadata": {
        "colab": {
          "base_uri": "https://localhost:8080/"
        },
        "id": "tZOws3Lbj6mz",
        "outputId": "5dfdcda8-b4c2-4e70-9461-b5e7d1fb14c2"
      },
      "outputs": [
        {
          "name": "stdout",
          "output_type": "stream",
          "text": [
            "The new shape of the X-train data is: (6851, 4)\n",
            "The new shape of the Y-train data is: (6851, 1)\n"
          ]
        }
      ],
      "source": [
        "# New testing and training data shapes\n",
        "print(f'The new shape of the X-train data is: {X_train.shape}')\n",
        "print(f'The new shape of the Y-train data is: {Y_train.shape}')"
      ]
    },
    {
      "cell_type": "code",
      "execution_count": null,
      "metadata": {
        "colab": {
          "base_uri": "https://localhost:8080/"
        },
        "id": "JmSaRRhHkCtd",
        "outputId": "0bd2d292-6177-48b3-940c-d629d8658906"
      },
      "outputs": [
        {
          "name": "stdout",
          "output_type": "stream",
          "text": [
            "The new shape of the X-test data is: (762, 4)\n",
            "The new shape of the Y-test data is: (762, 1)\n"
          ]
        }
      ],
      "source": [
        "# Shape of the test data \n",
        "print(f'The new shape of the X-test data is: {X_test.shape}')\n",
        "print(f'The new shape of the Y-test data is: {Y_test.shape}')"
      ]
    },
    {
      "cell_type": "markdown",
      "metadata": {
        "id": "uNRXEYhpYgYF"
      },
      "source": [
        "## Computing the Baseline"
      ]
    },
    {
      "cell_type": "markdown",
      "metadata": {
        "id": "d5YuiCcIifNV"
      },
      "source": [
        "Let's construct a baseline that utilizes the majority class in the training data as the label we'll be comparing our predictions to."
      ]
    },
    {
      "cell_type": "code",
      "execution_count": null,
      "metadata": {
        "id": "xKnPGM7GYi_i"
      },
      "outputs": [],
      "source": [
        "def baseline(train):\n",
        "  # Get the sizes for each class\n",
        "  positive_size = train['target'].value_counts()[1]\n",
        "  negative_size = train['target'].value_counts()[0]\n",
        "  # Return majority class \n",
        "  return 1 if positive_size > negative_size else 0"
      ]
    },
    {
      "cell_type": "code",
      "execution_count": null,
      "metadata": {
        "colab": {
          "base_uri": "https://localhost:8080/"
        },
        "id": "jmigLRCQiqKk",
        "outputId": "684510ac-310e-4b17-e597-6e6f0164f3e2"
      },
      "outputs": [
        {
          "name": "stdout",
          "output_type": "stream",
          "text": [
            "The majority class is: negative\n"
          ]
        }
      ],
      "source": [
        "# Compute baseline on our training data labels \n",
        "base = baseline(Y_train)\n",
        "print(f\"The majority class is: {'negative' if not base else 'positive'}\")"
      ]
    },
    {
      "cell_type": "markdown",
      "metadata": {
        "id": "VqYSPfDTVEN6"
      },
      "source": [
        "The computed majority class is the negative class, all entries with a label of 0. We can now use our validation set to measure the baseline's accuracy by calculating its F1 score: 2 times the product of the precision and recall over their sum. "
      ]
    },
    {
      "cell_type": "code",
      "execution_count": null,
      "metadata": {
        "id": "hMls6Y2Qw85C"
      },
      "outputs": [],
      "source": [
        "def get_evaluation_metrics(actual_outputs, predicted_outputs):\n",
        "    tp, tn, fp, fn = 0, 0, 0, 0\n",
        "    for i in range(len(predicted_outputs)):\n",
        "      if (predicted_outputs[i] == 1) and (actual_outputs[i] == 1):\n",
        "        tp += 1\n",
        "      elif (predicted_outputs[i] == 0) and (actual_outputs[i] == 0):\n",
        "        tn += 1\n",
        "      elif (predicted_outputs[i] == 1) and (actual_outputs[i] == 0):\n",
        "        fp += 1\n",
        "      else:\n",
        "        fn += 1\n",
        "    return tp,tn,fp,fn"
      ]
    },
    {
      "cell_type": "code",
      "execution_count": null,
      "metadata": {
        "id": "1Eh6vhdy5mdR"
      },
      "outputs": [],
      "source": [
        "def recall(tp, fn):\n",
        "  if tp + fn == 0:\n",
        "    return 0\n",
        "  return  tp / (tp + fn)"
      ]
    },
    {
      "cell_type": "code",
      "execution_count": null,
      "metadata": {
        "id": "FAv_1JgZKJrl"
      },
      "outputs": [],
      "source": [
        "def precision(tp, fp):\n",
        "  if tp + fp == 0:\n",
        "    return 0\n",
        "  return tp / (tp + fp)"
      ]
    },
    {
      "cell_type": "code",
      "execution_count": null,
      "metadata": {
        "id": "5NKgb39K957S"
      },
      "outputs": [],
      "source": [
        "def f1_score(true_output, predicted_output):\n",
        "  tp, tn, fp, fn = get_evaluation_metrics(true_output, predicted_output)\n",
        "  p, r = precision(tp, fp), recall(tp, fn)\n",
        "  if p+r == 0:\n",
        "    return 0\n",
        "  \n",
        "  return 2 * ((p * r) / (p + r))   "
      ]
    },
    {
      "cell_type": "code",
      "execution_count": null,
      "metadata": {
        "colab": {
          "base_uri": "https://localhost:8080/"
        },
        "id": "AjkMjWyXVW1E",
        "outputId": "80580771-cf7c-41e3-e67a-e264064e32c1"
      },
      "outputs": [
        {
          "name": "stdout",
          "output_type": "stream",
          "text": [
            "The F1 score on the validation set with respect to the baseline: 0\n"
          ]
        }
      ],
      "source": [
        "baseline_preds = [0] * Y_test.size # baseline predictions are all 0\n",
        "score = f1_score(np.array(Y_test['target']), baseline_preds)\n",
        "print(f\"The F1 score on the validation set with respect to the baseline: \\\n",
        "{score}\")"
      ]
    },
    {
      "cell_type": "markdown",
      "metadata": {
        "id": "zs6aFst6LCnV"
      },
      "source": [
        "Thus, our computed F1 score is 0. This occurs because, since the majority class is our negative class, then all of our predictions are 0. Therefore, there are no true positive or false positive examples, making both the precision and the recall 0.\n"
      ]
    },
    {
      "cell_type": "markdown",
      "metadata": {
        "id": "0zvMSrBwYe_5"
      },
      "source": [
        "## Submitting our Baseline Results"
      ]
    },
    {
      "cell_type": "markdown",
      "metadata": {
        "id": "cn68v9pqYkIG"
      },
      "source": [
        "Now that the baseline has established the majority class, we can write our results to a CSV file and submit these preliminary predictions. "
      ]
    },
    {
      "cell_type": "code",
      "execution_count": null,
      "metadata": {
        "id": "LhfxTscjbhNU"
      },
      "outputs": [],
      "source": [
        "# It's easier to store each ID and its prediction in a dict\n",
        "base_predictions = {'id': [], 'target': []}\n",
        "for id in test_data['id']:\n",
        "  base_predictions['id'].append(id)\n",
        "  base_predictions['target'].append(0) # each prediction is the negative class\n",
        "  \n",
        "# Convert dict to dataframe to facilitate writing to a CSV\n",
        "base_df = pd.DataFrame(base_predictions)\n",
        "base_df.to_csv('baseline.csv', index=False) # don't include DF index column"
      ]
    },
    {
      "cell_type": "markdown",
      "metadata": {
        "id": "Nyoj3uAStFMG"
      },
      "source": [
        "With our CSV file in hand, we can now submit our predictions to Kaggle. The code below utilizes Colab's kernel to upload our baseline CSV to Kaggle, which then scores the submission."
      ]
    },
    {
      "cell_type": "code",
      "execution_count": null,
      "metadata": {
        "id": "kv0t51hitE8A"
      },
      "outputs": [],
      "source": [
        "# ! kaggle competitions submit techexchange-2023-ml-project -f ./baseline.csv -m \"Yariel & Yan's baseline\""
      ]
    },
    {
      "cell_type": "markdown",
      "metadata": {
        "id": "r_y2iL8wVQ53"
      },
      "source": [
        "Below is a table with the different models used throughout the project and their scores. "
      ]
    },
    {
      "cell_type": "markdown",
      "metadata": {
        "id": "s1P8VPoDVY2p"
      },
      "source": [
        "| Model | F1 (Validation)  | Kaggle Score |  \n",
        "|-------|-----|--------------|\n",
        "| Baseline| 0  | 0.57033|\n"
      ]
    },
    {
      "cell_type": "markdown",
      "metadata": {
        "id": "q2OT1Aml0N_r"
      },
      "source": [
        "# Data Analysis"
      ]
    },
    {
      "cell_type": "markdown",
      "metadata": {
        "id": "qh9PmmnlJxDm"
      },
      "source": [
        "## Classifying Keywords"
      ]
    },
    {
      "cell_type": "markdown",
      "metadata": {
        "id": "36oLaN418rEi"
      },
      "source": [
        "We can begin our data analysis of the keywords by counting how many times each keyword appears in a Tweet classified as a natural disaster, our positive class, and how many times that keyword appears in a Tweet not classified as a natural disaster, our negative class. We will handpick some of the more telling keywords."
      ]
    },
    {
      "cell_type": "code",
      "execution_count": null,
      "metadata": {
        "colab": {
          "base_uri": "https://localhost:8080/"
        },
        "id": "t1EhgfNq89wh",
        "outputId": "99431093-b4a9-478d-9359-a9b1724c2b91"
      },
      "outputs": [
        {
          "name": "stdout",
          "output_type": "stream",
          "text": [
            "  Keywords  Positive  Negative\n",
            "    ablaze        13        21\n",
            "     arson        20        10\n",
            "  blizzard         4        30\n",
            "devastated        18        10\n",
            "    famine        25        13\n",
            " screaming         2        29\n",
            "   rioting        23        10\n",
            "   tsunami         9        21\n",
            "   twister         5        31\n"
          ]
        }
      ],
      "source": [
        "keywords = ['ablaze', 'arson', 'blizzard', 'devastated', 'famine', \n",
        "          'screaming', 'rioting', 'tsunami', 'twister']\n",
        "\n",
        "table = {'Keywords': keywords, \n",
        "         'Positive': [0 for _ in range(len(keywords))], \n",
        "         'Negative': [0 for _ in range(len(keywords))]}\n",
        "\n",
        "target = Y_train['target']\n",
        "for key_idx, keyword in enumerate(keywords):\n",
        "  # for each keyword, get indeces for where they appear in the train df\n",
        "  train_idx = X_train.loc[X_train['keyword'] == keyword].index.tolist()\n",
        "  # add to table accordingly\n",
        "  for idx in train_idx:  \n",
        "    if target[idx]: \n",
        "      table['Positive'][key_idx] += 1\n",
        "\n",
        "    else: \n",
        "      table['Negative'][key_idx] += 1\n",
        "\n",
        "# Construct table from a dict -> dataframe\n",
        "df = pd.DataFrame.from_dict(table)\n",
        "print(df.to_string(index=False))"
      ]
    },
    {
      "cell_type": "markdown",
      "metadata": {
        "id": "FhJONZP5vEK8"
      },
      "source": [
        "From the frequency table, nouns and verbs like \"arson\", \"rioting\", and \"famine\" are more often correlated with disasters, since these leave little room for word play, while other adjectives or more general verbs like \"blizzard\" and \"screaming\" can be utilized in contexts outside of natural disasters. To elaborate on this, the word \"screaming\" can be used for just about any situation expressing excitement while \"blizzard\" has a wider variety of meanings. We can examine some examples of this below. "
      ]
    },
    {
      "cell_type": "code",
      "execution_count": null,
      "metadata": {
        "colab": {
          "base_uri": "https://localhost:8080/",
          "height": 496
        },
        "id": "VrggNQTTw8sQ",
        "outputId": "d20098d9-3aa9-4f3c-d117-4188f9ed60da"
      },
      "outputs": [
        {
          "data": {
            "text/html": [
              "\n",
              "  <div id=\"df-96470415-5057-4e0a-a061-d743abfbae2d\">\n",
              "    <div class=\"colab-df-container\">\n",
              "      <div>\n",
              "<style scoped>\n",
              "    .dataframe tbody tr th:only-of-type {\n",
              "        vertical-align: middle;\n",
              "    }\n",
              "\n",
              "    .dataframe tbody tr th {\n",
              "        vertical-align: top;\n",
              "    }\n",
              "\n",
              "    .dataframe thead th {\n",
              "        text-align: right;\n",
              "    }\n",
              "</style>\n",
              "<table border=\"1\" class=\"dataframe\">\n",
              "  <thead>\n",
              "    <tr style=\"text-align: right;\">\n",
              "      <th></th>\n",
              "      <th>id</th>\n",
              "      <th>keyword</th>\n",
              "      <th>location</th>\n",
              "      <th>text</th>\n",
              "    </tr>\n",
              "  </thead>\n",
              "  <tbody>\n",
              "    <tr>\n",
              "      <th>5947</th>\n",
              "      <td>8496</td>\n",
              "      <td>screaming</td>\n",
              "      <td>N/A</td>\n",
              "      <td>If you are quiet enough you can literally hear...</td>\n",
              "    </tr>\n",
              "    <tr>\n",
              "      <th>5966</th>\n",
              "      <td>8517</td>\n",
              "      <td>screaming</td>\n",
              "      <td>Namjoon's pants</td>\n",
              "      <td>'[+54 -9] How do people not know who Kendall J...</td>\n",
              "    </tr>\n",
              "    <tr>\n",
              "      <th>5953</th>\n",
              "      <td>8504</td>\n",
              "      <td>screaming</td>\n",
              "      <td>tx</td>\n",
              "      <td>@camilacabello97 NOW IM INTERNALLY SCREAMING</td>\n",
              "    </tr>\n",
              "    <tr>\n",
              "      <th>5968</th>\n",
              "      <td>8520</td>\n",
              "      <td>screaming</td>\n",
              "      <td>All around the world</td>\n",
              "      <td>@ArianaGrande @justinbieber I'M SCREAMING OMG ...</td>\n",
              "    </tr>\n",
              "    <tr>\n",
              "      <th>5948</th>\n",
              "      <td>8497</td>\n",
              "      <td>screaming</td>\n",
              "      <td>21, Porto</td>\n",
              "      <td>I'M SCREAMING AND FANGIRLING OH MY GOD  https:...</td>\n",
              "    </tr>\n",
              "  </tbody>\n",
              "</table>\n",
              "</div>\n",
              "      <button class=\"colab-df-convert\" onclick=\"convertToInteractive('df-96470415-5057-4e0a-a061-d743abfbae2d')\"\n",
              "              title=\"Convert this dataframe to an interactive table.\"\n",
              "              style=\"display:none;\">\n",
              "        \n",
              "  <svg xmlns=\"http://www.w3.org/2000/svg\" height=\"24px\"viewBox=\"0 0 24 24\"\n",
              "       width=\"24px\">\n",
              "    <path d=\"M0 0h24v24H0V0z\" fill=\"none\"/>\n",
              "    <path d=\"M18.56 5.44l.94 2.06.94-2.06 2.06-.94-2.06-.94-.94-2.06-.94 2.06-2.06.94zm-11 1L8.5 8.5l.94-2.06 2.06-.94-2.06-.94L8.5 2.5l-.94 2.06-2.06.94zm10 10l.94 2.06.94-2.06 2.06-.94-2.06-.94-.94-2.06-.94 2.06-2.06.94z\"/><path d=\"M17.41 7.96l-1.37-1.37c-.4-.4-.92-.59-1.43-.59-.52 0-1.04.2-1.43.59L10.3 9.45l-7.72 7.72c-.78.78-.78 2.05 0 2.83L4 21.41c.39.39.9.59 1.41.59.51 0 1.02-.2 1.41-.59l7.78-7.78 2.81-2.81c.8-.78.8-2.07 0-2.86zM5.41 20L4 18.59l7.72-7.72 1.47 1.35L5.41 20z\"/>\n",
              "  </svg>\n",
              "      </button>\n",
              "      \n",
              "  <style>\n",
              "    .colab-df-container {\n",
              "      display:flex;\n",
              "      flex-wrap:wrap;\n",
              "      gap: 12px;\n",
              "    }\n",
              "\n",
              "    .colab-df-convert {\n",
              "      background-color: #E8F0FE;\n",
              "      border: none;\n",
              "      border-radius: 50%;\n",
              "      cursor: pointer;\n",
              "      display: none;\n",
              "      fill: #1967D2;\n",
              "      height: 32px;\n",
              "      padding: 0 0 0 0;\n",
              "      width: 32px;\n",
              "    }\n",
              "\n",
              "    .colab-df-convert:hover {\n",
              "      background-color: #E2EBFA;\n",
              "      box-shadow: 0px 1px 2px rgba(60, 64, 67, 0.3), 0px 1px 3px 1px rgba(60, 64, 67, 0.15);\n",
              "      fill: #174EA6;\n",
              "    }\n",
              "\n",
              "    [theme=dark] .colab-df-convert {\n",
              "      background-color: #3B4455;\n",
              "      fill: #D2E3FC;\n",
              "    }\n",
              "\n",
              "    [theme=dark] .colab-df-convert:hover {\n",
              "      background-color: #434B5C;\n",
              "      box-shadow: 0px 1px 3px 1px rgba(0, 0, 0, 0.15);\n",
              "      filter: drop-shadow(0px 1px 2px rgba(0, 0, 0, 0.3));\n",
              "      fill: #FFFFFF;\n",
              "    }\n",
              "  </style>\n",
              "\n",
              "      <script>\n",
              "        const buttonEl =\n",
              "          document.querySelector('#df-96470415-5057-4e0a-a061-d743abfbae2d button.colab-df-convert');\n",
              "        buttonEl.style.display =\n",
              "          google.colab.kernel.accessAllowed ? 'block' : 'none';\n",
              "\n",
              "        async function convertToInteractive(key) {\n",
              "          const element = document.querySelector('#df-96470415-5057-4e0a-a061-d743abfbae2d');\n",
              "          const dataTable =\n",
              "            await google.colab.kernel.invokeFunction('convertToInteractive',\n",
              "                                                     [key], {});\n",
              "          if (!dataTable) return;\n",
              "\n",
              "          const docLinkHtml = 'Like what you see? Visit the ' +\n",
              "            '<a target=\"_blank\" href=https://colab.research.google.com/notebooks/data_table.ipynb>data table notebook</a>'\n",
              "            + ' to learn more about interactive tables.';\n",
              "          element.innerHTML = '';\n",
              "          dataTable['output_type'] = 'display_data';\n",
              "          await google.colab.output.renderOutput(dataTable, element);\n",
              "          const docLink = document.createElement('div');\n",
              "          docLink.innerHTML = docLinkHtml;\n",
              "          element.appendChild(docLink);\n",
              "        }\n",
              "      </script>\n",
              "    </div>\n",
              "  </div>\n",
              "  "
            ],
            "text/plain": [
              "        id    keyword              location  \\\n",
              "5947  8496  screaming                   N/A   \n",
              "5966  8517  screaming       Namjoon's pants   \n",
              "5953  8504  screaming                    tx   \n",
              "5968  8520  screaming  All around the world   \n",
              "5948  8497  screaming             21, Porto   \n",
              "\n",
              "                                                   text  \n",
              "5947  If you are quiet enough you can literally hear...  \n",
              "5966  '[+54 -9] How do people not know who Kendall J...  \n",
              "5953       @camilacabello97 NOW IM INTERNALLY SCREAMING  \n",
              "5968  @ArianaGrande @justinbieber I'M SCREAMING OMG ...  \n",
              "5948  I'M SCREAMING AND FANGIRLING OH MY GOD  https:...  "
            ]
          },
          "metadata": {},
          "output_type": "display_data"
        }
      ],
      "source": [
        "display(X_train.loc[X_train['keyword'] == \"screaming\"][:5])"
      ]
    },
    {
      "cell_type": "code",
      "execution_count": null,
      "metadata": {
        "colab": {
          "base_uri": "https://localhost:8080/",
          "height": 461
        },
        "id": "dW0wUb4JxMpB",
        "outputId": "96c27253-fe36-45f1-9638-ba25abde62d4"
      },
      "outputs": [
        {
          "data": {
            "text/html": [
              "\n",
              "  <div id=\"df-894c813e-d3dc-4138-933d-75a77e2e1389\">\n",
              "    <div class=\"colab-df-container\">\n",
              "      <div>\n",
              "<style scoped>\n",
              "    .dataframe tbody tr th:only-of-type {\n",
              "        vertical-align: middle;\n",
              "    }\n",
              "\n",
              "    .dataframe tbody tr th {\n",
              "        vertical-align: top;\n",
              "    }\n",
              "\n",
              "    .dataframe thead th {\n",
              "        text-align: right;\n",
              "    }\n",
              "</style>\n",
              "<table border=\"1\" class=\"dataframe\">\n",
              "  <thead>\n",
              "    <tr style=\"text-align: right;\">\n",
              "      <th></th>\n",
              "      <th>id</th>\n",
              "      <th>keyword</th>\n",
              "      <th>location</th>\n",
              "      <th>text</th>\n",
              "    </tr>\n",
              "  </thead>\n",
              "  <tbody>\n",
              "    <tr>\n",
              "      <th>822</th>\n",
              "      <td>1196</td>\n",
              "      <td>blizzard</td>\n",
              "      <td>N/A</td>\n",
              "      <td>@blizzard_fans Lucio!! Let's get the #overwatc...</td>\n",
              "    </tr>\n",
              "    <tr>\n",
              "      <th>840</th>\n",
              "      <td>1219</td>\n",
              "      <td>blizzard</td>\n",
              "      <td>Ontario Canada</td>\n",
              "      <td>@TCGReno just hard reset my Xbox</td>\n",
              "    </tr>\n",
              "    <tr>\n",
              "      <th>820</th>\n",
              "      <td>1191</td>\n",
              "      <td>blizzard</td>\n",
              "      <td>N/A</td>\n",
              "      <td>Stats http://t.co/U7vavyrGv9</td>\n",
              "    </tr>\n",
              "    <tr>\n",
              "      <th>846</th>\n",
              "      <td>1226</td>\n",
              "      <td>blizzard</td>\n",
              "      <td>N/A</td>\n",
              "      <td>Someone walk with me to DQ ??\\nI wanna Butterf...</td>\n",
              "    </tr>\n",
              "    <tr>\n",
              "      <th>839</th>\n",
              "      <td>1218</td>\n",
              "      <td>blizzard</td>\n",
              "      <td>N/A</td>\n",
              "      <td>I love the cotton candy blizzard??</td>\n",
              "    </tr>\n",
              "  </tbody>\n",
              "</table>\n",
              "</div>\n",
              "      <button class=\"colab-df-convert\" onclick=\"convertToInteractive('df-894c813e-d3dc-4138-933d-75a77e2e1389')\"\n",
              "              title=\"Convert this dataframe to an interactive table.\"\n",
              "              style=\"display:none;\">\n",
              "        \n",
              "  <svg xmlns=\"http://www.w3.org/2000/svg\" height=\"24px\"viewBox=\"0 0 24 24\"\n",
              "       width=\"24px\">\n",
              "    <path d=\"M0 0h24v24H0V0z\" fill=\"none\"/>\n",
              "    <path d=\"M18.56 5.44l.94 2.06.94-2.06 2.06-.94-2.06-.94-.94-2.06-.94 2.06-2.06.94zm-11 1L8.5 8.5l.94-2.06 2.06-.94-2.06-.94L8.5 2.5l-.94 2.06-2.06.94zm10 10l.94 2.06.94-2.06 2.06-.94-2.06-.94-.94-2.06-.94 2.06-2.06.94z\"/><path d=\"M17.41 7.96l-1.37-1.37c-.4-.4-.92-.59-1.43-.59-.52 0-1.04.2-1.43.59L10.3 9.45l-7.72 7.72c-.78.78-.78 2.05 0 2.83L4 21.41c.39.39.9.59 1.41.59.51 0 1.02-.2 1.41-.59l7.78-7.78 2.81-2.81c.8-.78.8-2.07 0-2.86zM5.41 20L4 18.59l7.72-7.72 1.47 1.35L5.41 20z\"/>\n",
              "  </svg>\n",
              "      </button>\n",
              "      \n",
              "  <style>\n",
              "    .colab-df-container {\n",
              "      display:flex;\n",
              "      flex-wrap:wrap;\n",
              "      gap: 12px;\n",
              "    }\n",
              "\n",
              "    .colab-df-convert {\n",
              "      background-color: #E8F0FE;\n",
              "      border: none;\n",
              "      border-radius: 50%;\n",
              "      cursor: pointer;\n",
              "      display: none;\n",
              "      fill: #1967D2;\n",
              "      height: 32px;\n",
              "      padding: 0 0 0 0;\n",
              "      width: 32px;\n",
              "    }\n",
              "\n",
              "    .colab-df-convert:hover {\n",
              "      background-color: #E2EBFA;\n",
              "      box-shadow: 0px 1px 2px rgba(60, 64, 67, 0.3), 0px 1px 3px 1px rgba(60, 64, 67, 0.15);\n",
              "      fill: #174EA6;\n",
              "    }\n",
              "\n",
              "    [theme=dark] .colab-df-convert {\n",
              "      background-color: #3B4455;\n",
              "      fill: #D2E3FC;\n",
              "    }\n",
              "\n",
              "    [theme=dark] .colab-df-convert:hover {\n",
              "      background-color: #434B5C;\n",
              "      box-shadow: 0px 1px 3px 1px rgba(0, 0, 0, 0.15);\n",
              "      filter: drop-shadow(0px 1px 2px rgba(0, 0, 0, 0.3));\n",
              "      fill: #FFFFFF;\n",
              "    }\n",
              "  </style>\n",
              "\n",
              "      <script>\n",
              "        const buttonEl =\n",
              "          document.querySelector('#df-894c813e-d3dc-4138-933d-75a77e2e1389 button.colab-df-convert');\n",
              "        buttonEl.style.display =\n",
              "          google.colab.kernel.accessAllowed ? 'block' : 'none';\n",
              "\n",
              "        async function convertToInteractive(key) {\n",
              "          const element = document.querySelector('#df-894c813e-d3dc-4138-933d-75a77e2e1389');\n",
              "          const dataTable =\n",
              "            await google.colab.kernel.invokeFunction('convertToInteractive',\n",
              "                                                     [key], {});\n",
              "          if (!dataTable) return;\n",
              "\n",
              "          const docLinkHtml = 'Like what you see? Visit the ' +\n",
              "            '<a target=\"_blank\" href=https://colab.research.google.com/notebooks/data_table.ipynb>data table notebook</a>'\n",
              "            + ' to learn more about interactive tables.';\n",
              "          element.innerHTML = '';\n",
              "          dataTable['output_type'] = 'display_data';\n",
              "          await google.colab.output.renderOutput(dataTable, element);\n",
              "          const docLink = document.createElement('div');\n",
              "          docLink.innerHTML = docLinkHtml;\n",
              "          element.appendChild(docLink);\n",
              "        }\n",
              "      </script>\n",
              "    </div>\n",
              "  </div>\n",
              "  "
            ],
            "text/plain": [
              "       id   keyword        location  \\\n",
              "822  1196  blizzard             N/A   \n",
              "840  1219  blizzard  Ontario Canada   \n",
              "820  1191  blizzard             N/A   \n",
              "846  1226  blizzard             N/A   \n",
              "839  1218  blizzard             N/A   \n",
              "\n",
              "                                                  text  \n",
              "822  @blizzard_fans Lucio!! Let's get the #overwatc...  \n",
              "840                   @TCGReno just hard reset my Xbox  \n",
              "820                       Stats http://t.co/U7vavyrGv9  \n",
              "846  Someone walk with me to DQ ??\\nI wanna Butterf...  \n",
              "839                 I love the cotton candy blizzard??  "
            ]
          },
          "metadata": {},
          "output_type": "display_data"
        }
      ],
      "source": [
        "display(X_train.loc[X_train['keyword'] == \"blizzard\"][:5])"
      ]
    },
    {
      "cell_type": "markdown",
      "metadata": {
        "id": "pWTrDfhabvIx"
      },
      "source": [
        "##Tweet Lengths"
      ]
    },
    {
      "cell_type": "markdown",
      "metadata": {
        "id": "IFgqQeX1NvGA"
      },
      "source": [
        "We will now proceed to count the length of the Tweets to see if it's necessary to truncate them, and if so, what length covers most of the data in order to truncate as few Tweets as possible, to preserve our data."
      ]
    },
    {
      "cell_type": "code",
      "execution_count": null,
      "metadata": {
        "id": "VBwkTomTb1eq"
      },
      "outputs": [],
      "source": [
        "# Here we map the words to their frequency \n",
        "# We use a defultdict in order to give a default value rather than an error\n",
        "# when a word is seen for the first time\n",
        "tweet_lengths = defaultdict(int)\n",
        "for tweet in X_train['text']:\n",
        "  tweet_lengths[len(tweet)] += 1\n",
        "lengths = tweet_lengths.keys()\n",
        "frequencies = tweet_lengths.values()"
      ]
    },
    {
      "cell_type": "code",
      "execution_count": null,
      "metadata": {
        "colab": {
          "base_uri": "https://localhost:8080/",
          "height": 54
        },
        "id": "MgaMUWQRJQvy",
        "outputId": "27180e91-c74d-4f4d-ebb5-1620b56e73a3"
      },
      "outputs": [
        {
          "data": {
            "image/png": "[encoded data removed]",
            "text/plain": [
              "<Figure size 640x480 with 1 Axes>"
            ]
          },
          "metadata": {},
          "output_type": "display_data"
        }
      ],
      "source": [
        "# Let's use a bar plot \n",
        "# The histogram function can take a list of inputs and corresponding labels.\n",
        "plt.bar(lengths, frequencies, color='blue')\n",
        "plt.xlabel(\"Length\")\n",
        "plt.ylabel(\"Frequency\")\n",
        "plt.title(\"Tweet Lengths and their Frequencies\")\n",
        "plt.show() "
      ]
    },
    {
      "cell_type": "markdown",
      "metadata": {
        "id": "VGBkLJax3IPc"
      },
      "source": [
        "In this case we can observe that Tweet sizes are relative small. This is due to the fact that Twitter has a limit of 280 characters per Tweet. Therefore, there is no need to truncate any of the Tweets.\n",
        "\n",
        "\n",
        "Now that we decided that there's no real benefit to truncate the Tweets, let's try to see if there is a noticeable difference between the lengths of the Tweets in the positive and the negative classes."
      ]
    },
    {
      "cell_type": "code",
      "execution_count": null,
      "metadata": {
        "colab": {
          "base_uri": "https://localhost:8080/",
          "height": 90
        },
        "id": "8gc638JS5nSL",
        "outputId": "284a3752-e261-4410-bf7a-db6cc2e3be40"
      },
      "outputs": [
        {
          "data": {
            "image/png": "[encoded data removed]",
            "text/plain": [
              "<Figure size 640x480 with 1 Axes>"
            ]
          },
          "metadata": {},
          "output_type": "display_data"
        },
        {
          "name": "stdout",
          "output_type": "stream",
          "text": [
            "Longest positive Tweet: 151\n",
            "Longest negative Tweet: 157\n"
          ]
        }
      ],
      "source": [
        "# Turn dataframes -> lists  \n",
        "X = X_train['text'].tolist()\n",
        "Y = Y_train['target'].tolist()\n",
        "\n",
        "# Create a list of lengths for training examples with a positive label.\n",
        "text_lengths_pos = [len(x) for (i, x) in enumerate(X) if Y[i]]\n",
        "\n",
        "# And a list of lengths for training examples with a negative label.\n",
        "text_lengths_neg = [len(x) for (i, x) in enumerate(X) if not Y[i]]\n",
        "\n",
        "# The histogram function can take a list of inputs and corresponding labels.\n",
        "plt.hist([text_lengths_pos, text_lengths_neg], bins=20, range=(0, 200),\n",
        "         label=['positive', 'negative'], density=True)\n",
        "\n",
        "plt.legend()\n",
        "plt.show()\n",
        "# Also check the longest Tweets from each class.\n",
        "print('Longest positive Tweet:', max(text_lengths_pos))\n",
        "print('Longest negative Tweet:', max(text_lengths_neg))"
      ]
    },
    {
      "cell_type": "markdown",
      "metadata": {
        "id": "oiv9EHb9Pb21"
      },
      "source": [
        "On average, Tweets not classified as being related to natural disasters tend to have longer lengths. This is due in part to these Tweets talking about other random topics, while Tweets about natural disasters tend to be more concise and constrained towards just reporting the incident."
      ]
    },
    {
      "cell_type": "markdown",
      "metadata": {
        "id": "Sm-AHXdd85hA"
      },
      "source": [
        "## Analyzing Our Vocabulary"
      ]
    },
    {
      "cell_type": "markdown",
      "metadata": {
        "id": "SIquWx7D8-5U"
      },
      "source": [
        "We will map the words present within Tweets to their frequencies in order to  get a sense of how many unique words we have. We will also plot the top words in our vocabulary to check for correlations between our positive and negative classifications, and whether it can help us in reducing our vocabulary size."
      ]
    },
    {
      "cell_type": "code",
      "execution_count": null,
      "metadata": {
        "colab": {
          "base_uri": "https://localhost:8080/"
        },
        "id": "O9-ERtIX9HU5",
        "outputId": "972202ae-12b9-4f15-e9ea-7c3831facbee"
      },
      "outputs": [
        {
          "name": "stdout",
          "output_type": "stream",
          "text": [
            "There are 29659 words in our vocabulary.\n"
          ]
        }
      ],
      "source": [
        "# Go through each word in each tweet to help build our vocabulary\n",
        "vocab = defaultdict(int)\n",
        "for tweet in X_train['text']:\n",
        "  for word in tweet.split(' '):\n",
        "    vocab[word] += 1\n",
        "\n",
        "print('There are', len(vocab), 'words in our vocabulary.')"
      ]
    },
    {
      "cell_type": "code",
      "execution_count": null,
      "metadata": {
        "id": "Gjw1o1Q690at"
      },
      "outputs": [],
      "source": [
        "# Find the top k most frequent words \n",
        "def k_most_frequent_words(data, iterations):\n",
        "  words, frequencies = [], []\n",
        "  copy_data = copy.deepcopy(data)\n",
        "  for i in range(iterations):\n",
        "    word = max(copy_data, key=data.get)  \n",
        "    frequency = copy_data[word]\n",
        "    words.append(word)\n",
        "    frequencies.append(frequency)\n",
        "    copy_data.pop(word)\n",
        "  return words, frequencies"
      ]
    },
    {
      "cell_type": "code",
      "execution_count": null,
      "metadata": {
        "id": "CoXRSB9eGTrd"
      },
      "outputs": [],
      "source": [
        "# Make a bar plot of the most frequent words\n",
        "def plot_most_frequent_words(data, quantity, width, heigth):\n",
        "  words, frequencies = k_most_frequent_words(data, quantity)\n",
        "  plt.figure(figsize=(width, heigth))\n",
        "  plt.bar(words, frequencies, color='blue')\n",
        "  plt.xlabel(\"Words\")\n",
        "  plt.ylabel(\"Frequencies\")\n",
        "  plt.title(\"Top K Words and their Frequencies\")\n",
        "  plt.show()"
      ]
    },
    {
      "cell_type": "code",
      "execution_count": null,
      "metadata": {
        "colab": {
          "base_uri": "https://localhost:8080/",
          "height": 54
        },
        "id": "NQH_JUUOFXJu",
        "outputId": "721661e6-4e4c-4279-bb66-648ca7589e28"
      },
      "outputs": [
        {
          "data": {
            "image/png": "[encoded data removed]",
            "text/plain": [
              "<Figure size 3000x1000 with 1 Axes>"
            ]
          },
          "metadata": {},
          "output_type": "display_data"
        }
      ],
      "source": [
        "plot_most_frequent_words(vocab, quantity=50, width=30, heigth=10)"
      ]
    },
    {
      "cell_type": "markdown",
      "metadata": {
        "id": "llVqhm-gA__f"
      },
      "source": [
        "From the plot, we can observe that the top 50 words don't really give any indication towards either class as most words are either articles or pronouns. Additionally, there are some special characters which don't really convey meaning such as \"??\" or \";amp;\". We can apply these observations later on when deciding on how to reduce our vocabulary."
      ]
    },
    {
      "cell_type": "markdown",
      "metadata": {
        "id": "qVHYRVhRZkkK"
      },
      "source": [
        "# Building Our Vocabulary "
      ]
    },
    {
      "cell_type": "markdown",
      "metadata": {
        "id": "tbPVfIOKInBZ"
      },
      "source": [
        "## Constructing & Encoding"
      ]
    },
    {
      "cell_type": "markdown",
      "metadata": {
        "id": "dMYTJYjuZyj5"
      },
      "source": [
        "The vocabulary we constructed during our data analysis maps words to their frequency, however, our models will only process numbers. When trying to encode the words, there is a possibility that the words that have the same frequency are in the same tweet, therefore, when we encode our text, words with the same frequency will be mapped to the same ID despite being different words. In the example below, we can examine a couple of examples of words with identical frequencies."
      ]
    },
    {
      "cell_type": "code",
      "execution_count": null,
      "metadata": {
        "colab": {
          "base_uri": "https://localhost:8080/"
        },
        "id": "Nls_bZgCZx-T",
        "outputId": "abb54483-c6f7-4131-bcfd-6f58ca936122"
      },
      "outputs": [],
      "source": [
        "# Let's sort our vocabulary by the values in descending order\n",
        "sorted_vocab = sorted(vocab.items(), key=lambda x:x[1], reverse=True)\n",
        "print(sorted_vocab)"
      ]
    },
    {
      "cell_type": "code",
      "execution_count": null,
      "metadata": {
        "colab": {
          "base_uri": "https://localhost:8080/"
        },
        "id": "T8m-x-MbfChS",
        "outputId": "a0da4ddf-9065-470b-a979-363f1228ab7b"
      },
      "outputs": [
        {
          "name": "stdout",
          "output_type": "stream",
          "text": [
            "'We' repeats 67 times\n",
            "'In' repeats 67 times\n"
          ]
        }
      ],
      "source": [
        "# Let's see an example of words that have the same frequency\n",
        "print(\"'We' repeats\", sorted_vocab[114][1], \"times\")\n",
        "print(\"'In' repeats\", sorted_vocab[115][1], \"times\")"
      ]
    },
    {
      "cell_type": "markdown",
      "metadata": {
        "id": "19PLFiluUaUK"
      },
      "source": [
        "We can fix this problem by creating a new vocabulary that maps words to a new ID. However, before we tackle this problem, we should first focus on sanitizing our text. \n",
        "\n",
        "Since each Tweet was scraped off of Twitter, many of them contain HTML entities and other unwanted characters within the final text. Our goal will be to strip and reduce each Tweet to a vocabulary as close to basic English as possible, which will make it easier to encode and feed that vocabulary into our model. By reducing the noise and keeping only relevant data, our model will generalize better. The code below explains in detail what parts of the Tweets are relevant to our model and what parts have to be removed.\n",
        "\n"
      ]
    },
    {
      "cell_type": "code",
      "execution_count": null,
      "metadata": {
        "colab": {
          "background_save": true,
          "base_uri": "https://localhost:8080/"
        },
        "id": "vC8yinknGiTQ",
        "outputId": "d2687206-1e03-418e-db1a-c9faf89a08b2"
      },
      "outputs": [
        {
          "name": "stdout",
          "output_type": "stream",
          "text": [
            "Looking in indexes: https://pypi.org/simple, https://us-python.pkg.dev/colab-wheels/public/simple/\n",
            "Requirement already satisfied: unidecode in /usr/local/lib/python3.9/dist-packages (1.3.6)\n"
          ]
        }
      ],
      "source": [
        "# Helps us replace special characters with English equivalents\n",
        "! pip install unidecode\n",
        "\n",
        "import nltk\n",
        "nltk.download('stopwords')"
      ]
    },
    {
      "cell_type": "code",
      "execution_count": null,
      "metadata": {
        "id": "u-VGBUyfGlYL"
      },
      "outputs": [],
      "source": [
        "from unidecode import unidecode\n",
        "from nltk.corpus import stopwords\n",
        "def sanitize_text(tweet):\n",
        "  \"\"\"Cleans up each word in our Tweets in order\n",
        "  to maximize our vocabulary and improve results.\"\"\"\n",
        "  # Don't treat words such as A and a differently\n",
        "  tweet = tweet.lower()  \n",
        "  # Not parsing links, replace with spaces\n",
        "  tweet = re.sub(r'http\\S+', ' ', tweet)  \n",
        "  # Remove hashtags but keep the words \n",
        "  # Also split the hashtags in case they're chained\n",
        "  # (Ex. #word1#word2)\n",
        "  tweet = tweet.replace(\"#\", \" \")\n",
        "  # Remove account mentions, tell us nothing\n",
        "  # about the final classification\n",
        "  tweet = re.sub(\"@[A-Za-z0-9]+\",\"\", tweet)\n",
        "  # Replace characters like ÛÏ\n",
        "  tweet = unidecode(tweet)\n",
        "  # Unescape HTML entities (ex. &gt;)\n",
        "  tweet = html.unescape(tweet)\n",
        "  # Not parsing numbers\n",
        "  tweet = re.sub('[0-9]', '', tweet)\n",
        "  # Remove all leftover punctuation\n",
        "  tweet = tweet.translate(str.maketrans('', '', string.punctuation))\n",
        "  # Short words are often \"garbage\"/leftover characters\n",
        "  # or don't mean anything\n",
        "  cleaned_tweet = [word for word in tweet.split() if len(word) > 2 \n",
        "                   and word not in stopwords.words('english')]\n",
        "  cleaned_tweet = ' '.join(cleaned_tweet)\n",
        "  # Remove consecutive spaces \n",
        "  cleaned_tweet = re.sub(' +', ' ', cleaned_tweet)\n",
        "  return cleaned_tweet"
      ]
    },
    {
      "cell_type": "code",
      "execution_count": null,
      "metadata": {
        "colab": {
          "base_uri": "https://localhost:8080/"
        },
        "id": "d9NuwuZ4Gone",
        "outputId": "9ea8ad6f-7350-4b7e-c6a6-d044a7d16c13"
      },
      "outputs": [
        {
          "name": "stdout",
          "output_type": "stream",
          "text": [
            "Original tweet: Malaysian Officials Say Debris Found on Reunion Island Is From #MH370. @BillNeelyNBC reports: http://t.co/r6kZSQDghZ\n",
            "Sanitized tweet: malaysian officials say debris found reunion island reports\n",
            "\n",
            "Original tweet: The Sinking Ship (@sinkingshipindy): Scarlet Lane Lenore  is on replacing Stone Saison (@StoneBrewingCo)\n",
            "Sanitized tweet: sinking ship scarlet lane lenore replacing stone saison\n",
            "\n",
            "Original tweet: @TfLBusAlerts @TfLBusAlerts The Drive in Ilford closed both ways while emergency services deal with a call out. Buses are now stuck.\n",
            "Sanitized tweet: drive ilford closed ways emergency services deal call buses stuck\n",
            "\n"
          ]
        }
      ],
      "source": [
        "# Test our pre processing function\n",
        "examples = [X[70], X[65], X[234]]\n",
        "for s in examples:\n",
        "  print(f\"Original tweet: {s}\")\n",
        "  print(f\"Sanitized tweet: {sanitize_text(s)}\\n\")"
      ]
    },
    {
      "cell_type": "markdown",
      "metadata": {
        "id": "35MSW0WaGqu6"
      },
      "source": [
        "Now that we've tested our function to clean up text, we can apply it to the entire data set before encoding it. We will encode the text, in order for our models to understand it, by mapping each word to a unique ID that increases every time we encounter a word."
      ]
    },
    {
      "cell_type": "code",
      "execution_count": null,
      "metadata": {
        "colab": {
          "base_uri": "https://localhost:8080/"
        },
        "id": "teDviLL7HHU8",
        "outputId": "63d99b08-4640-4c6b-8de7-d691ace1a280"
      },
      "outputs": [
        {
          "name": "stdout",
          "output_type": "stream",
          "text": [
            "Original text: Our Deeds are the Reason of this #earthquake May ALLAH Forgive us all\n",
            "Cleaned text: deeds reason earthquake may allah forgive\n"
          ]
        }
      ],
      "source": [
        "# Clean our training data\n",
        "X_train_sanitized = X_train['text'].apply(lambda x: sanitize_text(x))\n",
        "# Verify it was sanitized\n",
        "print(f\"Original text: {X_train['text'][0]}\")\n",
        "print(f\"Cleaned text: {X_train_sanitized[0]}\")"
      ]
    },
    {
      "cell_type": "code",
      "execution_count": null,
      "metadata": {
        "colab": {
          "base_uri": "https://localhost:8080/"
        },
        "id": "ZcMJCkPrfEL5",
        "outputId": "7be36cd7-57f5-4de4-9db8-e6c3b08fc854"
      },
      "outputs": [],
      "source": [
        "# We start from 1 to reserve space for OOV words\n",
        "new_vocab = dict()\n",
        "id = 1\n",
        "OOV = 0\n",
        "# Sort the old vocab by frequency\n",
        "old_vocab = defaultdict(int)\n",
        "for tweet in X_train_sanitized:\n",
        "  for word in tweet.split():\n",
        "    old_vocab[word] += 1\n",
        "\n",
        "# Map by ID each time a word is found and display them\n",
        "sorted_old_vocab = sorted(old_vocab.items(), key=lambda x:x[1], reverse=True)\n",
        "for word, freq in sorted_old_vocab:\n",
        "  new_vocab[word] = id\n",
        "  id += 1\n",
        "\n",
        "#sorted_new_vocab = sorted(new_vocab.items(), key=lambda x:x[1])\n",
        "print(new_vocab)\n",
        "print(f\"The cleaned vocab is {len(new_vocab)} words long\")"
      ]
    },
    {
      "cell_type": "code",
      "execution_count": null,
      "metadata": {
        "colab": {
          "base_uri": "https://localhost:8080/"
        },
        "id": "wsf3sG-aExeG",
        "outputId": "ab298eef-db04-47e3-97cb-2ec495874582"
      },
      "outputs": [],
      "source": [
        "# Keep track of what ID each word maps to\n",
        "# Let's reserve * for OOV \n",
        "encode_to_words = dict([(val, key) for (key, val) in new_vocab.items()])\n",
        "encode_to_words[0] = '*'\n",
        "print(encode_to_words)"
      ]
    },
    {
      "cell_type": "code",
      "execution_count": null,
      "metadata": {
        "id": "PBQoY9bkemx9"
      },
      "outputs": [],
      "source": [
        "# Encodes tweets using our vocabulary so we can use them in our models \n",
        "def encode(text):\n",
        "  result = []\n",
        "  text = sanitize_text(text)\n",
        "  # We know what this word encodes to\n",
        "  for word in text.split():\n",
        "    if word in new_vocab:\n",
        "      result.append(new_vocab[word])\n",
        "    # OOV\n",
        "    else:\n",
        "      result.append(OOV)\n",
        "  return np.array(result)  # for model processing"
      ]
    },
    {
      "cell_type": "markdown",
      "metadata": {
        "id": "2Q3-4DOmMz0O"
      },
      "source": [
        "Let's now make a decoding function, to retrieve the original text from an encoded array, and test to ensure that the encoding works as expected."
      ]
    },
    {
      "cell_type": "code",
      "execution_count": null,
      "metadata": {
        "id": "YVFVhB3KHGob"
      },
      "outputs": [],
      "source": [
        "# Decodes our vocabulary\n",
        "def decode(word_array):\n",
        "  result = []\n",
        "  for code in word_array:\n",
        "    result.append(encode_to_words[code])\n",
        "  return ' '.join(result)"
      ]
    },
    {
      "cell_type": "code",
      "execution_count": null,
      "metadata": {
        "colab": {
          "base_uri": "https://localhost:8080/"
        },
        "id": "QKcrVGnQfQCp",
        "outputId": "4275d95a-f475-4f2b-f728-3e33e1532813"
      },
      "outputs": [
        {
          "name": "stdout",
          "output_type": "stream",
          "text": [
            "Old vocab: Indeed!! I am fully aware of that battle! I support you in that fight!!  https://t.co/MctJnZX4H8\n",
            "New vocab: [1381 1074 1927  257  506  484]\n",
            "Decoded vocab: indeed fully aware battle support fight\n"
          ]
        }
      ],
      "source": [
        "# Example of our encoding/decoding functions\n",
        "text = X[10]\n",
        "encoded_text = encode(text)\n",
        "print(f\"Old vocab: {text}\")\n",
        "print(f\"New vocab: {encoded_text}\")\n",
        "print(f\"Decoded vocab: {decode(encoded_text)}\") "
      ]
    },
    {
      "cell_type": "markdown",
      "metadata": {
        "id": "o3tjTJM2FQ0u"
      },
      "source": [
        "Now that we've tested that we can encode and decode text appropriately, we can encode the entire training set and utilize that for our models."
      ]
    },
    {
      "cell_type": "code",
      "execution_count": null,
      "metadata": {
        "id": "Fny2rwSa2sF_"
      },
      "outputs": [],
      "source": [
        "def encode_data(data):\n",
        "  encoded = []\n",
        "  for tweet in data:\n",
        "    encoded.append(encode(tweet))\n",
        "  return np.array(encoded, dtype=object)"
      ]
    },
    {
      "cell_type": "code",
      "execution_count": null,
      "metadata": {
        "colab": {
          "base_uri": "https://localhost:8080/"
        },
        "id": "wzJSjzc1g_E4",
        "outputId": "fb429677-a623-457e-fb39-50ee354d1627"
      },
      "outputs": [
        {
          "name": "stdout",
          "output_type": "stream",
          "text": [
            "6851\n",
            "6851\n"
          ]
        }
      ],
      "source": [
        "# Encoding all of our training data\n",
        "X_train_encoded = encode_data(X_train['text'])\n",
        "print(len(X_train))\n",
        "print(len(X_train_encoded))"
      ]
    },
    {
      "cell_type": "markdown",
      "metadata": {
        "id": "8_CLi2epI4CJ"
      },
      "source": [
        "## Padding & Limiting our Data"
      ]
    },
    {
      "cell_type": "markdown",
      "metadata": {
        "id": "aUE3hxJ5SFrw"
      },
      "source": [
        "In order to fit the data to our model and for our neural network inputs to be roughly the same size, we need to pad our text such that each Tweet has the same length. Given that the length of our longest Tweet in the training set was 157 words long, we can safely pad all of our Tweets to a maximum length of 160 words."
      ]
    },
    {
      "cell_type": "code",
      "execution_count": null,
      "metadata": {
        "colab": {
          "base_uri": "https://localhost:8080/"
        },
        "id": "WQJCgnz8SEuS",
        "outputId": "a870d5f1-c4b7-4758-e5f8-8077927a9db2"
      },
      "outputs": [
        {
          "name": "stdout",
          "output_type": "stream",
          "text": [
            "160\n"
          ]
        }
      ],
      "source": [
        "def pad_data(tweets, max_length=160):\n",
        "  # Model can only process numpy arrays\n",
        "  return np.array(list(\n",
        "      tf.keras.preprocessing.sequence.pad_sequences(\n",
        "          tweets, maxlen=max_length, padding='post', value=0)))\n",
        "\n",
        "X_train_padded = pad_data(X_train_encoded)\n",
        "print(X_train_padded[0].size)"
      ]
    },
    {
      "cell_type": "markdown",
      "metadata": {
        "id": "gTw27JwfpapF"
      },
      "source": [
        "After padding the data, we will limit our vocabulary size to facilitate training on our data and cut down on processing time."
      ]
    },
    {
      "cell_type": "code",
      "execution_count": null,
      "metadata": {
        "colab": {
          "base_uri": "https://localhost:8080/"
        },
        "id": "f0Q7bnQYpV0j",
        "outputId": "66df6f58-0d38-42aa-8a85-6d4d34432413"
      },
      "outputs": [
        {
          "name": "stdout",
          "output_type": "stream",
          "text": [
            "Original vocabulary: Our builder is having a dental emergency. Which has ruined my plan to emotionally blackmail him this afternoon with my bump.\n",
            "Padded/reduced vocabulary: * * emergency * plan * * afternoon * * * * * * * * * * * * * * * * * * * * * * * * * * * * * * * * * * * * * * * * * * * * * * * * * * * * * * * * * * * * * * * * * * * * * * * * * * * * * * * * * * * * * * * * * * * * * * * * * * * * * * * * * * * * * * * * * * * * * * * * * * * * * * * * * * * * * * * * * * * * * * * * * * * * * * * *\n",
            "\n",
            "Original vocabulary: Tube strike live: Latest travel updates as London is engulfed in chaos: Û_  cross-London travel will be accepte...  http://t.co/vg8HRbebdA\n",
            "Padded/reduced vocabulary: tube strike live latest travel updates london engulfed * * travel * * * * * * * * * * * * * * * * * * * * * * * * * * * * * * * * * * * * * * * * * * * * * * * * * * * * * * * * * * * * * * * * * * * * * * * * * * * * * * * * * * * * * * * * * * * * * * * * * * * * * * * * * * * * * * * * * * * * * * * * * * * * * * * * * * * * * * * * * * * * * * * * * * * * *\n"
          ]
        }
      ],
      "source": [
        "def limit_vocab(sequences, max_token_id=2000, oov_id=0):\n",
        "  \"\"\"Reduces number of tokens in our vocabulary by setting everything greater \n",
        "  the number of tokens we want to our OOV ID.\"\"\"\n",
        "  reduced_sequences = np.copy(sequences)\n",
        "  reduced_sequences[reduced_sequences >= max_token_id] = oov_id\n",
        "  return reduced_sequences\n",
        "\n",
        "X_train_reduced = limit_vocab(X_train_padded)\n",
        "# Compare results\n",
        "print(f\"Original vocabulary: {X[0]}\")\n",
        "print(f\"Padded/reduced vocabulary: {decode(X_train_reduced[0])}\\n\")\n",
        "\n",
        "print(f\"Original vocabulary: {X[69]}\")\n",
        "print(f\"Padded/reduced vocabulary: {decode(X_train_reduced[69])}\")"
      ]
    },
    {
      "cell_type": "markdown",
      "metadata": {
        "id": "AcEwLYOZQFA5"
      },
      "source": [
        "Before continuing on to build and experiment with our model, we must pad and limit the test data in the same way. "
      ]
    },
    {
      "cell_type": "code",
      "execution_count": null,
      "metadata": {
        "id": "0uhKF6djQONG"
      },
      "outputs": [],
      "source": [
        "X_test_padded = pad_data(encode_data(X_test['text']))\n",
        "X_test_reduced = limit_vocab(X_test_padded)"
      ]
    },
    {
      "cell_type": "markdown",
      "metadata": {
        "id": "Vus5otQ_RNAz"
      },
      "source": [
        "# Building Our Models"
      ]
    },
    {
      "cell_type": "markdown",
      "metadata": {
        "id": "GPv998_rYKsY"
      },
      "source": [
        "## FFNN Binary Classifier: V1"
      ]
    },
    {
      "cell_type": "markdown",
      "metadata": {
        "id": "eQTWU0-vSHM-"
      },
      "source": [
        "Our initial model will be a Feed Forward Neural Network text classifier. We will create an embedding and output layer along with additional, ReLU activation hidden layers to handle intermediate computations and improve our accuracy. Averaging our data will also result in more accurate predictions and will avoid overfitting. Since we are dealing with a binary classification problem, we will utilize a sigmoid activation function along with a binary cross entropy loss function for our model, which we'll be calling *V1*."
      ]
    },
    {
      "cell_type": "code",
      "execution_count": null,
      "metadata": {
        "id": "1FZdjLOHPeAT"
      },
      "outputs": [],
      "source": [
        "vocab_length = 10000\n",
        "embed_dim = 128\n",
        "\n",
        "def build_embeddings_model(vocab_size=vocab_length,   # Vocab size\n",
        "                            sequence_length=160,      # Tweet length\n",
        "                            embedding_dim=embed_dim): # Embedding dim size\n",
        "    \"\"\"Build a TF model using embeddings\"\"\"\n",
        "    # Consistent results\n",
        "    tf.keras.backend.clear_session()\n",
        "    tf.keras.utils.set_random_seed(0)\n",
        "\n",
        "    model = tf.keras.Sequential()\n",
        "    # Input/Embedding layer\n",
        "    model.add(tf.keras.layers.Embedding(\n",
        "        input_dim=vocab_size,\n",
        "        output_dim=embedding_dim,\n",
        "        input_length=sequence_length)\n",
        "    )\n",
        "\n",
        "    # Average our data\n",
        "    model.add(tf.keras.layers.GlobalAveragePooling1D()) \n",
        "\n",
        "    # Hidden layers\n",
        "    model.add(tf.keras.layers.Dense(units=64, activation='relu'))\n",
        "    model.add(tf.keras.layers.Dense(units=64, activation='relu'))\n",
        "    model.add(tf.keras.layers.Dense(units=64, activation='relu'))\n",
        "\n",
        "    # Output layer\n",
        "    model.add(tf.keras.layers.Dense(\n",
        "        units=1,                     # output dim (for binary classification)\n",
        "        activation='sigmoid'         \n",
        "    ))\n",
        "\n",
        "    model.compile(loss='binary_crossentropy',\n",
        "                  optimizer='adam',\n",
        "                  metrics=['accuracy'])\n",
        "    return model"
      ]
    },
    {
      "cell_type": "markdown",
      "metadata": {
        "id": "9sp3v14xU3k_"
      },
      "source": [
        "Let's now train this model with our training data and see how it performs. We'll be utilizing a batch size of 64 and a 10% of our examples for validation. Additionally, we'll plot how the loss reduces throughout the epochs to have an indication of whether our data is being overfit/underfit or not and if so, adjust our model's parameters accordingly."
      ]
    },
    {
      "cell_type": "code",
      "execution_count": null,
      "metadata": {
        "id": "4sGs0UV9Gk37"
      },
      "outputs": [],
      "source": [
        "def plot_history(history):\n",
        "  plt.ylabel('Loss')\n",
        "  plt.xlabel('Epoch')\n",
        "  plt.xticks(range(0, len(history['loss'] + 1)))\n",
        "  plt.plot(history['loss'], label=\"training\", marker='o')\n",
        "  plt.plot(history['val_loss'], label=\"validation\", marker='o')\n",
        "  plt.legend()\n",
        "  plt.show()"
      ]
    },
    {
      "cell_type": "code",
      "execution_count": null,
      "metadata": {
        "colab": {
          "base_uri": "https://localhost:8080/",
          "height": 678
        },
        "id": "spWRknbhUnQL",
        "outputId": "ae127124-b99d-42fe-f5a0-239d4c0c2aa8"
      },
      "outputs": [
        {
          "name": "stdout",
          "output_type": "stream",
          "text": [
            "V1 Training Results\n",
            "-------------------\n",
            "Epoch 1/5\n",
            "97/97 [==============================] - 5s 28ms/step - loss: 0.6837 - accuracy: 0.5648 - val_loss: 0.6811 - val_accuracy: 0.5714\n",
            "Epoch 2/5\n",
            "97/97 [==============================] - 2s 23ms/step - loss: 0.6763 - accuracy: 0.5697 - val_loss: 0.6566 - val_accuracy: 0.5714\n",
            "Epoch 3/5\n",
            "97/97 [==============================] - 2s 22ms/step - loss: 0.5382 - accuracy: 0.7338 - val_loss: 0.4698 - val_accuracy: 0.8090\n",
            "Epoch 4/5\n",
            "97/97 [==============================] - 2s 24ms/step - loss: 0.3906 - accuracy: 0.8316 - val_loss: 0.4655 - val_accuracy: 0.8061\n",
            "Epoch 5/5\n",
            "97/97 [==============================] - 3s 32ms/step - loss: 0.3575 - accuracy: 0.8467 - val_loss: 0.4731 - val_accuracy: 0.8032\n"
          ]
        },
        {
          "data": {
            "image/png": "[encoded data removed]",
            "text/plain": [
              "<Figure size 640x480 with 1 Axes>"
            ]
          },
          "metadata": {},
          "output_type": "display_data"
        }
      ],
      "source": [
        "def train_V1():\n",
        "  ffnn_model = build_embeddings_model()\n",
        "  print(\"V1 Training Results\\n-------------------\")\n",
        "  history = ffnn_model.fit(\n",
        "    x = X_train_reduced,   # Padded training data\n",
        "    y = Y_train,          # Binary labels\n",
        "    epochs=5,             \n",
        "    batch_size=64,        # mini-batch size\n",
        "    validation_split=0.1, # use a fraction of the examples for validation\n",
        "    verbose=1             # display some progress output during training\n",
        "  )\n",
        "  # Plot training attempt\n",
        "  history = pd.DataFrame(history.history)\n",
        "  plot_history(history)\n",
        "  return ffnn_model\n",
        "\n",
        "ffnn_model = train_V1()"
      ]
    },
    {
      "cell_type": "markdown",
      "metadata": {
        "id": "m8aHw1FRW7fd"
      },
      "source": [
        "V1 produces a validation accuracy of about 80% without severely underfitting the data, a good result for this model. We can now calculate the F1 score and submit the predictions for V1.\n",
        "\n",
        "We'll begin by calculating the F1 score on the validation data by producing our predictions for that data set. The first two functions below will be handling all of the predictions for us for the given model and test sets."
      ]
    },
    {
      "cell_type": "code",
      "execution_count": null,
      "metadata": {
        "id": "apETuIbqgXkV"
      },
      "outputs": [],
      "source": [
        "def produce_binary_predictions(predictions):\n",
        "  \"\"\"Takes in the probabilities generated by TF's predictions\n",
        "  and assigns those to the positive or negative classes.\"\"\"\n",
        "  for i, pred in enumerate(predictions):\n",
        "    # Assign to the negative class\n",
        "    if pred < 0.5:\n",
        "      predictions[i] = 0\n",
        "    # >= 0.5, more than half chance it's of the positive class\n",
        "    else:\n",
        "      predictions[i] = 1"
      ]
    },
    {
      "cell_type": "code",
      "execution_count": null,
      "metadata": {
        "id": "2mx_25yAY65H"
      },
      "outputs": [],
      "source": [
        "def make_model_predictions(model, test_data):\n",
        "  \"\"\"Returns an array of the final predictions\n",
        "  for a given model.\"\"\"\n",
        "  preds = model.predict(test_data)\n",
        "  produce_binary_predictions(preds)\n",
        "  return preds.flatten().astype(int)"
      ]
    },
    {
      "cell_type": "code",
      "execution_count": null,
      "metadata": {
        "colab": {
          "base_uri": "https://localhost:8080/"
        },
        "id": "hKfW8Mst9JGu",
        "outputId": "f71772fd-eaeb-4f7b-837b-3daa7751e26e"
      },
      "outputs": [
        {
          "name": "stdout",
          "output_type": "stream",
          "text": [
            "24/24 [==============================] - 0s 3ms/step\n",
            "The F1 score, on the validation set, for V1: 0.7606112054329371\n"
          ]
        }
      ],
      "source": [
        "# Make predictions on the validation data\n",
        "v1_val_preds = make_model_predictions(ffnn_model, X_test_reduced)\n",
        "# Compute the F1 score.\n",
        "v1_val_score = f1_score(np.array(Y_test['target']), v1_val_preds)\n",
        "print(f\"The F1 score, on the validation set, for V1: {v1_val_score}\")"
      ]
    },
    {
      "cell_type": "markdown",
      "metadata": {
        "id": "zyhUVyMtBYl3"
      },
      "source": [
        "Now that we've calculated the F1 score and obtained a satisfactory result, we can run the model on our blind test data."
      ]
    },
    {
      "cell_type": "code",
      "execution_count": null,
      "metadata": {
        "colab": {
          "base_uri": "https://localhost:8080/"
        },
        "id": "0fJ57d7cdxvU",
        "outputId": "84525566-643d-46c8-beec-fda6ba6ac04e"
      },
      "outputs": [
        {
          "name": "stdout",
          "output_type": "stream",
          "text": [
            "102/102 [==============================] - 0s 2ms/step\n"
          ]
        }
      ],
      "source": [
        "# Pad and limit our actual test data\n",
        "test_padded = pad_data(encode_data(test_data['text']))\n",
        "test_reduced = limit_vocab(test_padded)\n",
        "# Make the predictions\n",
        "v1_predictions = make_model_predictions(ffnn_model, test_reduced)"
      ]
    },
    {
      "cell_type": "markdown",
      "metadata": {
        "id": "Jc5jHAHTjcts"
      },
      "source": [
        "Given how padding and limiting data doesn't change its order around, we can write our results to our final CSV in the same order."
      ]
    },
    {
      "cell_type": "code",
      "execution_count": null,
      "metadata": {
        "id": "Ug45J6lni4lg"
      },
      "outputs": [],
      "source": [
        "def create_predictions_csv(predictions, filename):\n",
        "  \"\"\"Creates a CSV with the given predictions,\n",
        "  from the testing data set, and saves it.\"\"\"\n",
        "  data_dict = {'id': [], 'target': []}\n",
        "  for i, id in enumerate(test_data['id']):\n",
        "    # Write our predictions\n",
        "    data_dict['id'].append(id)\n",
        "    data_dict['target'].append(predictions[i])\n",
        "\n",
        "  # Convert dict to dataframe to facilitate writing to a CSV\n",
        "  df = pd.DataFrame(data_dict)\n",
        "  df.to_csv(f'{filename}', index=False) "
      ]
    },
    {
      "cell_type": "code",
      "execution_count": null,
      "metadata": {
        "id": "oJzMyjvM6vcl"
      },
      "outputs": [],
      "source": [
        "create_predictions_csv(v1_predictions, 'v1.csv')"
      ]
    },
    {
      "cell_type": "markdown",
      "metadata": {
        "id": "cD29BU7ukK31"
      },
      "source": [
        "We can now submit our *V1* model's predictions to Kaggle and jot down its score. The table below summarizes how this model performed."
      ]
    },
    {
      "cell_type": "code",
      "execution_count": null,
      "metadata": {
        "colab": {
          "base_uri": "https://localhost:8080/"
        },
        "id": "YuyUC8fMkVXr",
        "outputId": "39a0b1c4-67b5-4b74-b897-c0cf3decd38a"
      },
      "outputs": [
        {
          "name": "stdout",
          "output_type": "stream",
          "text": [
            "100% 22.2k/22.2k [00:00<00:00, 106kB/s]\n",
            "Successfully submitted to TechExchange 2023 ML Project"
          ]
        }
      ],
      "source": [
        "# ! kaggle competitions submit techexchange-2023-ml-project -f ./v1.csv -m \"Model V1 Predictions\""
      ]
    },
    {
      "cell_type": "markdown",
      "metadata": {
        "id": "NW9TIq7FXGzO"
      },
      "source": [
        "| Model | F1 (Validation)  | Kaggle Score |  \n",
        "|-------|-----|--------------|\n",
        "| Baseline| 0  | 0.57033|\n",
        "| V1|  0.75376  | 0.78700 |"
      ]
    },
    {
      "cell_type": "markdown",
      "metadata": {
        "id": "T9-SUL5lCSQ9"
      },
      "source": [
        "## CNN Binary Classifier: V2"
      ]
    },
    {
      "cell_type": "markdown",
      "metadata": {
        "id": "562sJe9BAReI"
      },
      "source": [
        "Despite our FFNN being a good enough classifier, we will attempt to improve our loss and accuracy by entirely changing our model architecture to a Convolutional Neural Network. When implemented correctly, the filters in a CNN can help identify patterns or sentiments within our text regardless of word order in the sentence. Since CNNs analyze each word independently, it can help identify correlations between keywords in a Tweet and its final classification. \n",
        "\n",
        "This next model will be reffered to as *V2* and will have similar parameters and activation functions as V1, but with convolutional layers instead of hidden layers."
      ]
    },
    {
      "cell_type": "code",
      "execution_count": null,
      "metadata": {
        "id": "HeOuMKsQRR6D"
      },
      "outputs": [],
      "source": [
        "vocab_length = 10000\n",
        "embed_dim = 8\n",
        "\n",
        "def build_CNN_model(vocab_size=vocab_length,  # Vocab size\n",
        "                    sequence_length=160,      # Tweet length\n",
        "                    embedding_dim=embed_dim): # Embedding dim size\n",
        "    \"\"\"Builds a TF model utilizing convolutional layers.\"\"\"\n",
        "    # Consistent results\n",
        "    tf.keras.backend.clear_session()\n",
        "    tf.keras.utils.set_random_seed(0)\n",
        "\n",
        "    # Input layer\n",
        "    x = tf.keras.Input(shape=(sequence_length))                         \n",
        "    \n",
        "    # Embedding layer \n",
        "    tweet_emb = tf.keras.layers.Embedding(input_dim=vocab_size,\n",
        "                                          output_dim=embedding_dim,\n",
        "                                          input_length=sequence_length)(x)\n",
        "\n",
        "    # Convolutional filters of increasing sliding window sizes\n",
        "    c1 = tf.keras.layers.Conv1D(\n",
        "        filters=32, kernel_size=4, padding='same', activation='relu')(tweet_emb)\n",
        "\n",
        "    c2 = tf.keras.layers.Conv1D(\n",
        "        filters=32, kernel_size=5, padding='same', activation='relu')(tweet_emb)\n",
        "\n",
        "    c3 = tf.keras.layers.Conv1D(\n",
        "        filters=32, kernel_size=6, padding='same', activation='relu')(tweet_emb)\n",
        "\n",
        "    c4 = tf.keras.layers.Conv1D(\n",
        "        filters=32, kernel_size=7, padding='same', activation='relu')(tweet_emb)\n",
        "\n",
        "    # Concatenate feature maps, get max value with max-pool, \n",
        "    # and flatten into a vector\n",
        "    y = tf.keras.layers.Concatenate()([c1, c2, c3, c4])\n",
        "    y = tf.keras.layers.Dropout(rate=0.05)(y)  # Minimize overfitting\n",
        "    y = tf.keras.layers.MaxPool1D(pool_size=sequence_length)(y)\n",
        "    y = tf.keras.layers.Flatten()(y)\n",
        "\n",
        "    # Dense layer \n",
        "    y = tf.keras.layers.Dense(units=embedding_dim, activation='relu')(y)\n",
        "\n",
        "    # Output layer\n",
        "    y = tf.keras.layers.Dense(units=1, activation='sigmoid')(y)\n",
        "\n",
        "    # Compile our model \n",
        "    model = tf.keras.Model(inputs=x, outputs=y)\n",
        "    model.compile(loss='binary_crossentropy', optimizer='adam',\n",
        "                  metrics=['accuracy'])\n",
        "    return model"
      ]
    },
    {
      "cell_type": "markdown",
      "metadata": {
        "id": "l6OD-KT6LX3r"
      },
      "source": [
        "With our CNN model constructed, let's observe how it performs during training in order to adjust to model to account for underfitting."
      ]
    },
    {
      "cell_type": "code",
      "execution_count": null,
      "metadata": {
        "colab": {
          "base_uri": "https://localhost:8080/",
          "height": 637
        },
        "id": "Wh1XC8xGMD8D",
        "outputId": "8a1e7bdf-3101-4a59-f3bb-d8adfef6357e"
      },
      "outputs": [
        {
          "name": "stdout",
          "output_type": "stream",
          "text": [
            "V2 Training Results\n",
            "-------------------\n",
            "Epoch 1/4\n",
            "97/97 [==============================] - 13s 109ms/step - loss: 0.6656 - accuracy: 0.6024 - val_loss: 0.5975 - val_accuracy: 0.7230\n",
            "Epoch 2/4\n",
            "97/97 [==============================] - 7s 70ms/step - loss: 0.4603 - accuracy: 0.8036 - val_loss: 0.4431 - val_accuracy: 0.8163\n",
            "Epoch 3/4\n",
            "97/97 [==============================] - 5s 55ms/step - loss: 0.3534 - accuracy: 0.8503 - val_loss: 0.4524 - val_accuracy: 0.8076\n",
            "Epoch 4/4\n",
            "97/97 [==============================] - 6s 63ms/step - loss: 0.3139 - accuracy: 0.8720 - val_loss: 0.4759 - val_accuracy: 0.7974\n"
          ]
        },
        {
          "data": {
            "image/png": "[encoded data removed]",
            "text/plain": [
              "<Figure size 640x480 with 1 Axes>"
            ]
          },
          "metadata": {},
          "output_type": "display_data"
        }
      ],
      "source": [
        "def train_V2():\n",
        "  cnn_model = build_CNN_model()\n",
        "  print(\"V2 Training Results\\n-------------------\")\n",
        "  history = cnn_model.fit( \n",
        "    x = X_train_reduced, \n",
        "    y = Y_train,                   \n",
        "    epochs=4, # the extra epochs offer no improvements        \n",
        "    batch_size=64,        \n",
        "    validation_split=0.1, \n",
        "    verbose=1)\n",
        "\n",
        "  # Plot training attempt\n",
        "  history = pd.DataFrame(history.history)\n",
        "  plot_history(history)\n",
        "  return cnn_model\n",
        "\n",
        "cnn_model = train_V2()"
      ]
    },
    {
      "cell_type": "markdown",
      "metadata": {
        "id": "45vlffNQxH1V"
      },
      "source": [
        "V2 produces a final validation loss and accuracy of 0.4759 and 0.7974 respectively, no improvement at all during training compared to V1, which featured a validation loss and accuracy of 0.4725 and 0.7959. Let's continue seeing how the CNN compares by calculating its F1 score and submitting our predictions."
      ]
    },
    {
      "cell_type": "code",
      "execution_count": null,
      "metadata": {
        "colab": {
          "base_uri": "https://localhost:8080/"
        },
        "id": "NF-g0frqCiZv",
        "outputId": "113befab-9fba-43ec-e11b-2a4def4bd85b"
      },
      "outputs": [
        {
          "name": "stdout",
          "output_type": "stream",
          "text": [
            "24/24 [==============================] - 0s 11ms/step\n",
            "The F1 score, on the validation set, for V2: 0.7581903276131045\n"
          ]
        }
      ],
      "source": [
        "# Make predictions on the validation data\n",
        "v2_val_preds = make_model_predictions(cnn_model, X_test_reduced)\n",
        "# Compute the F1 score.\n",
        "v2_val_score = f1_score(np.array(Y_test['target']), v2_val_preds)\n",
        "print(f\"The F1 score, on the validation set, for V2: {v2_val_score}\")"
      ]
    },
    {
      "cell_type": "code",
      "execution_count": null,
      "metadata": {
        "colab": {
          "base_uri": "https://localhost:8080/"
        },
        "id": "LwEcj8CiUcQo",
        "outputId": "a82cce4b-5058-4fa5-cd34-89a2731a0f59"
      },
      "outputs": [
        {
          "name": "stdout",
          "output_type": "stream",
          "text": [
            "102/102 [==============================] - 1s 6ms/step\n"
          ]
        }
      ],
      "source": [
        "# Make the predictions on the blind test data\n",
        "v2_predictions = make_model_predictions(cnn_model, test_reduced)\n",
        "create_predictions_csv(v2_predictions, 'v2.csv')"
      ]
    },
    {
      "cell_type": "code",
      "execution_count": null,
      "metadata": {
        "colab": {
          "base_uri": "https://localhost:8080/"
        },
        "id": "3jpSjKC1Up5_",
        "outputId": "d805a7bc-4280-429c-cadf-54bb4d31d43c"
      },
      "outputs": [
        {
          "name": "stdout",
          "output_type": "stream",
          "text": [
            "\r  0% 0.00/22.2k [00:00<?, ?B/s]\r100% 22.2k/22.2k [00:00<00:00, 109kB/s]\n",
            "Successfully submitted to TechExchange 2023 ML Project"
          ]
        }
      ],
      "source": [
        "# ! kaggle competitions submit techexchange-2023-ml-project -f ./v2.csv -m \"Model V2 Predictions\""
      ]
    },
    {
      "cell_type": "markdown",
      "metadata": {
        "id": "bzZ4u8XJUszO"
      },
      "source": [
        "Our performance table, now including all 3 models developed thus far, is included below."
      ]
    },
    {
      "cell_type": "markdown",
      "metadata": {
        "id": "FcfG3DUCVEkz"
      },
      "source": [
        "| Model | F1 (Validation)  | Kaggle Score |  \n",
        "|-------|-----|--------------|\n",
        "| Baseline| 0  | 0.57033|\n",
        "| V1|  0.75376  | 0.78700 |\n",
        "| V2|  0.75819  | 0.77842 |"
      ]
    },
    {
      "cell_type": "markdown",
      "metadata": {
        "id": "QDFO_ltvQVWz"
      },
      "source": [
        "Observing that V2 scored a slightly better F1 score but performed worse than V1 in all other aspects, it can be concluded that this model is not generalizing well. It is likely memorizing data rather than learning correlations between words and whether something is a natural disaster. This is backed by the fact that CNNs work best with larger training sets or other data types that simpler architectures struggle with, such as image classification. \n",
        "\n",
        "Attempting to improve V2 by tweaking the parameters led to diminishing improvements, meaning that the problem with the model is likely the type of architecture being utilized. In conclusion, FFNN models are more efficient at handling non linear data while being better suited towards text classification problems than CNNs."
      ]
    },
    {
      "cell_type": "markdown",
      "metadata": {
        "id": "P0V7H1XxVRCL"
      },
      "source": [
        "# Final Analysis: Comparing Results\n",
        "\n"
      ]
    },
    {
      "cell_type": "markdown",
      "metadata": {
        "id": "I4qdhpqVWDkU"
      },
      "source": [
        "## Evaluating Model Performance"
      ]
    },
    {
      "cell_type": "markdown",
      "metadata": {
        "id": "1Xu8WM8mPyrd"
      },
      "source": [
        "### Examining Confusion Matrices"
      ]
    },
    {
      "cell_type": "markdown",
      "metadata": {
        "id": "HqNsF7nIWMBP"
      },
      "source": [
        "Now that we've concluded training and building our models, let's evaluate our best model's performance, V1, by examining its confusion matrix."
      ]
    },
    {
      "cell_type": "code",
      "execution_count": null,
      "metadata": {
        "colab": {
          "base_uri": "https://localhost:8080/",
          "height": 458
        },
        "id": "9Bo0Eynm1NlX",
        "outputId": "caac2cae-01b9-49b3-84ca-d046f1892e8c"
      },
      "outputs": [
        {
          "data": {
            "image/png": "[encoded data removed]",
            "text/plain": [
              "<Figure size 640x480 with 1 Axes>"
            ]
          },
          "metadata": {},
          "output_type": "display_data"
        }
      ],
      "source": [
        "# Create confusion matrix by examining V1's predictions vs the actual values\n",
        "v1_confusion_matrix = tf.math.confusion_matrix(Y_test, v1_val_preds)\n",
        "labels = ['Not a disaster Tweet', 'Disaster Tweet']\n",
        "\n",
        "# Use a heatmap plot to display it.\n",
        "ax = sns.heatmap(v1_confusion_matrix, annot=True, fmt='.3g', cmap='Blues',\n",
        "                 xticklabels=labels, yticklabels=labels, cbar=False)\n",
        "\n",
        "# Add axis labels.\n",
        "ax.set(xlabel='Predicted Label', ylabel='True Label')\n",
        "plt.show()"
      ]
    },
    {
      "cell_type": "markdown",
      "metadata": {
        "id": "pWgqVEdZ3wOG"
      },
      "source": [
        "From the confusion matrix above, we can observe that most tweets were classified as either true positives or true negatives, with the smallest category being false negative classifications. We can compare how V1 stacked against V2 by taking the difference of their confusion matrices."
      ]
    },
    {
      "cell_type": "code",
      "execution_count": null,
      "metadata": {
        "colab": {
          "base_uri": "https://localhost:8080/",
          "height": 458
        },
        "id": "iH9wOAKCNl8W",
        "outputId": "1d06bdfa-445c-430d-8d82-a44fef657e45"
      },
      "outputs": [
        {
          "data": {
            "image/png": "[encoded data removed]",
            "text/plain": [
              "<Figure size 640x480 with 1 Axes>"
            ]
          },
          "metadata": {},
          "output_type": "display_data"
        }
      ],
      "source": [
        "# Generate V2's confusion matrix\n",
        "v2_confusion_matrix = tf.math.confusion_matrix(Y_test, v2_val_preds)\n",
        "diff_matrix = v1_confusion_matrix - v2_confusion_matrix\n",
        "# Demonstrate the difference\n",
        "ax = sns.heatmap(diff_matrix, annot=True, fmt='.3g', cmap='Blues',\n",
        "                 xticklabels=labels, yticklabels=labels, cbar=False)\n",
        "ax.set(xlabel='Predicted Label', ylabel='True Label')\n",
        "plt.show()"
      ]
    },
    {
      "cell_type": "markdown",
      "metadata": {
        "id": "e8AuJZitOVh0"
      },
      "source": [
        "In a confusion matrix, the off-diagonal values represent incorrect predictions. Smaller values, in off-diagonal tiles, are indicative of more accurate models. Here, the largest difference occurs for disaster tweets classified as non disaster tweets, the false negatives, with a value of -26. Since we are taking the difference of V1's matrix from V2, this negative value indicates that V2 has a much higher number of false negatives. By doing the math, V2 has a total of 74 false negatives, almost 1.5 times the amount that V1 has, making it a considerably worse model. Additionally, the large positive 26, for the true negatives, indicates that V1 has a much higher rate of correct classifications over V2.\n"
      ]
    },
    {
      "cell_type": "markdown",
      "metadata": {
        "id": "wwYFmrksP30c"
      },
      "source": [
        "### Viewing Word Embeddings"
      ]
    },
    {
      "cell_type": "markdown",
      "metadata": {
        "id": "WoOU9pInQhkT"
      },
      "source": [
        "Let's now examine word embeddings to get an idea of how the words correlated within the model. In order to get an understanding of how words were organized within the embedding, it is best to once again utilize our best model: V1."
      ]
    },
    {
      "cell_type": "code",
      "execution_count": null,
      "metadata": {
        "colab": {
          "base_uri": "https://localhost:8080/",
          "height": 142
        },
        "id": "hzEMwbfTQ-ko",
        "outputId": "aa200190-d89b-4ac6-c233-140f121f61d1"
      },
      "outputs": [
        {
          "data": {
            "text/plain": [
              "[<keras.layers.core.embedding.Embedding at 0x7f437e17b160>,\n",
              " <keras.layers.pooling.global_average_pooling1d.GlobalAveragePooling1D at 0x7f437dcba610>,\n",
              " <keras.layers.core.dense.Dense at 0x7f437dcba880>,\n",
              " <keras.layers.core.dense.Dense at 0x7f437d91f4c0>,\n",
              " <keras.layers.core.dense.Dense at 0x7f437dcba250>,\n",
              " <keras.layers.core.dense.Dense at 0x7f437dc64700>]"
            ]
          },
          "metadata": {},
          "output_type": "display_data"
        },
        {
          "name": "stdout",
          "output_type": "stream",
          "text": [
            "(10000, 128)\n"
          ]
        }
      ],
      "source": [
        "# View the layers for V1\n",
        "display(ffnn_model.layers)\n",
        "\n",
        "# Retrieve just the embeddings layer\n",
        "embeddings = ffnn_model.layers[0].get_weights()[0]\n",
        "print(embeddings.shape)"
      ]
    },
    {
      "cell_type": "code",
      "execution_count": null,
      "metadata": {
        "colab": {
          "base_uri": "https://localhost:8080/",
          "height": 542
        },
        "id": "WREmtRI-RWYL",
        "outputId": "98ea3e22-1127-480b-dddf-89820d893b82"
      },
      "outputs": [
        {
          "data": {
            "text/html": [
              "<html>\n",
              "<head><meta charset=\"utf-8\" /></head>\n",
              "<body>\n",
              "    <div>            <script src=\"https://cdnjs.cloudflare.com/ajax/libs/mathjax/2.7.5/MathJax.js?config=TeX-AMS-MML_SVG\"></script><script type=\"text/javascript\">if (window.MathJax && window.MathJax.Hub && window.MathJax.Hub.Config) {window.MathJax.Hub.Config({SVG: {font: \"STIX-Web\"}});}</script>                <script type=\"text/javascript\">window.PlotlyConfig = {MathJaxConfig: 'local'};</script>\n",
              "        <script src=\"https://cdn.plot.ly/plotly-2.18.2.min.js\"></script>                <div id=\"8f626796-f51b-4b7a-9c56-68c4bfd2d3dd\" class=\"plotly-graph-div\" style=\"height:525px; width:100%;\"></div>            <script type=\"text/javascript\">                                    window.PLOTLYENV=window.PLOTLYENV || {};                                    if (document.getElementById(\"8f626796-f51b-4b7a-9c56-68c4bfd2d3dd\")) {                    Plotly.newPlot(                        \"8f626796-f51b-4b7a-9c56-68c4bfd2d3dd\",                        [{\"hoverinfo\":\"text\",\"mode\":\"markers\",\"text\":[\"thinking\",\"chinas\",\"gems\",\"safety\",\"global\",\"strike\",\"teen\",\"king\",\"turkish\",\"twelve\",\"serious\",\"glad\",\"idea\",\"means\",\"australia\",\"unconfirmed\",\"neighbours\",\"internally\",\"rly\",\"former\",\"living\",\"shots\",\"art\",\"horse\",\"super\",\"involving\",\"islamic\",\"victims\",\"walk\",\"season\",\"point\",\"cut\",\"wasnt\",\"shift\",\"ancient\",\"sea\",\"nice\",\"started\",\"lady\",\"arent\",\"rock\",\"crematoria\",\"provoke\",\"took\",\"wedding\",\"etc\",\"coast\",\"double\",\"scene\",\"force\",\"wants\",\"cnn\",\"small\",\"different\",\"cree\",\"mean\",\"suspected\",\"added\",\"indian\",\"taiwan\",\"guess\",\"worry\",\"dies\",\"parole\",\"udhampur\",\"specially\",\"stadium\",\"worlds\",\"trump\",\"using\",\"wish\",\"travel\",\"youll\",\"recount\",\"cranes\",\"financial\",\"walking\",\"vote\",\"salt\",\"dance\",\"madhya\",\"pradesh\",\"passengers\",\"denver\",\"helping\",\"western\",\"gone\",\"expect\",\"prepare\",\"feet\",\"record\",\"press\",\"hasnt\",\"account\",\"spring\",\"open\",\"gop\",\"piece\",\"number\",\"felt\",\"total\",\"interesting\",\"airlines\",\"causes\",\"tho\",\"search\",\"mountain\",\"mod\",\"funny\",\"ahead\",\"agree\",\"general\",\"cat\",\"internet\",\"strong\",\"parents\",\"oklahoma\",\"shape\",\"wife\",\"ashes\",\"cold\",\"date\",\"wall\",\"metal\",\"nigga\",\"smaug\",\"test\",\"weekend\",\"linked\",\"act\",\"upon\",\"dogs\",\"threat\",\"board\",\"sent\",\"rules\",\"friday\",\"offroad\",\"wrought\",\"evening\",\"album\",\"metro\",\"playlist\",\"map\",\"broke\",\"fact\",\"faux\",\"reported\",\"population\",\"career\",\"purse\",\"lies\",\"response\",\"hair\",\"ban\",\"petition\",\"modified\",\"stuff\",\"fully\",\"image\",\"secret\",\"office\",\"phoenix\",\"cover\",\"forever\",\"cable\",\"rate\",\"games\",\"pass\",\"prevent\",\"havent\",\"bay\",\"along\",\"usgs\",\"single\",\"orders\",\"yall\",\"future\",\"guide\",\"roosevelt\",\"central\",\"ships\",\"reasons\",\"ones\",\"millions\",\"played\",\"tablet\",\"glass\",\"kinda\",\"girls\",\"loved\",\"rocky\",\"short\",\"todays\",\"false\",\"wednesday\",\"together\",\"brooklyn\",\"industry\",\"effects\",\"absolutely\",\"med\",\"burn\",\"later\",\"kit\",\"hero\",\"nyc\",\"information\",\"chicago\",\"apollo\",\"sometimes\",\"leaving\",\"killing\",\"buy\",\"fighting\",\"saying\",\"drink\",\"ground\",\"fat\",\"gold\",\"seek\",\"michael\",\"giving\",\"earlier\",\"comment\",\"deep\",\"causing\",\"moving\",\"navy\",\"killer\",\"cameroon\",\"jonathan\",\"bayelsa\",\"sense\",\"struggles\",\"five\",\"international\",\"rather\",\"turned\",\"victim\",\"answer\",\"close\",\"governor\",\"students\",\"animal\",\"version\",\"complete\",\"happening\",\"beat\",\"hold\",\"updates\",\"brother\",\"special\",\"ask\",\"san\",\"crime\",\"stories\",\"ice\",\"uiwhen\",\"plunging\",\"sitting\",\"abandoned\",\"syrian\",\"less\",\"football\",\"picture\",\"spaceship\",\"dan\",\"dangerous\",\"emmerdale\",\"buses\",\"between\",\"route\",\"snow\",\"main\",\"join\",\"signed\",\"review\",\"bit\",\"minutes\",\"destroys\",\"remove\",\"pool\",\"straight\",\"hello\",\"fears\",\"either\",\"reading\",\"bin\",\"gotta\",\"training\",\"perfect\",\"happen\",\"pathogens\",\"owner\",\"return\",\"anymore\",\"sunday\",\"cannot\",\"calls\",\"lmao\",\"youtube\",\"squad\",\"jeb\",\"silver\",\"among\",\"company\",\"event\",\"municipal\",\"lots\",\"issue\",\"round\",\"emotional\",\"lead\",\"repatriated\",\"feels\",\"captures\",\"technology\",\"potential\",\"joe\",\"episode\",\"changes\",\"runs\",\"keeps\",\"express\",\"ocean\",\"brought\",\"region\",\"blocked\",\"build\",\"matter\",\"richmond\",\"radiation\",\"release\",\"based\",\"standard\",\"million\",\"beyond\",\"upset\",\"court\",\"month\",\"allows\",\"sun\",\"ross\",\"queen\",\"colour\",\"broken\",\"hobo\",\"voice\",\"incident\",\"africa\",\"trent\",\"drunk\",\"wwii\",\"attacks\",\"worldnews\",\"worth\",\"epicentre\",\"each\",\"combo\",\"genocide\",\"president\",\"meet\",\"sensorsenso\",\"edm\",\"thunderstorms\",\"starts\",\"irandeal\",\"box\",\"fleets\",\"totaling\",\"motorcyclist\",\"meeting\",\"damaged\",\"wildfires\",\"ben\",\"according\",\"community\",\"handbags\",\"happens\",\"grows\",\"paul\",\"shut\",\"budget\",\"screen\",\"yyc\",\"usually\",\"related\",\"tent\",\"soldiers\",\"laden\",\"wars\",\"coffee\",\"directioners\",\"science\",\"humanity\",\"bitch\",\"gunman\",\"stage\",\"tired\",\"create\",\"program\",\"percent\",\"waiting\",\"gay\",\"pile\",\"georgia\",\"sensor\",\"original\",\"able\",\"articles\",\"allah\",\"cases\",\"ceo\",\"shall\",\"battlefield\",\"fine\",\"match\",\"hobbit\",\"carrying\",\"begin\",\"iraq\",\"mine\",\"canada\",\"imagine\",\"cancer\",\"woke\",\"apc\",\"hour\",\"hunt\",\"son\",\"civilian\",\"afghanistan\",\"supposed\",\"palestinian\",\"alive\",\"asked\",\"hospital\",\"louis\",\"apply\",\"lake\",\"canyon\",\"hawaii\",\"birthday\",\"exchanging\",\"antioch\",\"won\",\"wtf\",\"deadly\",\"kick\",\"door\",\"cops\",\"rule\",\"weird\",\"setting\",\"quite\",\"trees\",\"forecast\",\"none\",\"question\",\"spos\",\"enugu\",\"preparedness\",\"desires\",\"lie\",\"companies\",\"selfimage\",\"spent\",\"indeed\",\"points\",\"concerned\",\"epic\",\"ridge\",\"beyonce\",\"beyhive\",\"stupid\",\"facebook\",\"burns\",\"manchester\",\"lane\",\"continue\",\"guns\",\"stealing\",\"tickets\",\"word\",\"talking\",\"pics\",\"result\",\"hwy\",\"faan\",\"target\",\"sir\",\"forced\",\"tonto\",\"dream\",\"lifted\",\"warnings\",\"bringing\",\"loss\",\"sit\",\"fantasy\",\"books\",\"bicyclist\",\"terrorists\",\"simple\",\"forget\",\"hilarious\",\"opening\",\"list\",\"crap\",\"lil\",\"watched\",\"ways\",\"hits\",\"officers\",\"seems\",\"late\",\"kindle\",\"message\",\"currently\",\"limited\",\"careful\",\"seeks\",\"ten\",\"falls\",\"tears\",\"parenthood\",\"browser\",\"understand\",\"roads\",\"mumbai\",\"block\",\"root\",\"gov\",\"england\",\"rubber\",\"trfc\",\"nursing\",\"prime\",\"completely\",\"feat\",\"stopped\",\"honestly\",\"lose\",\"quickly\",\"including\",\"cost\",\"mediterranean\",\"unless\",\"invoices\",\"pressure\",\"inner\",\"equipment\",\"sismo\",\"abstorm\",\"steve\",\"tracks\",\"firefighter\",\"blog\",\"loose\",\"bout\",\"impact\",\"lucky\",\"plus\",\"situation\",\"lovely\",\"insurer\",\"pilot\",\"mention\",\"jst\",\"floor\",\"inch\",\"fog\",\"freak\",\"avoiding\",\"bruh\",\"extreme\",\"social\",\"posts\",\"mix\",\"massive\",\"text\",\"stream\",\"cruz\",\"amazon\",\"calling\",\"chief\",\"hands\",\"sleeping\",\"shouldnt\",\"opens\",\"everywhere\",\"avoid\",\"practice\",\"welcome\",\"disney\",\"units\",\"brain\",\"continues\",\"began\",\"somebody\",\"reduce\",\"sports\",\"common\",\"satellite\",\"drill\",\"rip\",\"dark\",\"areas\",\"residents\",\"knew\",\"streets\",\"kid\",\"veterans\",\"confirms\",\"created\",\"listening\",\"tips\",\"seconds\",\"hunters\",\"tcot\",\"foot\",\"disco\",\"strategy\",\"apartment\",\"stone\",\"malaysian\",\"weve\",\"markets\",\"max\",\"yesterday\",\"quote\",\"passing\",\"followers\",\"asking\",\"broadway\",\"shame\",\"notices\",\"david\",\"salem\",\"dropped\",\"christmas\",\"pop\",\"leading\",\"exploration\",\"mayan\",\"fort\",\"mortal\",\"kombat\",\"amazing\",\"states\",\"legacy\",\"headed\",\"cinema\",\"moved\",\"hill\",\"accidents\",\"bombings\",\"linkury\",\"italian\",\"energy\",\"survival\",\"crying\",\"dying\",\"player\",\"heres\",\"sport\",\"angel\",\"within\",\"acres\",\"boys\",\"conditions\",\"maintenance\",\"baseball\",\"track\",\"easy\",\"evil\",\"results\",\"sale\",\"dozens\",\"gaza\",\"toilet\",\"club\",\"safe\",\"okwx\",\"exit\",\"potus\",\"blk\",\"french\",\"storms\",\"learning\",\"mtvhottest\",\"portland\",\"tropical\",\"aid\",\"sidelines\",\"apparently\",\"needed\",\"edt\",\"leader\",\"examining\",\"shares\",\"tribal\",\"rocks\",\"rare\",\"local\",\"shower\",\"tension\",\"pdp\",\"pussy\",\"window\",\"broad\",\"curved\",\"remains\",\"bro\",\"parleys\",\"microlight\",\"runway\",\"economic\",\"rail\",\"operation\",\"reau\",\"photography\",\"swallows\",\"experience\",\"leads\",\"thomas\",\"style\",\"youuave\",\"realise\",\"flat\",\"several\",\"mhtwfnet\",\"troops\",\"seriously\",\"lights\",\"civilians\",\"access\",\"secrets\",\"sadly\",\"feed\",\"calm\",\"mediterran\",\"system\",\"final\",\"mind\",\"missed\",\"wouldnt\",\"chinauas\",\"stops\",\"recovery\",\"grow\",\"babies\",\"tram\",\"mini\",\"society\",\"actions\",\"threatens\",\"given\",\"economy\",\"tweets\",\"lion\",\"capsizes\",\"saving\",\"philippines\",\"protect\",\"crackdown\",\"ricunion\",\"struck\",\"blvd\",\"afternoon\",\"button\",\"patient\",\"cop\",\"mail\",\"tube\",\"itself\",\"exp\",\"foxtrot\",\"character\",\"residential\",\"solar\",\"relief\",\"mentions\",\"uses\",\"tax\",\"bank\",\"problems\",\"above\",\"thx\",\"mma\",\"enjoy\",\"failed\",\"theatre\",\"murderous\",\"scary\",\"dnb\",\"magic\",\"senator\",\"progress\",\"hotel\",\"copilot\",\"ituas\",\"outlook\",\"powerful\",\"seat\",\"visit\",\"triggered\",\"toll\",\"fox\",\"nah\",\"plug\",\"feminists\",\"grill\",\"arrived\",\"type\",\"workers\",\"accidentally\",\"dollar\",\"eat\",\"sleep\",\"somalia\",\"stars\",\"worked\",\"fuel\",\"steel\",\"fake\",\"advisory\",\"complex\",\"distance\",\"sunset\",\"satchel\",\"insane\",\"estimate\",\"deals\",\"consider\",\"sinjar\",\"senior\",\"political\",\"charging\",\"drop\",\"nashville\",\"fail\",\"manager\",\"rest\",\"interview\",\"plains\",\"joy\",\"sees\",\"george\",\"roof\",\"byu\",\"cry\",\"writing\",\"inj\",\"wash\",\"sister\",\"girlfriend\",\"rohingya\",\"questions\",\"terrible\",\"buffalo\",\"snap\",\"himself\",\"pack\",\"starting\",\"burst\",\"cook\",\"minister\",\"kept\",\"entertainment\",\"associated\",\"movies\",\"syria\",\"steps\",\"add\",\"carry\",\"touch\",\"pipe\",\"trailer\",\"path\",\"known\",\"loop\",\"tongue\",\"kidnapped\",\"held\",\"beu\",\"ray\",\"cramer\",\"disneys\",\"unveiled\",\"youve\",\"guillermo\",\"mile\",\"moments\",\"newest\",\"congress\",\"wmata\",\"loving\",\"drinking\",\"larger\",\"saturday\",\"tech\",\"festival\",\"generation\",\"replace\",\"riots\",\"july\",\"certain\",\"store\",\"toronto\",\"releases\",\"weeks\",\"named\",\"eruption\",\"onto\",\"somehow\",\"dramatic\",\"stuart\",\"vuitton\",\"officially\",\"calories\",\"approaches\",\"southern\",\"piling\",\"freakiest\",\"canuat\",\"surprise\",\"attention\",\"enemy\",\"destiny\",\"wheavenly\",\"blessings\",\"ted\",\"republicans\",\"quick\",\"pilots\",\"bought\",\"ugly\",\"whos\",\"criminals\",\"letuas\",\"iuam\",\"mary\",\"disrupts\",\"boston\",\"tour\",\"brazil\",\"gods\",\"discovered\",\"lowndes\",\"thoughts\",\"plague\",\"civil\",\"click\",\"shoes\",\"concert\",\"female\",\"wed\",\"covered\",\"unlocked\",\"rains\",\"annual\",\"anchorage\",\"picked\",\"sparked\",\"standuser\",\"forces\",\"township\",\"german\",\"illegal\",\"repair\",\"conference\",\"charity\",\"ended\",\"row\",\"aim\",\"florida\",\"powerlines\",\"youd\",\"inundation\",\"mets\",\"parker\",\"awful\",\"updated\",\"morgan\",\"vine\",\"homeless\",\"videos\",\"seattle\",\"library\",\"collection\",\"tank\",\"vietnam\",\"migrant\",\"bet\",\"project\",\"ideas\",\"drone\",\"animalrescue\"],\"textposition\":\"bottom left\",\"x\":[-0.05351387709379196,-0.014286544173955917,0.00042800811934284866,0.03757888823747635,0.06124575808644295,0.05099127069115639,-0.04229100048542023,-0.16969457268714905,-0.015495723113417625,0.10584498196840286,0.1337062269449234,-0.028273776173591614,0.05182590335607529,0.03034406155347824,-0.030548248440027237,-0.0410551019012928,-0.022863119840621948,0.027164334431290627,0.09968352317810059,-0.006099341902881861,0.10724908113479614,-0.025856802240014076,-0.10027973353862762,-0.07015247642993927,-0.04158107191324234,0.03792121261358261,0.04433751106262207,0.054290611296892166,0.015733307227492332,-0.005247731693089008,0.1359231323003769,0.13684390485286713,0.02559889294207096,-0.017393574118614197,-0.16834793984889984,0.026770226657390594,-0.13457928597927094,-0.030868416652083397,-0.0744897872209549,-0.21741166710853577,0.041876353323459625,0.08181224763393402,0.07377243041992188,-0.04214221239089966,-0.08668169379234314,0.017657238990068436,0.0584227554500103,-0.059289298951625824,0.13940970599651337,0.04515077918767929,-0.1589166820049286,0.04619235917925835,0.09623511135578156,-0.005906062666326761,-0.004239368252456188,0.08125241845846176,0.12387912720441818,-0.021759431809186935,-0.01889229379594326,0.17134793102741241,0.06878700852394104,-0.006916965823620558,0.15586094558238983,0.06066646799445152,0.08570025116205215,0.021224427968263626,0.08101819455623627,-0.06934715062379837,-0.01945030689239502,-0.0031554480083286762,-0.11471342295408249,0.002982928417623043,-0.019684426486492157,0.10879558324813843,0.07370846718549728,-0.06626030057668686,-0.001722147804684937,-0.05359344184398651,-0.04969647526741028,-0.0828743726015091,0.14227592945098877,0.14834725856781006,0.08806663751602173,0.033727578818798065,0.04094339534640312,0.0005389169091358781,0.03926575183868408,0.11656241863965988,0.015736812725663185,-0.15672585368156433,0.0994526594877243,-0.06013638526201248,-0.100307397544384,0.00267091509886086,0.004732135683298111,-0.06926089525222778,-0.06463403254747391,0.04984957352280617,0.01174283865839243,-0.04574424773454666,-0.035891588777303696,-0.11142463237047195,0.07782645523548126,0.12172190845012665,0.052776675671339035,0.020130015909671783,-0.0074647883884608746,-0.0026690613012760878,-0.027261216193437576,-0.04752636328339577,0.01773296296596527,0.017307069152593613,-0.08837214857339859,-0.058757852762937546,0.034665513783693314,-0.006006043404340744,0.014917238615453243,0.012333299964666367,-0.009775073267519474,0.049007952213287354,-0.10882233828306198,0.025242676958441734,-0.009038595482707024,-0.03929072618484497,-0.019265325739979744,-0.1230524554848671,-0.039969418197870255,-0.0691886767745018,0.09067855030298233,0.030160805210471153,-0.10304153710603714,-0.035635095089673996,0.02884139120578766,-0.0009601241326890886,-0.03907032683491707,-0.04195838049054146,0.01133575476706028,0.024349626153707504,0.07586947083473206,-0.07918641716241837,-0.17389093339443207,0.09075084328651428,-0.00870745349675417,0.051018279045820236,-0.14521954953670502,-0.09852425754070282,0.021245531737804413,0.0532086081802845,0.0453902967274189,-0.13812454044818878,-0.010012959130108356,-0.021288614720106125,0.06960645318031311,-0.08145902305841446,0.08452916145324707,-0.020442478358745575,0.09200508892536163,-0.03450818359851837,0.025580810382962227,0.007203466258943081,-0.053098276257514954,0.07841231673955917,-0.08828778564929962,0.00016086477262433618,0.020954236388206482,-0.06099686771631241,-0.0656447634100914,-0.10041724890470505,-0.03703903406858444,-0.027847182005643845,-0.04140476509928703,0.06873945891857147,0.0772194191813469,0.07318121194839478,-0.041834041476249695,0.1079898476600647,-0.05282461270689964,-0.03408386930823326,-0.04838782176375389,0.1387128084897995,0.10734599828720093,-0.010449396446347237,-0.03977571427822113,-0.03711739927530289,0.18779513239860535,0.048620469868183136,-0.034534573554992676,-0.05006173253059387,-0.07897323369979858,-0.0017381473444402218,-0.06620952486991882,0.04565206170082092,0.08023818582296371,0.001700461027212441,0.003893602639436722,-0.0545758381485939,-0.13448572158813477,0.0382353700697422,-0.08959328383207321,0.011279010213911533,-0.11718255281448364,0.10322234779596329,-0.021177491173148155,-0.034533433616161346,-0.01978893019258976,-0.012852641753852367,0.08182273060083389,0.05155797675251961,0.007665825076401234,0.06266383081674576,-0.04694227874279022,0.025990620255470276,0.11293815821409225,-0.08743393421173096,-0.027865303680300713,-0.15339301526546478,-0.06790032982826233,0.0368322916328907,-0.06603081524372101,-0.0637362003326416,0.04094206169247627,-0.08494521677494049,-0.06462407112121582,-0.03938930109143257,-0.04921605437994003,-0.06464097648859024,0.04969439655542374,0.13102374970912933,-0.03895803913474083,-0.055586475878953934,0.035714298486709595,0.03714676946401596,0.10410723090171814,7.744511094642803e-05,0.07138015329837799,-0.0016673337668180466,-0.0880940705537796,-0.05152067542076111,-0.09273932129144669,0.16283319890499115,-0.09378603100776672,0.100202776491642,0.06116018444299698,-0.01023783441632986,-0.007153880316764116,-0.09001805633306503,-0.188664972782135,0.11629465967416763,-0.14813347160816193,0.0198193546384573,0.09021100401878357,-0.011433734558522701,-0.13846701383590698,-0.03953311964869499,-0.004274164792150259,0.14947667717933655,0.031618617475032806,-0.06309571117162704,0.06552991271018982,0.043646883219480515,-0.01779409684240818,0.008676066994667053,-0.00037046693614684045,3.9622667827643454e-05,-0.041954200714826584,0.10323880612850189,0.06485532224178314,0.0780584067106247,-0.11623698472976685,-0.06599712371826172,0.09798842668533325,0.022556811571121216,-0.028800278902053833,0.054538946598768234,0.1554768830537796,-0.14321419596672058,-0.0449712797999382,-0.009271474555134773,-0.017379915341734886,0.032084010541439056,0.1552783101797104,-0.04218365252017975,-0.026853373274207115,-0.11489614844322205,0.08892215043306351,0.14156149327754974,-0.1673862487077713,-0.13254764676094055,0.05555550009012222,-0.013370976783335209,0.0705425813794136,-0.025789611041545868,0.08279189467430115,0.02071588858962059,0.008952905423939228,0.04764636233448982,0.009522410109639168,-0.02776421420276165,0.00453511718660593,0.10054464638233185,-0.20310164988040924,-0.01970069669187069,0.09919192641973495,-0.14059683680534363,0.03384234383702278,0.028654079884290695,0.020103180781006813,0.05886537954211235,0.14484122395515442,-0.05934542417526245,-0.04774228483438492,-0.05323260650038719,-0.09535659104585648,-0.05459253117442131,0.019777873530983925,-0.09408260136842728,0.04640069603919983,-0.07908564805984497,0.013862418942153454,-0.04053163155913353,-0.007765386253595352,-0.05431247502565384,-0.0594843290746212,0.039460085332393646,0.0963197872042656,0.1164800375699997,0.02825023978948593,0.15732130408287048,-0.07596096396446228,-0.003977600485086441,0.004985131323337555,0.00825481303036213,-0.035607725381851196,-0.014271479099988937,-0.08822396397590637,0.06363055109977722,0.009351534768939018,-0.08597103506326675,0.08833423256874084,-0.020454736426472664,-0.007555331103503704,0.02504148706793785,-0.08854208886623383,-0.02893076092004776,-0.043417055159807205,-0.040338754653930664,-0.07314349710941315,-0.050705187022686005,-0.026401745155453682,0.10317148268222809,0.05347637087106705,-0.006781656760722399,0.003591351443901658,0.04599780589342117,0.012267354875802994,0.12979353964328766,-0.006834379397332668,-0.1240648552775383,0.003570450469851494,-0.0392787791788578,0.13660071790218353,0.015583326108753681,0.005984618328511715,0.0121522918343544,-0.1535312682390213,0.04022908955812454,-0.053240224719047546,-0.018084079027175903,0.03628871589899063,-0.04020165652036667,-0.05317966639995575,0.13569462299346924,0.02340305969119072,-0.06953644007444382,0.08687818795442581,0.016281383112072945,-0.05999118834733963,0.023221265524625778,-0.10949158668518066,-0.0017340808408334851,0.1201421394944191,-0.08726304769515991,0.034258514642715454,0.06795963644981384,-0.11956508457660675,0.2056412398815155,0.0640505999326706,0.0691133514046669,0.02968435548245907,0.09572828561067581,0.05302881449460983,-0.003041827119886875,0.058770615607500076,-0.0922524482011795,0.13747139275074005,0.09631320834159851,-0.1521778553724289,0.06308505684137344,-0.07841737568378448,-0.058575864881277084,-0.005045765545219183,-0.0012928239302709699,-0.01993349939584732,0.05830230936408043,-0.1972038447856903,-0.08406133949756622,0.08525640517473221,-0.07385928183794022,-0.046563610434532166,0.06391853094100952,0.0031816083937883377,0.042569514364004135,0.16990764439105988,-0.07329875975847244,-0.14339227974414825,-0.020553143694996834,0.03438666835427284,-0.01713765598833561,-0.14874933660030365,0.06303893774747849,-0.03724107891321182,0.03290882706642151,-0.013456723652780056,0.10206982493400574,0.03688022121787071,0.030737360939383507,-0.020195145159959793,0.004075909964740276,0.03611820563673973,-0.030216708779335022,-0.02365242876112461,0.16960786283016205,-0.01466496754437685,0.001366306096315384,0.18433250486850739,-0.03290477395057678,-0.1035671979188919,0.046544406563043594,-0.13350330293178558,-0.1304945945739746,0.06552579253911972,0.111611008644104,0.10037974268198013,-0.12547537684440613,0.0697685107588768,0.08870173990726471,-0.16690097749233246,0.11398153752088547,0.030994774773716927,-0.06630021333694458,0.015158881433308125,0.04392636567354202,0.06814633309841156,0.0589822456240654,0.11872390657663345,-0.03273308277130127,-0.0269488412886858,0.10563313215970993,-0.07940187305212021,0.09474076330661774,0.06013498455286026,-0.0017325520748272538,-0.06261514872312546,-0.06873497366905212,-0.066832534968853,-0.05281507596373558,0.04016365483403206,-0.06494233757257462,-0.02006886713206768,0.008633343502879143,-0.04654652252793312,-0.10037033259868622,0.09639257937669754,-0.15405388176441193,-0.08600355684757233,0.014727398753166199,-0.1371825933456421,0.029987847432494164,0.13459570705890656,0.08010364323854446,0.03555397689342499,-0.10632176697254181,0.047957643866539,-0.13433514535427094,-0.04459967091679573,0.060810673981904984,0.0008983598672784865,0.17190590500831604,0.15500451624393463,-0.0002704014186747372,0.12279466539621353,0.13647818565368652,0.05073954164981842,-0.07503858953714371,-0.07983140647411346,0.10370085388422012,0.10097367316484451,-0.03868400678038597,0.051374103873968124,-0.12664352357387543,-0.1478373408317566,-0.04002562165260315,0.053104251623153687,0.10392739623785019,-0.020937182009220123,0.09140875190496445,-0.1115584671497345,-0.09082236140966415,-0.02027742564678192,-0.06136348098516464,-0.014782004989683628,-0.07903661578893661,0.04228884354233742,-0.026194166392087936,0.0069999005645513535,0.09475529938936234,0.05085282027721405,-0.1813829392194748,0.05851475149393082,0.06303470581769943,-0.05220072343945503,-0.0267670676112175,0.01368514634668827,0.0247311070561409,0.014644203707575798,-0.0050072018057107925,-0.050185225903987885,-0.052733056247234344,0.0288524366915226,0.02177579328417778,0.11019038408994675,-0.028652388602495193,-0.10079964995384216,-0.012288286350667477,-0.017553197219967842,-0.015063203871250153,0.046162914484739304,0.05934436619281769,0.015846848487854004,-0.05148790776729584,-0.11463628709316254,0.002033884171396494,-0.01589723490178585,0.006062058266252279,0.07871443778276443,0.009326613508164883,0.042931947857141495,0.048747070133686066,-0.14227981865406036,0.02830219455063343,-0.11337166279554367,0.05728515610098839,-0.0631544440984726,0.027130907401442528,0.15685445070266724,-0.014432660304009914,-0.07202658802270889,-0.03253648802638054,0.001076778513379395,-0.030046401545405388,0.07455462962388992,-0.14078350365161896,-0.10479722172021866,0.11521509289741516,0.0767584815621376,-0.03580481931567192,-0.08311544358730316,0.1251918375492096,0.007318411488085985,-0.002987359883263707,-0.051157236099243164,0.011472080834209919,-0.004821714945137501,0.09742719680070877,0.00800047442317009,-0.09719721227884293,0.008404841646552086,-0.043980859220027924,0.04370521381497383,-0.040925316512584686,0.06157606467604637,-0.06266752630472183,-0.1151483803987503,-0.06605745106935501,-0.002225380390882492,0.0033383520785719156,0.013580397702753544,-0.14946337044239044,-0.07310660928487778,-0.009376180358231068,0.09502093493938446,0.06639028340578079,0.02739139273762703,-0.11059335619211197,-0.04710107669234276,-0.16041888296604156,0.016890598461031914,-0.1412651240825653,0.11603888869285583,-0.023967884480953217,-0.059128232300281525,0.03288391977548599,-0.007753987330943346,-0.0019501756178215146,0.05584995821118355,-0.001851643668487668,-0.06391671299934387,-0.09046107530593872,0.08921919018030167,0.09800954908132553,-0.03614796698093414,-0.048765067011117935,-0.08775165677070618,0.0058873980306088924,0.07809413969516754,-0.04458247497677803,-0.09038475155830383,-0.045275889337062836,-0.04989728331565857,-0.06329797208309174,0.0027882587164640427,-0.035811398178339005,-0.14424288272857666,0.10667473077774048,0.08187709748744965,-0.15996333956718445,0.11845199763774872,0.06205788254737854,0.07164740562438965,-0.16535459458827972,-0.04475374519824982,-0.10782317817211151,-0.05764533206820488,-0.0056348699145019054,0.007831938564777374,0.11476851254701614,0.03331636264920235,0.07081269472837448,0.018952814862132072,-0.04549282416701317,0.020532365888357162,-0.036356404423713684,-0.15290111303329468,-0.0001183535932796076,-0.01035471074283123,-0.09626901894807816,-0.0822456106543541,-0.05592654272913933,-0.10802175104618073,-0.13439469039440155,-0.07745098322629929,0.10241100937128067,0.09748609364032745,0.009282656013965607,-0.030151182785630226,0.010057174600660801,0.014181530103087425,0.1187809407711029,-0.052767008543014526,-0.020185181871056557,-0.0013870660914108157,-0.012595332227647305,-0.039966028183698654,-0.07761791348457336,-0.013357152231037617,0.034011922776699066,0.03398800641298294,-0.04642445966601372,-0.017314394935965538,0.06506472080945969,-0.012919112108647823,0.013590130023658276,-0.05843288451433182,-0.140643909573555,0.10673688352108002,-0.11607195436954498,0.0010586574207991362,-0.04979850351810455,-0.10963550955057144,0.10524873435497284,0.09909217804670334,0.019996877759695053,-0.0867655947804451,0.03095598891377449,0.1139119416475296,0.11686002463102341,0.057286012917757034,0.05828297138214111,0.05393201857805252,0.16650299727916718,0.12288028746843338,-0.06016658619046211,0.014157486148178577,0.07350748777389526,0.13940311968326569,0.07762116193771362,0.03560334071516991,0.11475411802530289,0.13524135947227478,0.09554942697286606,0.09004788845777512,-0.11530442535877228,-0.1319848597049713,0.08836127817630768,-0.04654327780008316,0.04447880759835243,-0.05894104391336441,0.021634923294186592,0.037059757858514786,-0.058937083929777145,-0.07144325971603394,-0.1734224557876587,-0.0008580428548157215,0.030646860599517822,-0.08621988445520401,0.03091564029455185,0.0950450450181961,0.08268895745277405,-0.0629763975739479,0.09666045755147934,0.011407575570046902,-0.11635711789131165,0.10952366143465042,0.11978083103895187,-0.05231751501560211,-0.0008916946244426072,-0.07995638251304626,-0.0734531506896019,0.03672277182340622,0.005221428815275431,-0.16262781620025635,0.18884460628032684,0.0401158481836319,0.08425874263048172,-0.0201395396143198,0.04733709990978241,0.07267791032791138,-0.14044174551963806,-0.1017724871635437,0.14260774850845337,-0.06094853952527046,0.012234369292855263,0.09479103237390518,0.0049909427762031555,0.06669383496046066,-0.01307061966508627,0.07406184822320938,-0.0010455830488353968,-0.13367292284965515,0.1281655728816986,0.04767218604683876,-0.01207077968865633,0.041150037199258804,0.08562109619379044,-0.03971466049551964,-0.09721517562866211,0.04665227234363556,0.09213006496429443,-0.004557529464364052,0.024847764521837234,-0.005021353252232075,0.014800554141402245,0.05524169281125069,0.014836683869361877,0.041462015360593796,0.07675153762102127,-0.06311298161745071,0.09749298542737961,0.08333960175514221,-0.005904470104724169,0.13961762189865112,-0.11176502704620361,0.025220993906259537,0.06703492254018784,-0.03929546847939491,0.011177104897797108,-0.03594975918531418,-0.06117255613207817,-0.03960606828331947,-0.07636196166276932,0.0033943906892091036,-0.024978032335639,-0.012284265831112862,0.05804666504263878,-0.03682152181863785,-0.08422411233186722,-0.02408704161643982,-0.07730374485254288,-0.07514645904302597,0.087069071829319,0.01463543251156807,-0.055636998265981674,0.002501432318240404,-0.006437796168029308,0.14110474288463593,0.08840995281934738,-0.14704546332359314,-0.008045018650591373,-0.03857677802443504,-0.019083678722381592,-0.022617945447564125,0.06578589230775833,0.008268737234175205,-0.032547593116760254,0.08383418619632721,-0.07376348972320557,0.08007285743951797,0.05115171894431114,0.05185653269290924,-0.011311275884509087,0.01989355869591236,0.0600094310939312,-0.022578872740268707,-0.020950671285390854,0.024086816236376762,-0.0830065906047821,-0.011103011667728424,-0.04081382229924202,0.0004395670839585364,-0.06807297468185425,-0.008899634703993797,0.0463668592274189,-0.0018903622403740883,-0.06384662538766861,0.015912385657429695,-0.03395387530326843,0.06779742985963821,0.1058061495423317,0.0709679052233696,0.1543620079755783,0.10585039108991623,-0.11916375905275345,0.09615608304738998,0.06556310504674911,-0.02014082670211792,-0.09554361552000046,0.14419999718666077,-0.09966541081666946,0.10892876237630844,0.026844162493944168,0.06597182154655457,0.09255073219537735,-0.0895085409283638,-0.11689261347055435,0.03282172232866287,-0.014541595242917538,0.0682169497013092,-0.10541585832834244,0.1290988177061081,-0.020855430513620377,0.0814308151602745,-0.025850992649793625,-0.12027983367443085,-0.09604566544294357,0.006232525687664747,0.03990954905748367,-0.02635294198989868,-0.1080981194972992,0.13562077283859253,-0.018484069034457207,0.03285955637693405,0.13550618290901184,0.06526842713356018,0.019601143896579742,-0.12656931579113007,-0.10377836972475052,-0.06239081919193268,-0.1074211373925209,0.10343817621469498,0.009733890183269978,-0.12991760671138763,0.01578129269182682,-0.07695502042770386,0.10117338597774506,-0.030619554221630096,8.320074994117022e-05,0.01799551211297512,-0.14371639490127563,-0.009022457525134087,-0.00808300357311964,0.027635039761662483,0.029803453013300896,0.06040322408080101,-0.1120249480009079,0.09482688456773758,-0.016026519238948822,0.10646320134401321,-0.009932468645274639,-0.111951544880867,-0.03371423855423927,-0.09801258891820908,-0.0574616864323616,0.13903282582759857,0.03367044776678085,0.008315792307257652,0.02793530747294426,0.025229644030332565,0.07795479148626328,0.018686117604374886,-0.020229708403348923,-0.08881901204586029,-0.11781728267669678,0.04092877358198166,0.035665273666381836,-0.08194032311439514,0.00874606054276228,0.17513149976730347,-0.046700041741132736,3.4282205888303e-05,-0.026454821228981018,-0.015050911344587803,-0.060351453721523285,-0.12642641365528107,0.06303680688142776,0.08601584285497665,0.13384117186069489,-0.10278810560703278,0.06394638866186142,-0.1179199069738388,-0.09069152921438217,-0.028943659737706184,-0.015955688431859016,0.10601171106100082,0.05985819548368454,-0.007881867699325085,0.11315905302762985,-0.049866873770952225,-0.1031714677810669,-0.06232387572526932,-0.02952365018427372,-0.10609406232833862,-0.056983791291713715,-0.033363956958055496,-0.04780226945877075,-0.025420870631933212,-0.13510867953300476,0.060334526002407074,0.010069815441966057,-0.02961530163884163,0.0017681997269392014,0.1463475376367569,0.04936804622411728,-0.0002529266639612615,-0.12204921245574951,0.10288187116384506,0.052875448018312454,0.019535448402166367,0.11186789721250534,0.02884088270366192,-0.011804849840700626,0.13194961845874786,-0.08657389134168625,-0.012444569729268551,0.020206226035952568,-0.04003889113664627,0.005012924317270517,0.0830787718296051,-0.016105100512504578,-0.09267788380384445,-0.053224582225084305,-0.013270310126245022,0.0001200385158881545,0.04402800276875496,-0.001553661422803998,-0.0334429033100605,-0.05937438830733299,-0.09719916433095932,-0.02669713832437992,0.04294511303305626,-0.0315060131251812,0.04783837869763374,0.006831631530076265,-0.06518170237541199,-0.11700542271137238,-0.03776801377534866,-0.0331876166164875,0.05529913678765297,0.11165785789489746,0.1465127021074295,-0.04991290345788002,-0.1635500192642212,0.006193192210048437,0.0864720568060875,0.010800257325172424,-0.03846673294901848,0.10901288688182831,-0.09248435497283936,0.07134554535150528,-0.1030145138502121,-0.011723856441676617,0.04090806841850281,0.011620203964412212,0.01690853200852871,0.1476149708032608,0.042620133608579636,-0.06395474821329117,0.029647529125213623,-0.024829324334859848,0.09097800403833389,-0.052879784256219864],\"y\":[-0.0385630801320076,-0.027548279613256454,-0.0414942167699337,-0.025432346388697624,0.10648240894079208,0.0781843438744545,-0.08314896374940872,-0.2284407764673233,0.043373458087444305,0.12383394688367844,0.08613485097885132,-0.017200173810124397,0.06012217327952385,-0.002375753130763769,-0.09711062908172607,-0.059365224093198776,-0.0567576065659523,0.03960288688540459,0.11127261817455292,0.016539737582206726,0.08896622806787491,-0.0011258162558078766,-0.13870933651924133,-0.10854983329772949,-0.11015114188194275,0.01129842083901167,0.05147944763302803,0.09816886484622955,0.07996292412281036,0.03286280855536461,0.16256029903888702,0.09277155995368958,0.04950203746557236,-0.04149024933576584,-0.1962437927722931,0.03936660662293434,-0.20748385787010193,0.013348156586289406,-0.1036083772778511,-0.21646779775619507,0.023751378059387207,0.09296340495347977,0.10000422596931458,-0.041638925671577454,-0.08688301593065262,0.11968634277582169,0.09597327560186386,-0.06179000437259674,0.16896957159042358,0.00042799918446689844,-0.18424277007579803,0.09031789749860764,0.04417117312550545,-0.025015683844685555,-0.00998730305582285,0.10195410996675491,0.12385306507349014,-0.06636969745159149,0.006701976526528597,0.1782303750514984,-0.01326571125537157,-0.013782745227217674,0.1778448522090912,0.07535681128501892,0.1286197304725647,0.10144013166427612,0.1241668313741684,-0.016891980543732643,-0.012958977371454239,0.0684271901845932,-0.1158909723162651,0.010465211234986782,-0.020261995494365692,0.0969611331820488,0.06219269707798958,-0.1200861781835556,0.002886548638343811,-0.026276031509041786,-0.0075170909985899925,-0.07292799651622772,0.1016416996717453,0.11420515924692154,0.1174837052822113,0.12634365260601044,0.018316302448511124,0.028701435774564743,0.07924021035432816,0.18168918788433075,0.008911642245948315,-0.17550896108150482,0.05966375023126602,-0.09736402332782745,-0.06549763679504395,0.06547800451517105,-0.023541010916233063,-0.0616307370364666,-0.06584590673446655,0.05674414709210396,-0.028893107548356056,-0.07710329443216324,-0.01739630475640297,-0.07747523486614227,0.08925558626651764,0.09712997078895569,0.06616955250501633,0.01198250986635685,0.0620853416621685,-0.024221422150731087,-0.04224536195397377,-0.08590248972177505,0.054869238287210464,0.0048614745028316975,-0.04401274025440216,0.009539411403238773,0.1130807027220726,0.027410143986344337,0.06880027800798416,-0.009720615111291409,0.046085622161626816,0.048926517367362976,-0.055458202958106995,-0.02318786084651947,0.01230342872440815,-0.008080492727458477,-0.02483454905450344,-0.04821845516562462,-0.06930519640445709,-0.06587796658277512,0.0484456829726696,0.07884211093187332,-0.13179199397563934,0.030251650139689445,-0.0009334264323115349,-0.03416326269507408,-0.06135560944676399,0.020668962970376015,-0.009235860779881477,-0.06777849793434143,0.05097728222608566,-0.08708680421113968,-0.17151227593421936,0.12099036574363708,-0.07314799726009369,0.06963468343019485,-0.12035796791315079,-0.07907340675592422,-0.03660288453102112,0.08379194140434265,0.07300207763910294,-0.19414019584655762,-0.008474580943584442,0.009634310379624367,0.08246710896492004,-0.09342299401760101,0.04340599849820137,-0.02435656450688839,0.10309421271085739,-0.04197470098733902,0.03899469971656799,0.008180394768714905,-0.0651552677154541,0.15710285305976868,-0.08131424337625504,-0.01508589368313551,-0.0025431278627365828,-0.10271512717008591,-0.10112415999174118,-0.12378281354904175,-0.10550471395254135,-0.11484828591346741,-0.07658346742391586,0.0746460035443306,0.1181049719452858,0.08825918287038803,-0.0037438198924064636,0.07488487660884857,-0.030829856172204018,-0.11975888907909393,-0.01650136336684227,0.17875869572162628,0.11619154363870621,-0.029856009408831596,-0.022698896005749702,0.016288315877318382,0.2009173482656479,0.030130863189697266,-0.001978166401386261,-0.06718964874744415,-0.01953122578561306,-0.0016671058256179094,-0.005543391220271587,0.13293905556201935,0.07238391786813736,0.023513633757829666,-0.004061141517013311,-0.020497869700193405,-0.17247773706912994,0.09070278704166412,-0.03549550473690033,-0.04743155837059021,-0.07038337737321854,0.08306843787431717,-0.044289134442806244,0.008525308221578598,0.03316894546151161,-0.0667957291007042,0.12296362221240997,0.03415197879076004,0.08259664475917816,0.001842065597884357,-0.03115464746952057,0.016853904351592064,0.06723801046609879,-0.054082855582237244,-0.010102810338139534,-0.08626649528741837,-0.12317802011966705,0.03655937314033508,-0.07604105770587921,-0.1056634783744812,0.011508164927363396,-0.12406400591135025,0.005907525308430195,-0.050152476876974106,0.007509061601012945,-0.11557348817586899,-0.013682887889444828,0.14722950756549835,-0.046305131167173386,-0.05118686333298683,0.08475122600793839,0.053539738059043884,0.1148947924375534,0.004419292323291302,0.05702411010861397,0.06343995034694672,-0.07741104811429977,-0.02517147734761238,-0.0824364572763443,0.1650274246931076,-0.12017500400543213,0.09324700385332108,0.09527015686035156,0.03142843768000603,-0.012597907334566116,-0.12015894055366516,-0.1371389478445053,0.045513685792684555,-0.10750921815633774,-0.07834260910749435,0.1012009009718895,0.00897104013711214,-0.10372994840145111,-0.03664754703640938,-0.07928328961133957,0.1772264540195465,-0.05107619985938072,-0.09616528451442719,0.07286689430475235,0.09550859779119492,-0.0756523460149765,0.04899909719824791,-0.009231689386069775,-0.005493375938385725,-0.0228239968419075,0.09244978427886963,0.06813563406467438,0.04252425953745842,-0.09834565222263336,-0.06815814971923828,0.1230962797999382,0.025864802300930023,0.029711931943893433,0.036035120487213135,0.09430745244026184,-0.14950095117092133,-0.007803643122315407,-0.016515202820301056,0.027902625501155853,0.05161178112030029,0.17745904624462128,-0.040544185787439346,-0.09676338732242584,-0.16293911635875702,0.05218040570616722,0.12234343588352203,-0.10546845942735672,-0.11050136387348175,0.08192896097898483,-0.053727660328149796,0.006284097675234079,-0.017508335411548615,0.03806512430310249,-0.011501878499984741,0.025295792147517204,0.0567513033747673,0.007060681469738483,0.04445023089647293,0.03276373818516731,0.055148009210824966,-0.2068931609392166,-0.08848937600851059,0.11000144481658936,-0.11091946810483932,-0.030209023505449295,-0.04605631157755852,-0.008423774503171444,0.1631854921579361,0.15347960591316223,-0.04303450882434845,0.018806643784046173,-0.030036602169275284,-0.11812536418437958,-0.08361334353685379,0.08986411988735199,-0.13343492150306702,0.03964432328939438,-0.14285634458065033,0.046714190393686295,-0.055277712643146515,-0.09321935474872589,-0.0011658017756417394,0.011765267699956894,0.05133214220404625,0.11996818333864212,0.11816011369228363,-0.035440728068351746,0.20674340426921844,-0.07981152832508087,-0.020344894379377365,0.046082593500614166,0.011347070336341858,-0.03280828148126602,0.0027146388310939074,-0.08145962655544281,0.03159753233194351,0.054418835788965225,-0.15778787434101105,0.11806079745292664,-0.06173500791192055,0.03310901299118996,0.010105875320732594,-0.014040646143257618,-0.02263784594833851,-0.012228885665535927,-0.025355087593197823,-0.03133075684309006,-0.0580698698759079,0.010662082582712173,0.1877051740884781,-0.014876406639814377,0.0033876614179462194,-0.014258641749620438,-0.0026024067774415016,0.010553277097642422,0.13423345983028412,-0.010614183731377125,-0.17446689307689667,0.0024989652447402477,-0.08824911713600159,0.09414924681186676,0.045269355177879333,0.02219441533088684,0.06950825452804565,-0.12288110703229904,0.11636903136968613,0.002824165625497699,-0.07672358304262161,0.1050662100315094,0.001319641130976379,-0.03714554011821747,0.14510245621204376,0.09487149119377136,-0.022608185186982155,0.1586942821741104,-0.02300318516790867,-0.021335184574127197,-0.06694357097148895,-0.06052212417125702,-0.002696146722882986,0.11603531241416931,-0.05937512591481209,0.07695883512496948,0.0089785847812891,-0.1741284877061844,0.1501515805721283,0.03729734569787979,0.1540958732366562,-0.01820184476673603,0.10610691457986832,0.025135930627584457,0.017268752679228783,0.005966764874756336,-0.0807766392827034,0.15453727543354034,0.02554541826248169,-0.17281801998615265,0.08074621111154556,-0.15340782701969147,-0.1427338868379593,-0.01619926281273365,-0.0708748996257782,-0.034452907741069794,0.05993383750319481,-0.20942898094654083,-0.13105858862400055,0.17160038650035858,-0.1117563471198082,-0.06468325108289719,0.013446622528135777,-0.07860943675041199,0.08277175575494766,0.1432056874036789,-0.01442341785877943,-0.09278418123722076,0.0284237302839756,-0.000373041199054569,0.01173713244497776,-0.14143869280815125,0.09776435792446136,0.024790488183498383,0.046652477234601974,-0.0007562028476968408,0.10436078906059265,-0.004218779969960451,-0.02779410593211651,-0.09212663769721985,0.033457718789577484,0.0016735949320718646,-0.047911424189805984,-0.0618051253259182,0.17835532128810883,0.05566652864217758,-0.03179231286048889,0.11940721422433853,-0.031096238642930984,-0.1059207171201706,0.05173724144697189,-0.1691562682390213,-0.11152119189500809,-0.024532556533813477,0.14647558331489563,0.14664556086063385,-0.12242714315652847,0.1157301589846611,0.13575983047485352,-0.13332489132881165,0.10175224393606186,0.07572687417268753,-0.04065670073032379,-0.01494822558015585,-0.03974854573607445,0.034415245056152344,0.034712281078100204,0.06569727510213852,0.024148842319846153,0.007143085822463036,0.14319317042827606,-0.05834043025970459,0.11423218250274658,0.06464814394712448,-0.012369949370622635,-0.03282538428902626,-0.13526412844657898,-0.022238995879888535,-0.13689562678337097,-0.024713870137929916,-0.04603184759616852,-0.019123520702123642,0.012159234844148159,-0.06230638548731804,-0.0771692544221878,0.12827371060848236,-0.0986638143658638,-0.11510080844163895,0.055697645992040634,-0.16333884000778198,0.031127657741308212,0.1354692429304123,0.0848778784275055,0.056657470762729645,-0.16882558166980743,0.06367381662130356,-0.1893552839756012,-0.02438918687403202,-0.003706603078171611,0.007220318540930748,0.16068334877490997,0.17022034525871277,0.08308690786361694,0.05558161810040474,0.11724250018596649,0.13149717450141907,-0.030192425474524498,-0.11495183408260345,0.057937536388635635,0.14272871613502502,0.011752801015973091,0.0339493565261364,-0.19166913628578186,-0.1604893058538437,-0.04155774414539337,0.1040966808795929,0.0987861305475235,-0.0026292947586625814,0.08707880973815918,-0.17427285015583038,-0.13198696076869965,-0.00040183294913731515,-0.039277806878089905,-0.0647106021642685,-0.02733141928911209,0.05293576046824455,0.042037032544612885,-0.07136689871549606,0.06098465621471405,0.08187853544950485,-0.15851153433322906,0.07039562612771988,-0.0032233181409537792,-0.07831292599439621,-0.006035428028553724,0.0068443529307842255,0.057308077812194824,-0.02845645137131214,-0.05711772292852402,-0.016730984672904015,0.0059392559342086315,0.003354908199980855,0.020026633515954018,0.09106996655464172,-0.04446611553430557,-0.1062447652220726,-0.028098134323954582,0.00120672641787678,-0.007341582328081131,0.0671164020895958,-0.005524507723748684,-0.0378892756998539,-0.055794309824705124,-0.0687074363231659,0.04043017327785492,0.0035739950835704803,0.029680855572223663,0.10223427414894104,0.02228093519806862,0.07866142690181732,0.13063058257102966,-0.14310511946678162,0.011744735762476921,-0.11081042885780334,0.004995746072381735,0.004232153296470642,0.07737348973751068,0.08739500492811203,0.016993030905723572,-0.014856785535812378,-0.05558433756232262,-0.039963264018297195,-0.055528540164232254,0.00037994026206433773,-0.06930138915777206,-0.17843477427959442,0.04764694347977638,0.13372156023979187,-0.04946258291602135,-0.003442020621150732,0.09614747762680054,0.00046432181261479855,-0.05488425865769386,-0.059539370238780975,-0.0026124671567231417,-0.02815302647650242,0.10024003684520721,0.019509322941303253,-0.03978326916694641,-0.029405055567622185,-0.03839254379272461,-0.05040968209505081,-0.058949630707502365,0.06982165575027466,-0.002825853880494833,-0.05296161025762558,-0.044276896864175797,-0.0813545510172844,0.02473439835011959,0.03756938502192497,-0.189186230301857,-0.10504567623138428,-0.0493977814912796,0.18174061179161072,0.011924312449991703,-0.02516920119524002,-0.1360771209001541,-0.08613310009241104,-0.11355569958686829,-0.0037775221280753613,-0.10032440721988678,0.03747829794883728,0.046837419271469116,-0.02727346122264862,0.021006310358643532,-0.02397329919040203,-0.03140578418970108,0.05927687883377075,0.02305424027144909,-0.008359231986105442,-0.10550246387720108,0.15699350833892822,0.1777167022228241,-0.041464149951934814,0.03268913924694061,-0.10531637072563171,-0.06497229635715485,0.14538605511188507,-0.026947585865855217,-0.15797898173332214,-0.06887619197368622,0.0004298427957110107,-0.012415166944265366,-0.0009204816306009889,0.047548189759254456,-0.1299784928560257,0.10994890332221985,0.09471242874860764,-0.12253731489181519,0.1096867024898529,0.07777457684278488,0.04688582941889763,-0.16920825839042664,-0.01557936705648899,-0.041378237307071686,-0.039888884872198105,-0.02451055310666561,0.05315721780061722,0.05344226583838463,0.03326422721147537,0.03775489702820778,-0.05530170723795891,-0.004444245249032974,0.00503876619040966,-0.05094057321548462,-0.1408185362815857,0.008589324541389942,0.039849814027547836,-0.10417107492685318,-0.07561643421649933,-0.12613752484321594,-0.15336844325065613,-0.06060422584414482,-0.07787763327360153,0.08812190592288971,0.12230800092220306,-0.045447204262018204,-0.0880221575498581,0.026696253567934036,-0.06469158083200455,0.12678349018096924,-0.00506659084931016,0.0054557593539357185,0.009600231423974037,0.0004490414576139301,-0.03007011115550995,-0.05540194362401962,-0.046077292412519455,0.03763841465115547,0.016190841794013977,-0.05058123171329498,0.02980974316596985,0.15655434131622314,0.054151348769664764,0.04445778951048851,-0.023432249203324318,-0.11811280995607376,0.09735725820064545,-0.14819730818271637,0.0457066111266613,-0.023117566481232643,-0.1717609167098999,0.06675691902637482,0.12742088735103607,-0.024187464267015457,-0.052198491990566254,0.07759600132703781,0.12824340164661407,0.0958418920636177,0.06622004508972168,0.10881958156824112,0.06281103193759918,0.1663186103105545,0.1296645700931549,-0.09193914383649826,0.04549490287899971,0.05556027591228485,0.11861183494329453,-0.010245386511087418,-0.016178222373127937,0.13144558668136597,0.05488299950957298,0.09392092376947403,0.05022713541984558,-0.14474348723888397,-0.1284227818250656,0.0339847207069397,-0.0033381818793714046,0.07259061187505722,-0.0522230826318264,0.08847630769014359,0.04432808607816696,-0.11098039895296097,-0.008222796022891998,-0.08986975252628326,0.03893090412020683,0.016026662662625313,-0.05520991235971451,0.06167339161038399,0.03455768898129463,0.03304041549563408,-0.035920120775699615,0.12366514652967453,0.09562495350837708,-0.049871694296598434,0.12778240442276,0.11997337639331818,-0.14608430862426758,-0.039002206176519394,-0.10748574882745743,-0.07056710124015808,0.055663179606199265,0.07073913514614105,-0.08603813499212265,0.11203435063362122,0.01136303972452879,0.08322504907846451,-0.005950700957328081,-0.017466705292463303,0.11984433233737946,-0.16900251805782318,-0.1174795925617218,0.09835293143987656,0.009980743750929832,0.004087211098521948,0.016710247844457626,-0.0189446322619915,0.018486011773347855,-0.0005327565595507622,0.08656588196754456,0.01132444478571415,-0.19438578188419342,0.05917435511946678,-0.00792472343891859,-1.606549631105736e-05,0.07747987657785416,0.10134000331163406,-0.026095114648342133,-0.0798192173242569,0.022434893995523453,0.1423044502735138,-0.028068477287888527,0.06463126838207245,0.025845389813184738,0.05628152936697006,0.05650464445352554,-0.0006088160444051027,0.07561372965574265,0.0003861358272843063,-0.0732424408197403,0.043915294110774994,0.07982471585273743,0.09223726391792297,0.08620230853557587,-0.12407587468624115,0.05655990168452263,0.07324328273534775,-0.02949904464185238,0.052312351763248444,-0.046996813267469406,-0.07725508511066437,-0.11989151686429977,-0.08834964036941528,-0.01441161334514618,0.0701206848025322,0.0031918142922222614,0.021336352452635765,-0.04403459280729294,-0.0044937580823898315,-0.0697169080376625,-0.021972689777612686,-0.0007352667162194848,0.013478933833539486,0.03294810280203819,-0.07564499229192734,0.05731111764907837,0.08924435824155807,0.1424010545015335,0.058141790330410004,-0.11177419871091843,-0.048206452280282974,-0.05515788868069649,-0.057242464274168015,-0.07688016444444656,-0.006299618165940046,0.01159416139125824,-0.0045460788533091545,0.018681617453694344,-0.06952397525310516,0.1285218745470047,-0.01671065203845501,0.12505362927913666,0.049637652933597565,0.027487024664878845,0.02014917880296707,-0.0290827676653862,-0.07936065644025803,-0.006000350695103407,-0.10776722431182861,0.04916738346219063,0.008683259598910809,0.020892968401312828,-0.13562750816345215,-0.032574351876974106,0.04702671244740486,-0.08683831989765167,-0.06907395273447037,0.07097451388835907,-0.01577908545732498,0.06975632905960083,0.12506970763206482,0.08914574235677719,0.1783691644668579,0.11471068114042282,-0.09182608127593994,0.04331960529088974,-0.0015584954526275396,-0.05533449351787567,-0.06574780493974686,0.10926681011915207,-0.0886097401380539,0.13020899891853333,0.029973849654197693,0.013128840364515781,0.10192450135946274,-0.08025553077459335,-0.05746794864535332,0.03895401954650879,0.00816328078508377,0.0883655995130539,-0.11967245489358902,0.1399722844362259,0.04848247393965721,0.10570927709341049,-0.06789107620716095,-0.15428426861763,-0.1708936095237732,0.0776849240064621,0.05678647756576538,-0.048601601272821426,-0.08891796320676804,0.0923178642988205,-0.006099307909607887,-0.0436219684779644,0.09085001796483994,0.05129251629114151,-0.016182301566004753,-0.09698355197906494,-0.045781444758176804,-0.08204139769077301,-0.16777439415454865,0.04154409468173981,-0.026661930605769157,-0.07253656536340714,-0.009381620213389397,-0.14502933621406555,0.1074424684047699,-0.09464770555496216,-0.09195232391357422,0.047048602253198624,-0.10060916841030121,-0.059334445744752884,0.048895709216594696,0.039174634963274,0.023699214681982994,0.05339069291949272,-0.1506730020046234,0.11658725887537003,0.02036403678357601,0.04629902169108391,-0.10219913721084595,-0.12268242985010147,-0.09796832501888275,-0.027960631996393204,-0.0016533822054043412,0.1835239827632904,0.014740070328116417,0.01126759685575962,-0.05479881912469864,-0.040935322642326355,0.06342904269695282,0.03623265400528908,-0.051524896174669266,-0.03873920813202858,-0.11063117533922195,0.04159849137067795,0.01606636866927147,-0.11215865612030029,-0.032586731016635895,0.19759948551654816,-0.001777143799699843,0.06193554028868675,-0.024686060845851898,-0.021327560767531395,-0.15505647659301758,-0.11034107208251953,0.031174276024103165,0.10945681482553482,0.12465177476406097,-0.1003381758928299,0.09049827605485916,-0.10330483317375183,-0.05304842069745064,-0.05645111948251724,-0.047325048595666885,0.05594012886285782,0.09150753170251846,-0.04821740835905075,0.013571643270552158,-0.06215689331293106,-0.11995653808116913,-0.07520734518766403,-0.03632490336894989,-0.02841862104833126,-0.05183916166424751,-0.09076984226703644,-0.09972381591796875,-0.047744590789079666,-0.109508216381073,0.03572528436779976,0.05684496462345123,-0.05165344476699829,-0.047367166727781296,0.11770142614841461,0.008772335946559906,0.02355637028813362,-0.094493068754673,0.06751985102891922,0.05079817399382591,-0.06376619637012482,0.05617276206612587,0.0052375043742358685,0.02077641524374485,0.1593383550643921,-0.09582443535327911,-0.06182857230305672,0.0821416974067688,-0.06635811924934387,-0.05460212007164955,0.0918211117386818,0.05981738120317459,-0.01462297048419714,-0.09488797187805176,0.02336757443845272,0.023269977420568466,0.12112565338611603,0.0056788502261042595,-0.008450658991932869,-0.04372422769665718,-0.1076047345995903,-0.007020185235887766,0.05056188255548477,-0.04272296279668808,0.09059316664934158,0.084396131336689,-0.008559106849133968,-0.12291716784238815,-0.0639394149184227,-0.0385395847260952,0.04373564571142197,0.0859387144446373,0.09649419039487839,-0.06135346367955208,-0.12431643903255463,0.026227260008454323,0.0342087559401989,-0.022941138595342636,-0.08809960633516312,0.09801477193832397,-0.054354555904865265,0.0015720818191766739,-0.09362790733575821,0.02023041434586048,0.003746742382645607,0.0016744735185056925,0.019901705905795097,0.11519137024879456,0.058921992778778076,-0.09276760369539261,-0.04194081202149391,-0.020555667579174042,0.08966132253408432,-0.04903578758239746],\"type\":\"scatter\"}],                        {\"hovermode\":\"closest\",\"title\":{\"text\":\"Word Embeddings\"},\"template\":{\"data\":{\"histogram2dcontour\":[{\"type\":\"histogram2dcontour\",\"colorbar\":{\"outlinewidth\":0,\"ticks\":\"\"},\"colorscale\":[[0.0,\"#0d0887\"],[0.1111111111111111,\"#46039f\"],[0.2222222222222222,\"#7201a8\"],[0.3333333333333333,\"#9c179e\"],[0.4444444444444444,\"#bd3786\"],[0.5555555555555556,\"#d8576b\"],[0.6666666666666666,\"#ed7953\"],[0.7777777777777778,\"#fb9f3a\"],[0.8888888888888888,\"#fdca26\"],[1.0,\"#f0f921\"]]}],\"choropleth\":[{\"type\":\"choropleth\",\"colorbar\":{\"outlinewidth\":0,\"ticks\":\"\"}}],\"histogram2d\":[{\"type\":\"histogram2d\",\"colorbar\":{\"outlinewidth\":0,\"ticks\":\"\"},\"colorscale\":[[0.0,\"#0d0887\"],[0.1111111111111111,\"#46039f\"],[0.2222222222222222,\"#7201a8\"],[0.3333333333333333,\"#9c179e\"],[0.4444444444444444,\"#bd3786\"],[0.5555555555555556,\"#d8576b\"],[0.6666666666666666,\"#ed7953\"],[0.7777777777777778,\"#fb9f3a\"],[0.8888888888888888,\"#fdca26\"],[1.0,\"#f0f921\"]]}],\"heatmap\":[{\"type\":\"heatmap\",\"colorbar\":{\"outlinewidth\":0,\"ticks\":\"\"},\"colorscale\":[[0.0,\"#0d0887\"],[0.1111111111111111,\"#46039f\"],[0.2222222222222222,\"#7201a8\"],[0.3333333333333333,\"#9c179e\"],[0.4444444444444444,\"#bd3786\"],[0.5555555555555556,\"#d8576b\"],[0.6666666666666666,\"#ed7953\"],[0.7777777777777778,\"#fb9f3a\"],[0.8888888888888888,\"#fdca26\"],[1.0,\"#f0f921\"]]}],\"heatmapgl\":[{\"type\":\"heatmapgl\",\"colorbar\":{\"outlinewidth\":0,\"ticks\":\"\"},\"colorscale\":[[0.0,\"#0d0887\"],[0.1111111111111111,\"#46039f\"],[0.2222222222222222,\"#7201a8\"],[0.3333333333333333,\"#9c179e\"],[0.4444444444444444,\"#bd3786\"],[0.5555555555555556,\"#d8576b\"],[0.6666666666666666,\"#ed7953\"],[0.7777777777777778,\"#fb9f3a\"],[0.8888888888888888,\"#fdca26\"],[1.0,\"#f0f921\"]]}],\"contourcarpet\":[{\"type\":\"contourcarpet\",\"colorbar\":{\"outlinewidth\":0,\"ticks\":\"\"}}],\"contour\":[{\"type\":\"contour\",\"colorbar\":{\"outlinewidth\":0,\"ticks\":\"\"},\"colorscale\":[[0.0,\"#0d0887\"],[0.1111111111111111,\"#46039f\"],[0.2222222222222222,\"#7201a8\"],[0.3333333333333333,\"#9c179e\"],[0.4444444444444444,\"#bd3786\"],[0.5555555555555556,\"#d8576b\"],[0.6666666666666666,\"#ed7953\"],[0.7777777777777778,\"#fb9f3a\"],[0.8888888888888888,\"#fdca26\"],[1.0,\"#f0f921\"]]}],\"surface\":[{\"type\":\"surface\",\"colorbar\":{\"outlinewidth\":0,\"ticks\":\"\"},\"colorscale\":[[0.0,\"#0d0887\"],[0.1111111111111111,\"#46039f\"],[0.2222222222222222,\"#7201a8\"],[0.3333333333333333,\"#9c179e\"],[0.4444444444444444,\"#bd3786\"],[0.5555555555555556,\"#d8576b\"],[0.6666666666666666,\"#ed7953\"],[0.7777777777777778,\"#fb9f3a\"],[0.8888888888888888,\"#fdca26\"],[1.0,\"#f0f921\"]]}],\"mesh3d\":[{\"type\":\"mesh3d\",\"colorbar\":{\"outlinewidth\":0,\"ticks\":\"\"}}],\"scatter\":[{\"fillpattern\":{\"fillmode\":\"overlay\",\"size\":10,\"solidity\":0.2},\"type\":\"scatter\"}],\"parcoords\":[{\"type\":\"parcoords\",\"line\":{\"colorbar\":{\"outlinewidth\":0,\"ticks\":\"\"}}}],\"scatterpolargl\":[{\"type\":\"scatterpolargl\",\"marker\":{\"colorbar\":{\"outlinewidth\":0,\"ticks\":\"\"}}}],\"bar\":[{\"error_x\":{\"color\":\"#2a3f5f\"},\"error_y\":{\"color\":\"#2a3f5f\"},\"marker\":{\"line\":{\"color\":\"#E5ECF6\",\"width\":0.5},\"pattern\":{\"fillmode\":\"overlay\",\"size\":10,\"solidity\":0.2}},\"type\":\"bar\"}],\"scattergeo\":[{\"type\":\"scattergeo\",\"marker\":{\"colorbar\":{\"outlinewidth\":0,\"ticks\":\"\"}}}],\"scatterpolar\":[{\"type\":\"scatterpolar\",\"marker\":{\"colorbar\":{\"outlinewidth\":0,\"ticks\":\"\"}}}],\"histogram\":[{\"marker\":{\"pattern\":{\"fillmode\":\"overlay\",\"size\":10,\"solidity\":0.2}},\"type\":\"histogram\"}],\"scattergl\":[{\"type\":\"scattergl\",\"marker\":{\"colorbar\":{\"outlinewidth\":0,\"ticks\":\"\"}}}],\"scatter3d\":[{\"type\":\"scatter3d\",\"line\":{\"colorbar\":{\"outlinewidth\":0,\"ticks\":\"\"}},\"marker\":{\"colorbar\":{\"outlinewidth\":0,\"ticks\":\"\"}}}],\"scattermapbox\":[{\"type\":\"scattermapbox\",\"marker\":{\"colorbar\":{\"outlinewidth\":0,\"ticks\":\"\"}}}],\"scatterternary\":[{\"type\":\"scatterternary\",\"marker\":{\"colorbar\":{\"outlinewidth\":0,\"ticks\":\"\"}}}],\"scattercarpet\":[{\"type\":\"scattercarpet\",\"marker\":{\"colorbar\":{\"outlinewidth\":0,\"ticks\":\"\"}}}],\"carpet\":[{\"aaxis\":{\"endlinecolor\":\"#2a3f5f\",\"gridcolor\":\"white\",\"linecolor\":\"white\",\"minorgridcolor\":\"white\",\"startlinecolor\":\"#2a3f5f\"},\"baxis\":{\"endlinecolor\":\"#2a3f5f\",\"gridcolor\":\"white\",\"linecolor\":\"white\",\"minorgridcolor\":\"white\",\"startlinecolor\":\"#2a3f5f\"},\"type\":\"carpet\"}],\"table\":[{\"cells\":{\"fill\":{\"color\":\"#EBF0F8\"},\"line\":{\"color\":\"white\"}},\"header\":{\"fill\":{\"color\":\"#C8D4E3\"},\"line\":{\"color\":\"white\"}},\"type\":\"table\"}],\"barpolar\":[{\"marker\":{\"line\":{\"color\":\"#E5ECF6\",\"width\":0.5},\"pattern\":{\"fillmode\":\"overlay\",\"size\":10,\"solidity\":0.2}},\"type\":\"barpolar\"}],\"pie\":[{\"automargin\":true,\"type\":\"pie\"}]},\"layout\":{\"autotypenumbers\":\"strict\",\"colorway\":[\"#636efa\",\"#EF553B\",\"#00cc96\",\"#ab63fa\",\"#FFA15A\",\"#19d3f3\",\"#FF6692\",\"#B6E880\",\"#FF97FF\",\"#FECB52\"],\"font\":{\"color\":\"#2a3f5f\"},\"hovermode\":\"closest\",\"hoverlabel\":{\"align\":\"left\"},\"paper_bgcolor\":\"white\",\"plot_bgcolor\":\"#E5ECF6\",\"polar\":{\"bgcolor\":\"#E5ECF6\",\"angularaxis\":{\"gridcolor\":\"white\",\"linecolor\":\"white\",\"ticks\":\"\"},\"radialaxis\":{\"gridcolor\":\"white\",\"linecolor\":\"white\",\"ticks\":\"\"}},\"ternary\":{\"bgcolor\":\"#E5ECF6\",\"aaxis\":{\"gridcolor\":\"white\",\"linecolor\":\"white\",\"ticks\":\"\"},\"baxis\":{\"gridcolor\":\"white\",\"linecolor\":\"white\",\"ticks\":\"\"},\"caxis\":{\"gridcolor\":\"white\",\"linecolor\":\"white\",\"ticks\":\"\"}},\"coloraxis\":{\"colorbar\":{\"outlinewidth\":0,\"ticks\":\"\"}},\"colorscale\":{\"sequential\":[[0.0,\"#0d0887\"],[0.1111111111111111,\"#46039f\"],[0.2222222222222222,\"#7201a8\"],[0.3333333333333333,\"#9c179e\"],[0.4444444444444444,\"#bd3786\"],[0.5555555555555556,\"#d8576b\"],[0.6666666666666666,\"#ed7953\"],[0.7777777777777778,\"#fb9f3a\"],[0.8888888888888888,\"#fdca26\"],[1.0,\"#f0f921\"]],\"sequentialminus\":[[0.0,\"#0d0887\"],[0.1111111111111111,\"#46039f\"],[0.2222222222222222,\"#7201a8\"],[0.3333333333333333,\"#9c179e\"],[0.4444444444444444,\"#bd3786\"],[0.5555555555555556,\"#d8576b\"],[0.6666666666666666,\"#ed7953\"],[0.7777777777777778,\"#fb9f3a\"],[0.8888888888888888,\"#fdca26\"],[1.0,\"#f0f921\"]],\"diverging\":[[0,\"#8e0152\"],[0.1,\"#c51b7d\"],[0.2,\"#de77ae\"],[0.3,\"#f1b6da\"],[0.4,\"#fde0ef\"],[0.5,\"#f7f7f7\"],[0.6,\"#e6f5d0\"],[0.7,\"#b8e186\"],[0.8,\"#7fbc41\"],[0.9,\"#4d9221\"],[1,\"#276419\"]]},\"xaxis\":{\"gridcolor\":\"white\",\"linecolor\":\"white\",\"ticks\":\"\",\"title\":{\"standoff\":15},\"zerolinecolor\":\"white\",\"automargin\":true,\"zerolinewidth\":2},\"yaxis\":{\"gridcolor\":\"white\",\"linecolor\":\"white\",\"ticks\":\"\",\"title\":{\"standoff\":15},\"zerolinecolor\":\"white\",\"automargin\":true,\"zerolinewidth\":2},\"scene\":{\"xaxis\":{\"backgroundcolor\":\"#E5ECF6\",\"gridcolor\":\"white\",\"linecolor\":\"white\",\"showbackground\":true,\"ticks\":\"\",\"zerolinecolor\":\"white\",\"gridwidth\":2},\"yaxis\":{\"backgroundcolor\":\"#E5ECF6\",\"gridcolor\":\"white\",\"linecolor\":\"white\",\"showbackground\":true,\"ticks\":\"\",\"zerolinecolor\":\"white\",\"gridwidth\":2},\"zaxis\":{\"backgroundcolor\":\"#E5ECF6\",\"gridcolor\":\"white\",\"linecolor\":\"white\",\"showbackground\":true,\"ticks\":\"\",\"zerolinecolor\":\"white\",\"gridwidth\":2}},\"shapedefaults\":{\"line\":{\"color\":\"#2a3f5f\"}},\"annotationdefaults\":{\"arrowcolor\":\"#2a3f5f\",\"arrowhead\":0,\"arrowwidth\":1},\"geo\":{\"bgcolor\":\"white\",\"landcolor\":\"#E5ECF6\",\"subunitcolor\":\"white\",\"showland\":true,\"showlakes\":true,\"lakecolor\":\"white\"},\"title\":{\"x\":0.05},\"mapbox\":{\"style\":\"light\"}}}},                        {\"responsive\": true}                    ).then(function(){\n",
              "                            \n",
              "var gd = document.getElementById('8f626796-f51b-4b7a-9c56-68c4bfd2d3dd');\n",
              "var x = new MutationObserver(function (mutations, observer) {{\n",
              "        var display = window.getComputedStyle(gd).display;\n",
              "        if (!display || display === 'none') {{\n",
              "            console.log([gd, 'removed!']);\n",
              "            Plotly.purge(gd);\n",
              "            observer.disconnect();\n",
              "        }}\n",
              "}});\n",
              "\n",
              "// Listen for the removal of the full notebook cells\n",
              "var notebookContainer = gd.closest('#notebook-container');\n",
              "if (notebookContainer) {{\n",
              "    x.observe(notebookContainer, {childList: true});\n",
              "}}\n",
              "\n",
              "// Listen for the clearing of the current output cell\n",
              "var outputEl = gd.closest('.output');\n",
              "if (outputEl) {{\n",
              "    x.observe(outputEl, {childList: true});\n",
              "}}\n",
              "\n",
              "                        })                };                            </script>        </div>\n",
              "</body>\n",
              "</html>"
            ]
          },
          "metadata": {},
          "output_type": "display_data"
        }
      ],
      "source": [
        "def plot_embeddings(embeddings, start, num_words):\n",
        "  # Get 1st and 2nd embeddings for the desired tokens\n",
        "  x1 = embeddings[start:start+num_words, 0]\n",
        "  x2 = embeddings[start:start+num_words, 1]\n",
        "\n",
        "  # Get the specified words from our encoding to word dict\n",
        "  words = [encode_to_words[i] for i in range(start, start+num_words)]\n",
        "\n",
        "  # Plot \n",
        "  data = plotly.Scatter(x=x1, y=x2, text=words, mode='markers', \n",
        "                        textposition='bottom left', hoverinfo='text')\n",
        "  \n",
        "  fig = plotly.Figure(data=[data], layout=plotly.Layout(\n",
        "                                           title=\"Word Embeddings\",\n",
        "                                           hovermode='closest'))\n",
        "  fig.show()\n",
        "\n",
        "# Plot just enough words for us to analyze\n",
        "plot_embeddings(embeddings, 1000, 1000)"
      ]
    },
    {
      "cell_type": "markdown",
      "metadata": {
        "id": "LJ2QOB3KUXyW"
      },
      "source": [
        "We can observe that nouns such as \"cinema\" and \"residential\" tend to be clustered near the center. On the extreme lower and upper quadrants, other non-related words to disasters are plotted. The word \"arent\" is plotted in the lower left quadrant while \"palestinian\" and \"yyc\" are plotted in the upper right quadrant. Additionally, we can observe that, in this same quadrant, related words such as \"storm\", \"abstorm\", and \"powerlines\" are grouped together. Furthering this point, the words \"shot\" and \"battlefield\" are close together around the middle.\n",
        "\n",
        "From this, we can conclude that our model is succesfully grouping related words close together in our embedding space while keeping unrelated ones farther out in the extremes. It isn't a very telling indicator of whether Tweets are being classified correctly, but it does let us know that our model has correctly established associations between words in our vocabulary."
      ]
    },
    {
      "cell_type": "markdown",
      "metadata": {
        "id": "mA826zSlaM5g"
      },
      "source": [
        "## Analyzing Errors"
      ]
    },
    {
      "cell_type": "markdown",
      "metadata": {
        "id": "qxQWDeDnaRRV"
      },
      "source": [
        "### Identifying Errors"
      ]
    },
    {
      "cell_type": "markdown",
      "metadata": {
        "id": "ViRsENoAamW4"
      },
      "source": [
        "In order to better understand in what areas V1 failed, let's identify potential sources of error by examining our model's predictions in contrast to the actual results."
      ]
    },
    {
      "cell_type": "code",
      "execution_count": null,
      "metadata": {
        "colab": {
          "base_uri": "https://localhost:8080/"
        },
        "id": "qrROs90za558",
        "outputId": "7fc83742-1d97-4061-ebbc-b4d291bf366e"
      },
      "outputs": [
        {
          "name": "stdout",
          "output_type": "stream",
          "text": [
            "                                             Tweet  Model Predictions  Actual Predictions\n",
            "                           @tsunami_esh ?? hey Esh                  1                   0\n",
            "                #np agalloch - the desolation song                  1                   0\n",
            "Hollywood Movie About Trapped Miners Released in C                  0                   1\n",
            "The Catastrophic Effects of Hiroshima and Nagasaki                  0                   1\n",
            "sorry-I built a fire by my desk already. RT@irishi                  1                   0\n",
            "Witness video shows car explode behind burning bui                  0                   1\n",
            "Sweetpea's are running riot at the allotment - and                  0                   1\n",
            "After a violent afternoon storm more severe weathe                  0                   1\n",
            "Everyday is a near death fatality for me on the ro                  1                   0\n",
            "I just added 'Sandy First Responders Lost Their Ho                  0                   1\n"
          ]
        }
      ],
      "source": [
        "error_dict = {'Tweet': [], 'Model Predictions': [], 'Actual Predictions': []}\n",
        "Y = Y_test['target'].tolist() # easier indexing\n",
        "# Add desired values into dict\n",
        "for i, tweet in enumerate(X_test['text'][:25]):\n",
        "  # Only display discrepancies\n",
        "  if Y[i] != v1_predictions[i]:\n",
        "    # shorten tweet length for easier visualization\n",
        "    error_dict['Tweet'].append(tweet[:50])  \n",
        "    error_dict['Model Predictions'].append(v1_predictions[i])\n",
        "    error_dict['Actual Predictions'].append(Y[i])\n",
        "\n",
        "# Tabulate results\n",
        "df = pd.DataFrame(error_dict)\n",
        "print(df.to_string(index=False))"
      ]
    },
    {
      "cell_type": "markdown",
      "metadata": {
        "id": "3IjmVzuMd1yU"
      },
      "source": [
        "V1 classifies Tweets with the words \"desolation\", \"fire\", and \"death\" as natural disasters, despite this clearly not being the case. Tweets with the words \"catastrophic\", \"trapped\", \"explode\", and \"storm\" are not classified as natural disasters despite these words being strong indicators of that being the case. Let's examine how many times some of these words appear in the training data."
      ]
    },
    {
      "cell_type": "markdown",
      "metadata": {
        "id": "KEtnsyHefijI"
      },
      "source": [
        "|Word|Frequency||\n",
        "|-|-|-|\n",
        "|desolation|71|\n",
        "|fire|756|\n",
        "|death|193|\n",
        "|catastrophic|64|\n",
        "|explode|149|\n",
        "|storm|650|"
      ]
    },
    {
      "cell_type": "markdown",
      "metadata": {
        "id": "h8PJ2CDIf_tK"
      },
      "source": [
        "By examining the Excel file for the training data and searching up the total number of occurrences for each of the previous words, we can generalize that the words the model classified as false positives were present in more Tweets than those classified as false negatives, on average. Since the model encounters these words more often, it is more likely to associate them with natural disasters."
      ]
    },
    {
      "cell_type": "markdown",
      "metadata": {
        "id": "b572fxBeaYH5"
      },
      "source": [
        "### Addressing Errors "
      ]
    },
    {
      "cell_type": "markdown",
      "metadata": {
        "id": "YxGfl_IwgkP4"
      },
      "source": [
        "Given the previous observations, we can conclude that our cleaning of the data was handled appropriately, given how most of the Tweets were preserved and the word embeddings clustered related words together. However, this model could be significantly improved by handling our vocabulary encoding in a completely different way.\n",
        "\n",
        "With our observations in the previous section, we concluded that V1 favored words with higher frequencies. This is because we organized our vocabulary in a similar fashion. As a result, we subconsciously ignored an important point: words are not being encoded based on importance to the overall text. In other words, more neutral words such as \"rum\", with an ID of 6926, may end up of greater interest than intended to the model. Additionally, when cutting down on our vocabulary, we may unintentionally end up discarding useful keywords from it. Luckily, there exists a vocabulary vectorizer that overcomes these problems: TF-IDF.\n",
        "\n",
        "TF-IDF stands for Term Frequency-Inverse Document Frequency and it refers to a process of encoding words in text by not only observing their frequency but also their importance in the text. It assigns each word a score calculated via a combination of their frequency and how often that word appears throughout the entire document being analyzed. A word's score increases by having a higher frequency while being lowered by appearing in more documents, hence the IDF term. This ensures that non-important words that appear constantly, such as \"the\", are assigned lower scores, which allows the models to focus on more relevant keywords. Based on each word's score, we can then make the decision of removing the bottom *n* lowest rated words from our vocabulary. In this way, we can safely remove words from our vocabulary that aren't too important instead of blindly discarding arbitrary words. By weighting words and considering their relevance in the text, it becomes a much better approach to word encoding than organizing words by frequency or randomly assigning them an ID. This reduces our model's complexity and allows it to focus on more indicative keywords.\n",
        "\n",
        "A final way of improving upon our model is to switch out the underlying algorithm and instead build a Naive Bayes Classifier. Naive Bayes is a probabilistic classifier which assumes that each feature is independent of other features in the class. Each feature discovered contributes towards the final classification regardless of any possible correlations between other features. This would allow our model to weigh and consider each keyword individually, which could help in spotting correlations between keywords and a final classification more accurately. Additionally, it utilizes Bayes' Theorem which describes the probability of an event ocurring based on prior knowledge related to said event. By taking prior Tweets classified as disasters into consideration, along with the previous corrections, we could produce a vastly more accurate model. In being a probabilistic classifier commonly used in text classification and sentiment analysis, it could make up for our shortcomings and provide more accurate results than the models and methods applied here."
      ]
    }
  ],
  "metadata": {
    "colab": {
      "collapsed_sections": [
        "ZHn5toyMX-3s",
        "L72L9DGpcQQ2",
        "ceYt5aP9YfBh",
        "1WA6Rd8nckTJ",
        "uNRXEYhpYgYF",
        "0zvMSrBwYe_5",
        "qh9PmmnlJxDm",
        "pWTrDfhabvIx"
      ],
      "provenance": [],
      "toc_visible": true
    },
    "kernelspec": {
      "display_name": "Python 3",
      "name": "python3"
    },
    "language_info": {
      "name": "python"
    }
  },
  "nbformat": 4,
  "nbformat_minor": 0
}
